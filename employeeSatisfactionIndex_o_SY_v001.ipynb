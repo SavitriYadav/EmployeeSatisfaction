{
 "cells": [
  {
   "cell_type": "markdown",
   "metadata": {},
   "source": [
    "## Importing Modules"
   ]
  },
  {
   "cell_type": "code",
   "execution_count": 88,
   "metadata": {
    "ExecuteTime": {
     "end_time": "2021-11-08T06:38:51.616676Z",
     "start_time": "2021-11-08T06:38:51.604886Z"
    }
   },
   "outputs": [],
   "source": [
    "import numpy as np\n",
    "import pandas as pd\n",
    "import matplotlib.pyplot as plt\n",
    "import seaborn as sns\n",
    "%matplotlib inline\n",
    "from scipy.stats import norm\n",
    "from collections import Counter\n",
    "\n",
    "from sklearn.model_selection import train_test_split\n",
    "import os,sys\n",
    "from sklearn.preprocessing import StandardScaler, normalize\n",
    "from sklearn.cluster import KMeans\n",
    "from sklearn.neighbors import KNeighborsClassifier\n",
    "from scipy import stats\n",
    "import sklearn.preprocessing as pp\n",
    "\n",
    "from sklearn import metrics\n",
    "from sklearn.metrics import silhouette_score\n",
    "from sklearn.metrics import confusion_matrix\n"
   ]
  },
  {
   "cell_type": "markdown",
   "metadata": {},
   "source": [
    "## EDA"
   ]
  },
  {
   "cell_type": "code",
   "execution_count": 89,
   "metadata": {
    "ExecuteTime": {
     "end_time": "2021-11-08T06:38:55.951918Z",
     "start_time": "2021-11-08T06:38:55.921203Z"
    }
   },
   "outputs": [
    {
     "name": "stdout",
     "output_type": "stream",
     "text": [
      "   Unnamed: 0    emp_id  age        Dept location education  \\\n",
      "0           0    HR8270   28          HR   Suburb        PG   \n",
      "1           1  TECH1860   50  Technology   Suburb        PG   \n",
      "2           2  TECH6390   43  Technology   Suburb        UG   \n",
      "3           3   SAL6191   44       Sales     City        PG   \n",
      "4           4    HR6734   33          HR     City        UG   \n",
      "\n",
      "     recruitment_type  job_level  rating  onsite  awards  certifications  \\\n",
      "0            Referral          5       2       0       1               0   \n",
      "1             Walk-in          3       5       1       2               1   \n",
      "2            Referral          4       1       0       2               0   \n",
      "3           On-Campus          2       3       1       0               0   \n",
      "4  Recruitment Agency          2       1       0       5               0   \n",
      "\n",
      "   salary  satisfied  \n",
      "0   86750          1  \n",
      "1   42419          0  \n",
      "2   65715          0  \n",
      "3   29805          1  \n",
      "4   29805          1  \n",
      "(500, 14)\n",
      "7000\n"
     ]
    }
   ],
   "source": [
    "df = pd.read_csv('Employee Satisfaction Index.csv')\n",
    "print(df.head())\n",
    "print(df.shape)\n",
    "print(df.size)"
   ]
  },
  {
   "cell_type": "code",
   "execution_count": 90,
   "metadata": {
    "ExecuteTime": {
     "end_time": "2021-11-08T06:38:58.559877Z",
     "start_time": "2021-11-08T06:38:58.531567Z"
    }
   },
   "outputs": [
    {
     "data": {
      "text/html": [
       "<div>\n",
       "<style scoped>\n",
       "    .dataframe tbody tr th:only-of-type {\n",
       "        vertical-align: middle;\n",
       "    }\n",
       "\n",
       "    .dataframe tbody tr th {\n",
       "        vertical-align: top;\n",
       "    }\n",
       "\n",
       "    .dataframe thead th {\n",
       "        text-align: right;\n",
       "    }\n",
       "</style>\n",
       "<table border=\"1\" class=\"dataframe\">\n",
       "  <thead>\n",
       "    <tr style=\"text-align: right;\">\n",
       "      <th></th>\n",
       "      <th>age</th>\n",
       "      <th>Dept</th>\n",
       "      <th>location</th>\n",
       "      <th>education</th>\n",
       "      <th>recruitment_type</th>\n",
       "      <th>job_level</th>\n",
       "      <th>rating</th>\n",
       "      <th>onsite</th>\n",
       "      <th>awards</th>\n",
       "      <th>certifications</th>\n",
       "      <th>salary</th>\n",
       "      <th>satisfied</th>\n",
       "    </tr>\n",
       "  </thead>\n",
       "  <tbody>\n",
       "    <tr>\n",
       "      <th>0</th>\n",
       "      <td>28</td>\n",
       "      <td>HR</td>\n",
       "      <td>Suburb</td>\n",
       "      <td>PG</td>\n",
       "      <td>Referral</td>\n",
       "      <td>5</td>\n",
       "      <td>2</td>\n",
       "      <td>0</td>\n",
       "      <td>1</td>\n",
       "      <td>0</td>\n",
       "      <td>86750</td>\n",
       "      <td>1</td>\n",
       "    </tr>\n",
       "    <tr>\n",
       "      <th>1</th>\n",
       "      <td>50</td>\n",
       "      <td>Technology</td>\n",
       "      <td>Suburb</td>\n",
       "      <td>PG</td>\n",
       "      <td>Walk-in</td>\n",
       "      <td>3</td>\n",
       "      <td>5</td>\n",
       "      <td>1</td>\n",
       "      <td>2</td>\n",
       "      <td>1</td>\n",
       "      <td>42419</td>\n",
       "      <td>0</td>\n",
       "    </tr>\n",
       "    <tr>\n",
       "      <th>2</th>\n",
       "      <td>43</td>\n",
       "      <td>Technology</td>\n",
       "      <td>Suburb</td>\n",
       "      <td>UG</td>\n",
       "      <td>Referral</td>\n",
       "      <td>4</td>\n",
       "      <td>1</td>\n",
       "      <td>0</td>\n",
       "      <td>2</td>\n",
       "      <td>0</td>\n",
       "      <td>65715</td>\n",
       "      <td>0</td>\n",
       "    </tr>\n",
       "    <tr>\n",
       "      <th>3</th>\n",
       "      <td>44</td>\n",
       "      <td>Sales</td>\n",
       "      <td>City</td>\n",
       "      <td>PG</td>\n",
       "      <td>On-Campus</td>\n",
       "      <td>2</td>\n",
       "      <td>3</td>\n",
       "      <td>1</td>\n",
       "      <td>0</td>\n",
       "      <td>0</td>\n",
       "      <td>29805</td>\n",
       "      <td>1</td>\n",
       "    </tr>\n",
       "    <tr>\n",
       "      <th>4</th>\n",
       "      <td>33</td>\n",
       "      <td>HR</td>\n",
       "      <td>City</td>\n",
       "      <td>UG</td>\n",
       "      <td>Recruitment Agency</td>\n",
       "      <td>2</td>\n",
       "      <td>1</td>\n",
       "      <td>0</td>\n",
       "      <td>5</td>\n",
       "      <td>0</td>\n",
       "      <td>29805</td>\n",
       "      <td>1</td>\n",
       "    </tr>\n",
       "  </tbody>\n",
       "</table>\n",
       "</div>"
      ],
      "text/plain": [
       "   age        Dept location education    recruitment_type  job_level  rating  \\\n",
       "0   28          HR   Suburb        PG            Referral          5       2   \n",
       "1   50  Technology   Suburb        PG             Walk-in          3       5   \n",
       "2   43  Technology   Suburb        UG            Referral          4       1   \n",
       "3   44       Sales     City        PG           On-Campus          2       3   \n",
       "4   33          HR     City        UG  Recruitment Agency          2       1   \n",
       "\n",
       "   onsite  awards  certifications  salary  satisfied  \n",
       "0       0       1               0   86750          1  \n",
       "1       1       2               1   42419          0  \n",
       "2       0       2               0   65715          0  \n",
       "3       1       0               0   29805          1  \n",
       "4       0       5               0   29805          1  "
      ]
     },
     "execution_count": 90,
     "metadata": {},
     "output_type": "execute_result"
    }
   ],
   "source": [
    "df.drop(['Unnamed: 0','emp_id'],axis=1,inplace=True)\n",
    "df.head()"
   ]
  },
  {
   "cell_type": "code",
   "execution_count": 91,
   "metadata": {
    "ExecuteTime": {
     "end_time": "2021-11-08T06:39:04.150943Z",
     "start_time": "2021-11-08T06:39:04.138380Z"
    }
   },
   "outputs": [
    {
     "data": {
      "text/plain": [
       "(500, 12)"
      ]
     },
     "execution_count": 91,
     "metadata": {},
     "output_type": "execute_result"
    }
   ],
   "source": [
    "df.shape"
   ]
  },
  {
   "cell_type": "code",
   "execution_count": 92,
   "metadata": {
    "ExecuteTime": {
     "end_time": "2021-11-08T06:39:05.823085Z",
     "start_time": "2021-11-08T06:39:05.811181Z"
    }
   },
   "outputs": [
    {
     "data": {
      "text/plain": [
       "6000"
      ]
     },
     "execution_count": 92,
     "metadata": {},
     "output_type": "execute_result"
    }
   ],
   "source": [
    "df.size"
   ]
  },
  {
   "cell_type": "code",
   "execution_count": 93,
   "metadata": {
    "ExecuteTime": {
     "end_time": "2021-11-08T06:39:06.950917Z",
     "start_time": "2021-11-08T06:39:06.928038Z"
    }
   },
   "outputs": [
    {
     "data": {
      "text/plain": [
       "0"
      ]
     },
     "execution_count": 93,
     "metadata": {},
     "output_type": "execute_result"
    }
   ],
   "source": [
    "df.duplicated().sum()"
   ]
  },
  {
   "cell_type": "code",
   "execution_count": 94,
   "metadata": {
    "ExecuteTime": {
     "end_time": "2021-11-08T06:39:08.436982Z",
     "start_time": "2021-11-08T06:39:08.421344Z"
    }
   },
   "outputs": [
    {
     "data": {
      "text/plain": [
       "(500, 12)"
      ]
     },
     "execution_count": 94,
     "metadata": {},
     "output_type": "execute_result"
    }
   ],
   "source": [
    "df.shape"
   ]
  },
  {
   "cell_type": "code",
   "execution_count": 95,
   "metadata": {
    "ExecuteTime": {
     "end_time": "2021-11-08T06:39:10.613083Z",
     "start_time": "2021-11-08T06:39:10.590798Z"
    }
   },
   "outputs": [
    {
     "name": "stdout",
     "output_type": "stream",
     "text": [
      "<class 'pandas.core.frame.DataFrame'>\n",
      "RangeIndex: 500 entries, 0 to 499\n",
      "Data columns (total 12 columns):\n",
      " #   Column            Non-Null Count  Dtype \n",
      "---  ------            --------------  ----- \n",
      " 0   age               500 non-null    int64 \n",
      " 1   Dept              500 non-null    object\n",
      " 2   location          500 non-null    object\n",
      " 3   education         500 non-null    object\n",
      " 4   recruitment_type  500 non-null    object\n",
      " 5   job_level         500 non-null    int64 \n",
      " 6   rating            500 non-null    int64 \n",
      " 7   onsite            500 non-null    int64 \n",
      " 8   awards            500 non-null    int64 \n",
      " 9   certifications    500 non-null    int64 \n",
      " 10  salary            500 non-null    int64 \n",
      " 11  satisfied         500 non-null    int64 \n",
      "dtypes: int64(8), object(4)\n",
      "memory usage: 47.0+ KB\n"
     ]
    }
   ],
   "source": [
    "df.info()"
   ]
  },
  {
   "cell_type": "code",
   "execution_count": 96,
   "metadata": {
    "ExecuteTime": {
     "end_time": "2021-11-08T06:39:11.753640Z",
     "start_time": "2021-11-08T06:39:11.710589Z"
    }
   },
   "outputs": [
    {
     "data": {
      "text/html": [
       "<div>\n",
       "<style scoped>\n",
       "    .dataframe tbody tr th:only-of-type {\n",
       "        vertical-align: middle;\n",
       "    }\n",
       "\n",
       "    .dataframe tbody tr th {\n",
       "        vertical-align: top;\n",
       "    }\n",
       "\n",
       "    .dataframe thead th {\n",
       "        text-align: right;\n",
       "    }\n",
       "</style>\n",
       "<table border=\"1\" class=\"dataframe\">\n",
       "  <thead>\n",
       "    <tr style=\"text-align: right;\">\n",
       "      <th></th>\n",
       "      <th>age</th>\n",
       "      <th>job_level</th>\n",
       "      <th>rating</th>\n",
       "      <th>onsite</th>\n",
       "      <th>awards</th>\n",
       "      <th>certifications</th>\n",
       "      <th>salary</th>\n",
       "      <th>satisfied</th>\n",
       "    </tr>\n",
       "  </thead>\n",
       "  <tbody>\n",
       "    <tr>\n",
       "      <th>count</th>\n",
       "      <td>500.000000</td>\n",
       "      <td>500.000000</td>\n",
       "      <td>500.000000</td>\n",
       "      <td>500.000000</td>\n",
       "      <td>500.000000</td>\n",
       "      <td>500.000000</td>\n",
       "      <td>500.000000</td>\n",
       "      <td>500.000000</td>\n",
       "    </tr>\n",
       "    <tr>\n",
       "      <th>mean</th>\n",
       "      <td>38.610000</td>\n",
       "      <td>3.032000</td>\n",
       "      <td>3.072000</td>\n",
       "      <td>0.466000</td>\n",
       "      <td>4.538000</td>\n",
       "      <td>0.496000</td>\n",
       "      <td>50416.056000</td>\n",
       "      <td>0.526000</td>\n",
       "    </tr>\n",
       "    <tr>\n",
       "      <th>std</th>\n",
       "      <td>9.438648</td>\n",
       "      <td>1.423738</td>\n",
       "      <td>1.425089</td>\n",
       "      <td>0.499342</td>\n",
       "      <td>2.853215</td>\n",
       "      <td>0.500485</td>\n",
       "      <td>23671.392661</td>\n",
       "      <td>0.499824</td>\n",
       "    </tr>\n",
       "    <tr>\n",
       "      <th>min</th>\n",
       "      <td>23.000000</td>\n",
       "      <td>1.000000</td>\n",
       "      <td>1.000000</td>\n",
       "      <td>0.000000</td>\n",
       "      <td>0.000000</td>\n",
       "      <td>0.000000</td>\n",
       "      <td>24076.000000</td>\n",
       "      <td>0.000000</td>\n",
       "    </tr>\n",
       "    <tr>\n",
       "      <th>25%</th>\n",
       "      <td>30.000000</td>\n",
       "      <td>2.000000</td>\n",
       "      <td>2.000000</td>\n",
       "      <td>0.000000</td>\n",
       "      <td>2.000000</td>\n",
       "      <td>0.000000</td>\n",
       "      <td>29805.000000</td>\n",
       "      <td>0.000000</td>\n",
       "    </tr>\n",
       "    <tr>\n",
       "      <th>50%</th>\n",
       "      <td>39.000000</td>\n",
       "      <td>3.000000</td>\n",
       "      <td>3.000000</td>\n",
       "      <td>0.000000</td>\n",
       "      <td>5.000000</td>\n",
       "      <td>0.000000</td>\n",
       "      <td>42419.000000</td>\n",
       "      <td>1.000000</td>\n",
       "    </tr>\n",
       "    <tr>\n",
       "      <th>75%</th>\n",
       "      <td>47.000000</td>\n",
       "      <td>4.000000</td>\n",
       "      <td>4.000000</td>\n",
       "      <td>1.000000</td>\n",
       "      <td>7.000000</td>\n",
       "      <td>1.000000</td>\n",
       "      <td>65715.000000</td>\n",
       "      <td>1.000000</td>\n",
       "    </tr>\n",
       "    <tr>\n",
       "      <th>max</th>\n",
       "      <td>54.000000</td>\n",
       "      <td>5.000000</td>\n",
       "      <td>5.000000</td>\n",
       "      <td>1.000000</td>\n",
       "      <td>9.000000</td>\n",
       "      <td>1.000000</td>\n",
       "      <td>86750.000000</td>\n",
       "      <td>1.000000</td>\n",
       "    </tr>\n",
       "  </tbody>\n",
       "</table>\n",
       "</div>"
      ],
      "text/plain": [
       "              age   job_level      rating      onsite      awards  \\\n",
       "count  500.000000  500.000000  500.000000  500.000000  500.000000   \n",
       "mean    38.610000    3.032000    3.072000    0.466000    4.538000   \n",
       "std      9.438648    1.423738    1.425089    0.499342    2.853215   \n",
       "min     23.000000    1.000000    1.000000    0.000000    0.000000   \n",
       "25%     30.000000    2.000000    2.000000    0.000000    2.000000   \n",
       "50%     39.000000    3.000000    3.000000    0.000000    5.000000   \n",
       "75%     47.000000    4.000000    4.000000    1.000000    7.000000   \n",
       "max     54.000000    5.000000    5.000000    1.000000    9.000000   \n",
       "\n",
       "       certifications        salary   satisfied  \n",
       "count      500.000000    500.000000  500.000000  \n",
       "mean         0.496000  50416.056000    0.526000  \n",
       "std          0.500485  23671.392661    0.499824  \n",
       "min          0.000000  24076.000000    0.000000  \n",
       "25%          0.000000  29805.000000    0.000000  \n",
       "50%          0.000000  42419.000000    1.000000  \n",
       "75%          1.000000  65715.000000    1.000000  \n",
       "max          1.000000  86750.000000    1.000000  "
      ]
     },
     "execution_count": 96,
     "metadata": {},
     "output_type": "execute_result"
    }
   ],
   "source": [
    "df.describe()"
   ]
  },
  {
   "cell_type": "code",
   "execution_count": 97,
   "metadata": {
    "ExecuteTime": {
     "end_time": "2021-11-08T06:39:13.549016Z",
     "start_time": "2021-11-08T06:39:13.538616Z"
    }
   },
   "outputs": [
    {
     "data": {
      "text/plain": [
       "(array(['HR', 'Technology', 'Sales', 'Purchasing', 'Marketing'],\n",
       "       dtype=object),\n",
       " array(['Suburb', 'City'], dtype=object),\n",
       " array(['PG', 'UG'], dtype=object),\n",
       " array(['Referral', 'Walk-in', 'On-Campus', 'Recruitment Agency'],\n",
       "       dtype=object))"
      ]
     },
     "execution_count": 97,
     "metadata": {},
     "output_type": "execute_result"
    }
   ],
   "source": [
    "df.Dept.unique(),df.location.unique(),df.education.unique(),df.recruitment_type.unique()"
   ]
  },
  {
   "cell_type": "code",
   "execution_count": 98,
   "metadata": {
    "ExecuteTime": {
     "end_time": "2021-11-08T06:39:15.005632Z",
     "start_time": "2021-11-08T06:39:14.991830Z"
    }
   },
   "outputs": [
    {
     "data": {
      "text/plain": [
       "PG    254\n",
       "UG    246\n",
       "Name: education, dtype: int64"
      ]
     },
     "execution_count": 98,
     "metadata": {},
     "output_type": "execute_result"
    }
   ],
   "source": [
    "df['education'].value_counts()"
   ]
  },
  {
   "cell_type": "code",
   "execution_count": 99,
   "metadata": {
    "ExecuteTime": {
     "end_time": "2021-11-08T06:39:16.304392Z",
     "start_time": "2021-11-08T06:39:16.285845Z"
    }
   },
   "outputs": [
    {
     "data": {
      "text/plain": [
       "Purchasing    109\n",
       "HR            106\n",
       "Technology     98\n",
       "Marketing      95\n",
       "Sales          92\n",
       "Name: Dept, dtype: int64"
      ]
     },
     "execution_count": 99,
     "metadata": {},
     "output_type": "execute_result"
    }
   ],
   "source": [
    "df['Dept'].value_counts()"
   ]
  },
  {
   "cell_type": "code",
   "execution_count": 100,
   "metadata": {
    "ExecuteTime": {
     "end_time": "2021-11-08T06:39:17.566828Z",
     "start_time": "2021-11-08T06:39:17.555952Z"
    }
   },
   "outputs": [
    {
     "data": {
      "text/plain": [
       "City      259\n",
       "Suburb    241\n",
       "Name: location, dtype: int64"
      ]
     },
     "execution_count": 100,
     "metadata": {},
     "output_type": "execute_result"
    }
   ],
   "source": [
    "df['location'].value_counts()"
   ]
  },
  {
   "cell_type": "code",
   "execution_count": 101,
   "metadata": {
    "ExecuteTime": {
     "end_time": "2021-11-08T06:39:18.619806Z",
     "start_time": "2021-11-08T06:39:18.606109Z"
    }
   },
   "outputs": [
    {
     "data": {
      "text/plain": [
       "On-Campus             133\n",
       "Referral              131\n",
       "Walk-in               128\n",
       "Recruitment Agency    108\n",
       "Name: recruitment_type, dtype: int64"
      ]
     },
     "execution_count": 101,
     "metadata": {},
     "output_type": "execute_result"
    }
   ],
   "source": [
    "df['recruitment_type'].value_counts()"
   ]
  },
  {
   "cell_type": "code",
   "execution_count": 102,
   "metadata": {
    "ExecuteTime": {
     "end_time": "2021-11-08T06:39:19.722103Z",
     "start_time": "2021-11-08T06:39:19.705846Z"
    }
   },
   "outputs": [
    {
     "data": {
      "text/plain": [
       "1    263\n",
       "0    237\n",
       "Name: satisfied, dtype: int64"
      ]
     },
     "execution_count": 102,
     "metadata": {},
     "output_type": "execute_result"
    }
   ],
   "source": [
    "df['satisfied'].value_counts()"
   ]
  },
  {
   "cell_type": "code",
   "execution_count": 103,
   "metadata": {
    "ExecuteTime": {
     "end_time": "2021-11-08T06:39:29.464004Z",
     "start_time": "2021-11-08T06:39:20.893309Z"
    }
   },
   "outputs": [
    {
     "data": {
      "text/plain": [
       "<seaborn.axisgrid.PairGrid at 0x225794ccdf0>"
      ]
     },
     "execution_count": 103,
     "metadata": {},
     "output_type": "execute_result"
    },
    {
     "data": {
      "image/png": "[encoded data removed]",
      "text/plain": [
       "<Figure size 1440x1440 with 72 Axes>"
      ]
     },
     "metadata": {
      "needs_background": "light"
     },
     "output_type": "display_data"
    }
   ],
   "source": [
    "sns.pairplot(df)"
   ]
  },
  {
   "cell_type": "code",
   "execution_count": 104,
   "metadata": {
    "ExecuteTime": {
     "end_time": "2021-11-08T06:39:29.663523Z",
     "start_time": "2021-11-08T06:39:29.466570Z"
    }
   },
   "outputs": [
    {
     "name": "stderr",
     "output_type": "stream",
     "text": [
      "C:\\Users\\ysavi\\Anaconda3\\lib\\site-packages\\seaborn\\distributions.py:2551: FutureWarning: `distplot` is a deprecated function and will be removed in a future version. Please adapt your code to use either `displot` (a figure-level function with similar flexibility) or `histplot` (an axes-level function for histograms).\n",
      "  warnings.warn(msg, FutureWarning)\n"
     ]
    },
    {
     "data": {
      "text/plain": [
       "<AxesSubplot:xlabel='salary', ylabel='Density'>"
      ]
     },
     "execution_count": 104,
     "metadata": {},
     "output_type": "execute_result"
    },
    {
     "data": {
      "image/png": "[encoded data removed]",
      "text/plain": [
       "<Figure size 432x288 with 1 Axes>"
      ]
     },
     "metadata": {
      "needs_background": "light"
     },
     "output_type": "display_data"
    }
   ],
   "source": [
    "sns.distplot(df['salary'],fit = norm)"
   ]
  },
  {
   "cell_type": "code",
   "execution_count": 105,
   "metadata": {
    "ExecuteTime": {
     "end_time": "2021-11-08T06:39:30.422011Z",
     "start_time": "2021-11-08T06:39:29.666679Z"
    }
   },
   "outputs": [
    {
     "data": {
      "text/plain": [
       "<AxesSubplot:>"
      ]
     },
     "execution_count": 105,
     "metadata": {},
     "output_type": "execute_result"
    },
    {
     "data": {
      "image/png": "[encoded data removed]",
      "text/plain": [
       "<Figure size 720x360 with 2 Axes>"
      ]
     },
     "metadata": {
      "needs_background": "light"
     },
     "output_type": "display_data"
    }
   ],
   "source": [
    "plt.figure(1,figsize=(10,5))\n",
    "sns.heatmap(df.corr(), annot=True)"
   ]
  },
  {
   "cell_type": "markdown",
   "metadata": {},
   "source": [
    "Here strong correlation between salary and job_level is 0.98"
   ]
  },
  {
   "cell_type": "code",
   "execution_count": 106,
   "metadata": {
    "ExecuteTime": {
     "end_time": "2021-11-08T06:39:30.437167Z",
     "start_time": "2021-11-08T06:39:30.424081Z"
    }
   },
   "outputs": [
    {
     "name": "stdout",
     "output_type": "stream",
     "text": [
      "   age        Dept location education    recruitment_type  rating  onsite  \\\n",
      "0   28          HR   Suburb        PG            Referral       2       0   \n",
      "1   50  Technology   Suburb        PG             Walk-in       5       1   \n",
      "2   43  Technology   Suburb        UG            Referral       1       0   \n",
      "3   44       Sales     City        PG           On-Campus       3       1   \n",
      "4   33          HR     City        UG  Recruitment Agency       1       0   \n",
      "\n",
      "   awards  certifications  salary  satisfied  \n",
      "0       1               0   86750          1  \n",
      "1       2               1   42419          0  \n",
      "2       2               0   65715          0  \n",
      "3       0               0   29805          1  \n",
      "4       5               0   29805          1  \n",
      "(500, 11)\n"
     ]
    }
   ],
   "source": [
    "df1 = df\n",
    "df1.drop(['job_level'], axis=1, inplace = True)\n",
    "print(df1.head())\n",
    "print(df1.shape)"
   ]
  },
  {
   "cell_type": "code",
   "execution_count": 107,
   "metadata": {
    "ExecuteTime": {
     "end_time": "2021-11-08T06:39:30.468731Z",
     "start_time": "2021-11-08T06:39:30.442385Z"
    }
   },
   "outputs": [],
   "source": [
    "df.location = df.location.astype('category')\n",
    "df.Dept = df.Dept.astype('category')\n",
    "df.recruitment_type =  df.recruitment_type.astype('category')\n",
    "df.education = df.education.astype('category')\n",
    "\n",
    "\n",
    "location_d = dict(enumerate(df.location.cat.categories))\n",
    "Dept_d = dict(enumerate(df.Dept.cat.categories))\n",
    "recruitment_type_d = dict(enumerate(df.recruitment_type.cat.categories))\n",
    "education_d = dict(enumerate(df.education.cat.categories))\n",
    "\n",
    "\n",
    "df.location = df.location.cat.codes\n",
    "df.Dept = df.Dept.cat.codes\n",
    "df.recruitment_type = df.recruitment_type.cat.codes\n",
    "df.education = df.education.cat.codes"
   ]
  },
  {
   "cell_type": "code",
   "execution_count": 108,
   "metadata": {
    "ExecuteTime": {
     "end_time": "2021-11-08T06:39:30.483830Z",
     "start_time": "2021-11-08T06:39:30.471939Z"
    }
   },
   "outputs": [
    {
     "name": "stdout",
     "output_type": "stream",
     "text": [
      "(500, 11)\n",
      "   age  Dept  location  education  recruitment_type  rating  onsite  awards  \\\n",
      "0   28     0         1          0                 2       2       0       1   \n",
      "1   50     4         1          0                 3       5       1       2   \n",
      "2   43     4         1          1                 2       1       0       2   \n",
      "3   44     3         0          0                 0       3       1       0   \n",
      "4   33     0         0          1                 1       1       0       5   \n",
      "\n",
      "   certifications  salary  satisfied  \n",
      "0               0   86750          1  \n",
      "1               1   42419          0  \n",
      "2               0   65715          0  \n",
      "3               0   29805          1  \n",
      "4               0   29805          1  \n",
      "<class 'pandas.core.frame.DataFrame'>\n",
      "RangeIndex: 500 entries, 0 to 499\n",
      "Data columns (total 11 columns):\n",
      " #   Column            Non-Null Count  Dtype\n",
      "---  ------            --------------  -----\n",
      " 0   age               500 non-null    int64\n",
      " 1   Dept              500 non-null    int8 \n",
      " 2   location          500 non-null    int8 \n",
      " 3   education         500 non-null    int8 \n",
      " 4   recruitment_type  500 non-null    int8 \n",
      " 5   rating            500 non-null    int64\n",
      " 6   onsite            500 non-null    int64\n",
      " 7   awards            500 non-null    int64\n",
      " 8   certifications    500 non-null    int64\n",
      " 9   salary            500 non-null    int64\n",
      " 10  satisfied         500 non-null    int64\n",
      "dtypes: int64(7), int8(4)\n",
      "memory usage: 29.4 KB\n",
      "None\n"
     ]
    }
   ],
   "source": [
    "print(df.shape)\n",
    "print(df.head())\n",
    "print(df.info())"
   ]
  },
  {
   "cell_type": "markdown",
   "metadata": {},
   "source": [
    "## Train\\test split"
   ]
  },
  {
   "cell_type": "code",
   "execution_count": 109,
   "metadata": {
    "ExecuteTime": {
     "end_time": "2021-11-08T06:39:40.883497Z",
     "start_time": "2021-11-08T06:39:40.876321Z"
    }
   },
   "outputs": [],
   "source": [
    "X=df.iloc[:,0:10]\n",
    "y=df.iloc[:,10]"
   ]
  },
  {
   "cell_type": "code",
   "execution_count": 110,
   "metadata": {
    "ExecuteTime": {
     "end_time": "2021-11-08T06:39:56.799668Z",
     "start_time": "2021-11-08T06:39:56.787419Z"
    }
   },
   "outputs": [
    {
     "data": {
      "text/plain": [
       "(500, 10)"
      ]
     },
     "execution_count": 110,
     "metadata": {},
     "output_type": "execute_result"
    }
   ],
   "source": [
    "X.shape"
   ]
  },
  {
   "cell_type": "code",
   "execution_count": 111,
   "metadata": {
    "ExecuteTime": {
     "end_time": "2021-11-08T06:40:06.489300Z",
     "start_time": "2021-11-08T06:40:06.476716Z"
    }
   },
   "outputs": [
    {
     "data": {
      "text/plain": [
       "(500,)"
      ]
     },
     "execution_count": 111,
     "metadata": {},
     "output_type": "execute_result"
    }
   ],
   "source": [
    "y.shape"
   ]
  },
  {
   "cell_type": "code",
   "execution_count": 112,
   "metadata": {
    "ExecuteTime": {
     "end_time": "2021-11-08T06:40:10.370555Z",
     "start_time": "2021-11-08T06:40:10.351183Z"
    }
   },
   "outputs": [],
   "source": [
    "X_train,X_test,y_train,y_test = train_test_split(X, y, test_size=0.2, random_state=0)"
   ]
  },
  {
   "cell_type": "markdown",
   "metadata": {},
   "source": [
    "## Hyper parameter tuning for XGBoost"
   ]
  },
  {
   "cell_type": "code",
   "execution_count": 113,
   "metadata": {
    "ExecuteTime": {
     "end_time": "2021-11-08T06:40:13.514585Z",
     "start_time": "2021-11-08T06:40:13.496885Z"
    }
   },
   "outputs": [
    {
     "data": {
      "text/html": [
       "<div>\n",
       "<style scoped>\n",
       "    .dataframe tbody tr th:only-of-type {\n",
       "        vertical-align: middle;\n",
       "    }\n",
       "\n",
       "    .dataframe tbody tr th {\n",
       "        vertical-align: top;\n",
       "    }\n",
       "\n",
       "    .dataframe thead th {\n",
       "        text-align: right;\n",
       "    }\n",
       "</style>\n",
       "<table border=\"1\" class=\"dataframe\">\n",
       "  <thead>\n",
       "    <tr style=\"text-align: right;\">\n",
       "      <th></th>\n",
       "      <th>age</th>\n",
       "      <th>Dept</th>\n",
       "      <th>location</th>\n",
       "      <th>education</th>\n",
       "      <th>recruitment_type</th>\n",
       "      <th>rating</th>\n",
       "      <th>onsite</th>\n",
       "      <th>awards</th>\n",
       "      <th>certifications</th>\n",
       "      <th>salary</th>\n",
       "    </tr>\n",
       "  </thead>\n",
       "  <tbody>\n",
       "    <tr>\n",
       "      <th>0</th>\n",
       "      <td>28</td>\n",
       "      <td>0</td>\n",
       "      <td>1</td>\n",
       "      <td>0</td>\n",
       "      <td>2</td>\n",
       "      <td>2</td>\n",
       "      <td>0</td>\n",
       "      <td>1</td>\n",
       "      <td>0</td>\n",
       "      <td>86750</td>\n",
       "    </tr>\n",
       "    <tr>\n",
       "      <th>1</th>\n",
       "      <td>50</td>\n",
       "      <td>4</td>\n",
       "      <td>1</td>\n",
       "      <td>0</td>\n",
       "      <td>3</td>\n",
       "      <td>5</td>\n",
       "      <td>1</td>\n",
       "      <td>2</td>\n",
       "      <td>1</td>\n",
       "      <td>42419</td>\n",
       "    </tr>\n",
       "    <tr>\n",
       "      <th>2</th>\n",
       "      <td>43</td>\n",
       "      <td>4</td>\n",
       "      <td>1</td>\n",
       "      <td>1</td>\n",
       "      <td>2</td>\n",
       "      <td>1</td>\n",
       "      <td>0</td>\n",
       "      <td>2</td>\n",
       "      <td>0</td>\n",
       "      <td>65715</td>\n",
       "    </tr>\n",
       "    <tr>\n",
       "      <th>3</th>\n",
       "      <td>44</td>\n",
       "      <td>3</td>\n",
       "      <td>0</td>\n",
       "      <td>0</td>\n",
       "      <td>0</td>\n",
       "      <td>3</td>\n",
       "      <td>1</td>\n",
       "      <td>0</td>\n",
       "      <td>0</td>\n",
       "      <td>29805</td>\n",
       "    </tr>\n",
       "    <tr>\n",
       "      <th>4</th>\n",
       "      <td>33</td>\n",
       "      <td>0</td>\n",
       "      <td>0</td>\n",
       "      <td>1</td>\n",
       "      <td>1</td>\n",
       "      <td>1</td>\n",
       "      <td>0</td>\n",
       "      <td>5</td>\n",
       "      <td>0</td>\n",
       "      <td>29805</td>\n",
       "    </tr>\n",
       "  </tbody>\n",
       "</table>\n",
       "</div>"
      ],
      "text/plain": [
       "   age  Dept  location  education  recruitment_type  rating  onsite  awards  \\\n",
       "0   28     0         1          0                 2       2       0       1   \n",
       "1   50     4         1          0                 3       5       1       2   \n",
       "2   43     4         1          1                 2       1       0       2   \n",
       "3   44     3         0          0                 0       3       1       0   \n",
       "4   33     0         0          1                 1       1       0       5   \n",
       "\n",
       "   certifications  salary  \n",
       "0               0   86750  \n",
       "1               1   42419  \n",
       "2               0   65715  \n",
       "3               0   29805  \n",
       "4               0   29805  "
      ]
     },
     "execution_count": 113,
     "metadata": {},
     "output_type": "execute_result"
    }
   ],
   "source": [
    "X.head()"
   ]
  },
  {
   "cell_type": "code",
   "execution_count": 114,
   "metadata": {
    "ExecuteTime": {
     "end_time": "2021-11-08T06:40:20.155449Z",
     "start_time": "2021-11-08T06:40:20.130347Z"
    }
   },
   "outputs": [
    {
     "data": {
      "text/plain": [
       "0    1\n",
       "1    0\n",
       "2    0\n",
       "3    1\n",
       "4    1\n",
       "Name: satisfied, dtype: int64"
      ]
     },
     "execution_count": 114,
     "metadata": {},
     "output_type": "execute_result"
    }
   ],
   "source": [
    "y.head()"
   ]
  },
  {
   "cell_type": "code",
   "execution_count": 115,
   "metadata": {
    "ExecuteTime": {
     "end_time": "2021-11-08T06:40:21.390983Z",
     "start_time": "2021-11-08T06:40:21.376915Z"
    }
   },
   "outputs": [],
   "source": [
    "## Hyper Parameter tuning for xgboost\n",
    "from sklearn.model_selection import RandomizedSearchCV\n",
    "import xgboost\n",
    "from xgboost import XGBRegressor\n",
    "from xgboost import XGBRFRegressor\n",
    "from sklearn.model_selection import GridSearchCV\n",
    "\n",
    "from sklearn.metrics import mean_squared_error\n",
    "from sklearn.metrics import mean_absolute_error\n",
    "    "
   ]
  },
  {
   "cell_type": "code",
   "execution_count": 116,
   "metadata": {
    "ExecuteTime": {
     "end_time": "2021-11-08T06:40:22.383865Z",
     "start_time": "2021-11-08T06:40:22.362739Z"
    }
   },
   "outputs": [],
   "source": [
    "params = {'learning_rate': [0.05, 0.1, 0.15, 0.2, 0.25, 0.3],\n",
    "            'max_depth': [3, 5, 7, 10, 12, 15],\n",
    "            'min_child_weight': [1, 3, 5, 7],\n",
    "            'gamma' : [0.1, 0,2, 0.3, 0.4],\n",
    "            'colsample_bytree': [0.3, 0.4, 0.5, 0.7],\n",
    "                }"
   ]
  },
  {
   "cell_type": "code",
   "execution_count": 117,
   "metadata": {
    "ExecuteTime": {
     "end_time": "2021-11-08T06:40:23.952022Z",
     "start_time": "2021-11-08T06:40:23.933204Z"
    }
   },
   "outputs": [],
   "source": [
    "def timer(start_time=None):\n",
    "    if not start_time:\n",
    "        start_time = datetime.now()\n",
    "        return start_time\n",
    "    elif start_time:\n",
    "        thour,temp_sec = divmod((datetime.now() - start_time).total_seconds(),3600)\n",
    "        tmin, tsec = divmod(temp_sec, 60)\n",
    "        print('\\n time taken: %i hour %i minutes and %s seconds.' % (thour,tmin, round(tsec,2)))\n",
    "    "
   ]
  },
  {
   "cell_type": "code",
   "execution_count": 118,
   "metadata": {
    "ExecuteTime": {
     "end_time": "2021-11-08T06:40:24.837034Z",
     "start_time": "2021-11-08T06:40:24.833982Z"
    }
   },
   "outputs": [],
   "source": [
    "classifier= xgboost.XGBClassifier()"
   ]
  },
  {
   "cell_type": "code",
   "execution_count": 119,
   "metadata": {
    "ExecuteTime": {
     "end_time": "2021-11-08T06:40:25.690602Z",
     "start_time": "2021-11-08T06:40:25.673535Z"
    }
   },
   "outputs": [],
   "source": [
    "random_search=RandomizedSearchCV(classifier, param_distributions = params, n_iter=5, scoring='roc_auc', n_jobs=-1, cv=5, verbose=3)"
   ]
  },
  {
   "cell_type": "code",
   "execution_count": 120,
   "metadata": {
    "ExecuteTime": {
     "end_time": "2021-11-08T06:40:29.983047Z",
     "start_time": "2021-11-08T06:40:26.629298Z"
    }
   },
   "outputs": [
    {
     "name": "stdout",
     "output_type": "stream",
     "text": [
      "Fitting 5 folds for each of 5 candidates, totalling 25 fits\n"
     ]
    },
    {
     "name": "stderr",
     "output_type": "stream",
     "text": [
      "[Parallel(n_jobs=-1)]: Using backend LokyBackend with 4 concurrent workers.\n"
     ]
    },
    {
     "name": "stdout",
     "output_type": "stream",
     "text": [
      "[12:10:29] WARNING: C:/Users/Administrator/workspace/xgboost-win64_release_1.5.0/src/learner.cc:1115: Starting in XGBoost 1.3.0, the default evaluation metric used with the objective 'binary:logistic' was changed from 'error' to 'logloss'. Explicitly set eval_metric if you'd like to restore the old behavior.\n",
      "\n",
      " time taken: 0 hour 0 minutes and 3.35 seconds.\n"
     ]
    },
    {
     "name": "stderr",
     "output_type": "stream",
     "text": [
      "[Parallel(n_jobs=-1)]: Done  25 out of  25 | elapsed:    3.1s finished\n",
      "C:\\Users\\ysavi\\Anaconda3\\lib\\site-packages\\xgboost\\sklearn.py:1224: UserWarning: The use of label encoder in XGBClassifier is deprecated and will be removed in a future release. To remove this warning, do the following: 1) Pass option use_label_encoder=False when constructing XGBClassifier object; and 2) Encode your labels (y) as integers starting with 0, i.e. 0, 1, 2, ..., [num_class - 1].\n",
      "  warnings.warn(label_encoder_deprecation_msg, UserWarning)\n"
     ]
    }
   ],
   "source": [
    "from datetime import datetime\n",
    "\n",
    "start_time = timer(None)\n",
    "random_search.fit(X,y)\n",
    "timer(start_time)"
   ]
  },
  {
   "cell_type": "code",
   "execution_count": 121,
   "metadata": {
    "ExecuteTime": {
     "end_time": "2021-11-08T06:40:29.998280Z",
     "start_time": "2021-11-08T06:40:29.985047Z"
    }
   },
   "outputs": [
    {
     "data": {
      "text/html": [
       "<div>\n",
       "<style scoped>\n",
       "    .dataframe tbody tr th:only-of-type {\n",
       "        vertical-align: middle;\n",
       "    }\n",
       "\n",
       "    .dataframe tbody tr th {\n",
       "        vertical-align: top;\n",
       "    }\n",
       "\n",
       "    .dataframe thead th {\n",
       "        text-align: right;\n",
       "    }\n",
       "</style>\n",
       "<table border=\"1\" class=\"dataframe\">\n",
       "  <thead>\n",
       "    <tr style=\"text-align: right;\">\n",
       "      <th></th>\n",
       "      <th>age</th>\n",
       "      <th>Dept</th>\n",
       "      <th>location</th>\n",
       "      <th>education</th>\n",
       "      <th>recruitment_type</th>\n",
       "      <th>rating</th>\n",
       "      <th>onsite</th>\n",
       "      <th>awards</th>\n",
       "      <th>certifications</th>\n",
       "      <th>salary</th>\n",
       "    </tr>\n",
       "  </thead>\n",
       "  <tbody>\n",
       "    <tr>\n",
       "      <th>0</th>\n",
       "      <td>28</td>\n",
       "      <td>0</td>\n",
       "      <td>1</td>\n",
       "      <td>0</td>\n",
       "      <td>2</td>\n",
       "      <td>2</td>\n",
       "      <td>0</td>\n",
       "      <td>1</td>\n",
       "      <td>0</td>\n",
       "      <td>86750</td>\n",
       "    </tr>\n",
       "    <tr>\n",
       "      <th>1</th>\n",
       "      <td>50</td>\n",
       "      <td>4</td>\n",
       "      <td>1</td>\n",
       "      <td>0</td>\n",
       "      <td>3</td>\n",
       "      <td>5</td>\n",
       "      <td>1</td>\n",
       "      <td>2</td>\n",
       "      <td>1</td>\n",
       "      <td>42419</td>\n",
       "    </tr>\n",
       "    <tr>\n",
       "      <th>2</th>\n",
       "      <td>43</td>\n",
       "      <td>4</td>\n",
       "      <td>1</td>\n",
       "      <td>1</td>\n",
       "      <td>2</td>\n",
       "      <td>1</td>\n",
       "      <td>0</td>\n",
       "      <td>2</td>\n",
       "      <td>0</td>\n",
       "      <td>65715</td>\n",
       "    </tr>\n",
       "    <tr>\n",
       "      <th>3</th>\n",
       "      <td>44</td>\n",
       "      <td>3</td>\n",
       "      <td>0</td>\n",
       "      <td>0</td>\n",
       "      <td>0</td>\n",
       "      <td>3</td>\n",
       "      <td>1</td>\n",
       "      <td>0</td>\n",
       "      <td>0</td>\n",
       "      <td>29805</td>\n",
       "    </tr>\n",
       "    <tr>\n",
       "      <th>4</th>\n",
       "      <td>33</td>\n",
       "      <td>0</td>\n",
       "      <td>0</td>\n",
       "      <td>1</td>\n",
       "      <td>1</td>\n",
       "      <td>1</td>\n",
       "      <td>0</td>\n",
       "      <td>5</td>\n",
       "      <td>0</td>\n",
       "      <td>29805</td>\n",
       "    </tr>\n",
       "  </tbody>\n",
       "</table>\n",
       "</div>"
      ],
      "text/plain": [
       "   age  Dept  location  education  recruitment_type  rating  onsite  awards  \\\n",
       "0   28     0         1          0                 2       2       0       1   \n",
       "1   50     4         1          0                 3       5       1       2   \n",
       "2   43     4         1          1                 2       1       0       2   \n",
       "3   44     3         0          0                 0       3       1       0   \n",
       "4   33     0         0          1                 1       1       0       5   \n",
       "\n",
       "   certifications  salary  \n",
       "0               0   86750  \n",
       "1               1   42419  \n",
       "2               0   65715  \n",
       "3               0   29805  \n",
       "4               0   29805  "
      ]
     },
     "execution_count": 121,
     "metadata": {},
     "output_type": "execute_result"
    }
   ],
   "source": [
    "X.head()"
   ]
  },
  {
   "cell_type": "code",
   "execution_count": 122,
   "metadata": {
    "ExecuteTime": {
     "end_time": "2021-11-08T06:40:30.029863Z",
     "start_time": "2021-11-08T06:40:30.000060Z"
    }
   },
   "outputs": [
    {
     "data": {
      "text/plain": [
       "XGBClassifier(base_score=0.5, booster='gbtree', colsample_bylevel=1,\n",
       "              colsample_bynode=1, colsample_bytree=0.4,\n",
       "              enable_categorical=False, gamma=0.3, gpu_id=-1,\n",
       "              importance_type=None, interaction_constraints='',\n",
       "              learning_rate=0.05, max_delta_step=0, max_depth=5,\n",
       "              min_child_weight=5, missing=nan, monotone_constraints='()',\n",
       "              n_estimators=100, n_jobs=4, num_parallel_tree=1, predictor='auto',\n",
       "              random_state=0, reg_alpha=0, reg_lambda=1, scale_pos_weight=1,\n",
       "              subsample=1, tree_method='exact', validate_parameters=1,\n",
       "              verbosity=None)"
      ]
     },
     "execution_count": 122,
     "metadata": {},
     "output_type": "execute_result"
    }
   ],
   "source": [
    "random_search.best_estimator_"
   ]
  },
  {
   "cell_type": "code",
   "execution_count": 123,
   "metadata": {
    "ExecuteTime": {
     "end_time": "2021-11-08T06:40:30.045508Z",
     "start_time": "2021-11-08T06:40:30.032227Z"
    }
   },
   "outputs": [
    {
     "data": {
      "text/plain": [
       "{'min_child_weight': 5,\n",
       " 'max_depth': 5,\n",
       " 'learning_rate': 0.05,\n",
       " 'gamma': 0.3,\n",
       " 'colsample_bytree': 0.4}"
      ]
     },
     "execution_count": 123,
     "metadata": {},
     "output_type": "execute_result"
    }
   ],
   "source": [
    "random_search.best_params_"
   ]
  },
  {
   "cell_type": "code",
   "execution_count": 124,
   "metadata": {
    "ExecuteTime": {
     "end_time": "2021-11-08T06:40:30.060901Z",
     "start_time": "2021-11-08T06:40:30.048298Z"
    }
   },
   "outputs": [],
   "source": [
    "\n",
    "classifier = xgboost.XGBClassifier(base_score=0.5, booster='gbtree', colsample_bylevel=1,\n",
    "              colsample_bynode=1, colsample_bytree=0.5,\n",
    "              enable_categorical=False, gamma=0.3, gpu_id=-1,\n",
    "              importance_type=None, interaction_constraints='',\n",
    "              learning_rate=0.2, max_delta_step=0, max_depth=5,\n",
    "              min_child_weight=5, monotone_constraints='()',\n",
    "              n_estimators=100, n_jobs=4, num_parallel_tree=1, predictor='auto',\n",
    "              random_state=0, reg_alpha=0, reg_lambda=1, scale_pos_weight=1,\n",
    "              subsample=1, tree_method='exact', validate_parameters=1,\n",
    "              verbosity=None)"
   ]
  },
  {
   "cell_type": "code",
   "execution_count": 125,
   "metadata": {
    "ExecuteTime": {
     "end_time": "2021-11-08T06:40:32.465666Z",
     "start_time": "2021-11-08T06:40:31.666113Z"
    }
   },
   "outputs": [
    {
     "name": "stderr",
     "output_type": "stream",
     "text": [
      "C:\\Users\\ysavi\\Anaconda3\\lib\\site-packages\\xgboost\\sklearn.py:1224: UserWarning: The use of label encoder in XGBClassifier is deprecated and will be removed in a future release. To remove this warning, do the following: 1) Pass option use_label_encoder=False when constructing XGBClassifier object; and 2) Encode your labels (y) as integers starting with 0, i.e. 0, 1, 2, ..., [num_class - 1].\n",
      "  warnings.warn(label_encoder_deprecation_msg, UserWarning)\n"
     ]
    },
    {
     "name": "stdout",
     "output_type": "stream",
     "text": [
      "[12:10:31] WARNING: C:/Users/Administrator/workspace/xgboost-win64_release_1.5.0/src/learner.cc:1115: Starting in XGBoost 1.3.0, the default evaluation metric used with the objective 'binary:logistic' was changed from 'error' to 'logloss'. Explicitly set eval_metric if you'd like to restore the old behavior.\n",
      "[12:10:31] WARNING: C:/Users/Administrator/workspace/xgboost-win64_release_1.5.0/src/learner.cc:1115: Starting in XGBoost 1.3.0, the default evaluation metric used with the objective 'binary:logistic' was changed from 'error' to 'logloss'. Explicitly set eval_metric if you'd like to restore the old behavior.\n",
      "[12:10:31] WARNING: C:/Users/Administrator/workspace/xgboost-win64_release_1.5.0/src/learner.cc:1115: Starting in XGBoost 1.3.0, the default evaluation metric used with the objective 'binary:logistic' was changed from 'error' to 'logloss'. Explicitly set eval_metric if you'd like to restore the old behavior.\n",
      "[12:10:31] WARNING: C:/Users/Administrator/workspace/xgboost-win64_release_1.5.0/src/learner.cc:1115: Starting in XGBoost 1.3.0, the default evaluation metric used with the objective 'binary:logistic' was changed from 'error' to 'logloss'. Explicitly set eval_metric if you'd like to restore the old behavior.\n",
      "[12:10:32] WARNING: C:/Users/Administrator/workspace/xgboost-win64_release_1.5.0/src/learner.cc:1115: Starting in XGBoost 1.3.0, the default evaluation metric used with the objective 'binary:logistic' was changed from 'error' to 'logloss'. Explicitly set eval_metric if you'd like to restore the old behavior.\n",
      "[12:10:32] WARNING: C:/Users/Administrator/workspace/xgboost-win64_release_1.5.0/src/learner.cc:1115: Starting in XGBoost 1.3.0, the default evaluation metric used with the objective 'binary:logistic' was changed from 'error' to 'logloss'. Explicitly set eval_metric if you'd like to restore the old behavior.\n",
      "[12:10:32] WARNING: C:/Users/Administrator/workspace/xgboost-win64_release_1.5.0/src/learner.cc:1115: Starting in XGBoost 1.3.0, the default evaluation metric used with the objective 'binary:logistic' was changed from 'error' to 'logloss'. Explicitly set eval_metric if you'd like to restore the old behavior.\n",
      "[12:10:32] WARNING: C:/Users/Administrator/workspace/xgboost-win64_release_1.5.0/src/learner.cc:1115: Starting in XGBoost 1.3.0, the default evaluation metric used with the objective 'binary:logistic' was changed from 'error' to 'logloss'. Explicitly set eval_metric if you'd like to restore the old behavior.\n",
      "[12:10:32] WARNING: C:/Users/Administrator/workspace/xgboost-win64_release_1.5.0/src/learner.cc:1115: Starting in XGBoost 1.3.0, the default evaluation metric used with the objective 'binary:logistic' was changed from 'error' to 'logloss'. Explicitly set eval_metric if you'd like to restore the old behavior.\n",
      "[12:10:32] WARNING: C:/Users/Administrator/workspace/xgboost-win64_release_1.5.0/src/learner.cc:1115: Starting in XGBoost 1.3.0, the default evaluation metric used with the objective 'binary:logistic' was changed from 'error' to 'logloss'. Explicitly set eval_metric if you'd like to restore the old behavior.\n"
     ]
    }
   ],
   "source": [
    "from sklearn.model_selection import cross_val_score\n",
    "score = cross_val_score(classifier,X,y,cv=10)"
   ]
  },
  {
   "cell_type": "code",
   "execution_count": 126,
   "metadata": {
    "ExecuteTime": {
     "end_time": "2021-11-08T06:40:33.429838Z",
     "start_time": "2021-11-08T06:40:33.420922Z"
    }
   },
   "outputs": [
    {
     "data": {
      "text/plain": [
       "array([0.52, 0.4 , 0.5 , 0.46, 0.58, 0.52, 0.48, 0.54, 0.56, 0.58])"
      ]
     },
     "execution_count": 126,
     "metadata": {},
     "output_type": "execute_result"
    }
   ],
   "source": [
    "score"
   ]
  },
  {
   "cell_type": "code",
   "execution_count": 127,
   "metadata": {
    "ExecuteTime": {
     "end_time": "2021-11-08T06:40:34.469708Z",
     "start_time": "2021-11-08T06:40:34.451886Z"
    }
   },
   "outputs": [
    {
     "data": {
      "text/plain": [
       "0.514"
      ]
     },
     "execution_count": 127,
     "metadata": {},
     "output_type": "execute_result"
    }
   ],
   "source": [
    "score.mean()"
   ]
  },
  {
   "cell_type": "code",
   "execution_count": null,
   "metadata": {},
   "outputs": [],
   "source": []
  },
  {
   "cell_type": "code",
   "execution_count": null,
   "metadata": {},
   "outputs": [],
   "source": []
  },
  {
   "cell_type": "code",
   "execution_count": null,
   "metadata": {},
   "outputs": [],
   "source": []
  },
  {
   "cell_type": "markdown",
   "metadata": {},
   "source": [
    "## Implement K-means"
   ]
  },
  {
   "cell_type": "code",
   "execution_count": 128,
   "metadata": {
    "ExecuteTime": {
     "end_time": "2021-11-08T06:40:46.330771Z",
     "start_time": "2021-11-08T06:40:46.323041Z"
    }
   },
   "outputs": [],
   "source": [
    "# preprocessing\n",
    "X = df.drop(['satisfied'],axis=1)\n",
    "y = df.satisfied"
   ]
  },
  {
   "cell_type": "code",
   "execution_count": 129,
   "metadata": {
    "ExecuteTime": {
     "end_time": "2021-11-08T06:40:46.639014Z",
     "start_time": "2021-11-08T06:40:46.620724Z"
    }
   },
   "outputs": [
    {
     "data": {
      "text/plain": [
       "(500, 10)"
      ]
     },
     "execution_count": 129,
     "metadata": {},
     "output_type": "execute_result"
    }
   ],
   "source": [
    "X.shape"
   ]
  },
  {
   "cell_type": "code",
   "execution_count": 130,
   "metadata": {
    "ExecuteTime": {
     "end_time": "2021-11-08T06:40:46.888997Z",
     "start_time": "2021-11-08T06:40:46.868274Z"
    }
   },
   "outputs": [
    {
     "data": {
      "text/plain": [
       "(500,)"
      ]
     },
     "execution_count": 130,
     "metadata": {},
     "output_type": "execute_result"
    }
   ],
   "source": [
    "y.shape"
   ]
  },
  {
   "cell_type": "code",
   "execution_count": 131,
   "metadata": {
    "ExecuteTime": {
     "end_time": "2021-11-08T06:40:47.137210Z",
     "start_time": "2021-11-08T06:40:47.127163Z"
    }
   },
   "outputs": [
    {
     "name": "stdout",
     "output_type": "stream",
     "text": [
      "Shape of X_test is:  (100, 10)\n",
      "Shape of X_train is:  (400, 10)\n",
      "Shape of y_test is:  (100,)\n",
      "Shape of y_train is:  (400,)\n"
     ]
    }
   ],
   "source": [
    "print(f'Shape of X_test is: ',X_test.shape)\n",
    "print(f'Shape of X_train is: ',X_train.shape)\n",
    "print(f'Shape of y_test is: ',y_test.shape)\n",
    "print(f'Shape of y_train is: ',y_train.shape)"
   ]
  },
  {
   "cell_type": "code",
   "execution_count": 132,
   "metadata": {
    "ExecuteTime": {
     "end_time": "2021-11-08T06:40:47.428603Z",
     "start_time": "2021-11-08T06:40:47.420669Z"
    }
   },
   "outputs": [],
   "source": [
    "# Feature scaling\n",
    "from sklearn.preprocessing import StandardScaler, normalize"
   ]
  },
  {
   "cell_type": "code",
   "execution_count": 133,
   "metadata": {
    "ExecuteTime": {
     "end_time": "2021-11-08T06:40:47.691618Z",
     "start_time": "2021-11-08T06:40:47.685334Z"
    }
   },
   "outputs": [],
   "source": [
    "# X = StandardScaler().fit_transform(X)\n",
    "# # y = StandardScaler().fit_transform(y)\n",
    "#df = df.drop(['satisfied'],axis=1)\n",
    "# df.head()"
   ]
  },
  {
   "cell_type": "code",
   "execution_count": 134,
   "metadata": {
    "ExecuteTime": {
     "end_time": "2021-11-08T06:40:48.002988Z",
     "start_time": "2021-11-08T06:40:47.983876Z"
    }
   },
   "outputs": [
    {
     "name": "stdout",
     "output_type": "stream",
     "text": [
      "<class 'pandas.core.frame.DataFrame'>\n",
      "RangeIndex: 500 entries, 0 to 499\n",
      "Data columns (total 11 columns):\n",
      " #   Column            Non-Null Count  Dtype\n",
      "---  ------            --------------  -----\n",
      " 0   age               500 non-null    int64\n",
      " 1   Dept              500 non-null    int8 \n",
      " 2   location          500 non-null    int8 \n",
      " 3   education         500 non-null    int8 \n",
      " 4   recruitment_type  500 non-null    int8 \n",
      " 5   rating            500 non-null    int64\n",
      " 6   onsite            500 non-null    int64\n",
      " 7   awards            500 non-null    int64\n",
      " 8   certifications    500 non-null    int64\n",
      " 9   salary            500 non-null    int64\n",
      " 10  satisfied         500 non-null    int64\n",
      "dtypes: int64(7), int8(4)\n",
      "memory usage: 29.4 KB\n"
     ]
    }
   ],
   "source": [
    "df.info()"
   ]
  },
  {
   "cell_type": "code",
   "execution_count": 135,
   "metadata": {
    "ExecuteTime": {
     "end_time": "2021-11-08T06:40:48.279713Z",
     "start_time": "2021-11-08T06:40:48.270041Z"
    }
   },
   "outputs": [],
   "source": [
    "# Standardize data\n",
    "scaler = pp.StandardScaler() \n",
    "df_scaled = scaler.fit_transform(df) \n",
    "# Normalizing the Data \n",
    "# normalized_df = pp.normalize(df_scaled) \n",
    "  \n",
    "# # Converting the numpy array into a pandas DataFrame \n",
    "# normalized_df = pd.DataFrame(normalized_df) \n",
    "\n",
    "# normalized_df.describe()  \n",
    "\n",
    "# scaler = StandardScaler()"
   ]
  },
  {
   "cell_type": "code",
   "execution_count": 136,
   "metadata": {
    "ExecuteTime": {
     "end_time": "2021-11-08T06:40:48.589499Z",
     "start_time": "2021-11-08T06:40:48.583332Z"
    }
   },
   "outputs": [],
   "source": [
    "columns = ['age','Dept','location','education','recruitment_type','rating','onsite','awards','certifications','salary',\n",
    "           'satisfied']"
   ]
  },
  {
   "cell_type": "code",
   "execution_count": 137,
   "metadata": {
    "ExecuteTime": {
     "end_time": "2021-11-08T06:40:48.945593Z",
     "start_time": "2021-11-08T06:40:48.933768Z"
    }
   },
   "outputs": [],
   "source": [
    "df.columns = [x.strip(\" (cm)\") for x in df.columns]"
   ]
  },
  {
   "cell_type": "code",
   "execution_count": 138,
   "metadata": {
    "ExecuteTime": {
     "end_time": "2021-11-08T06:40:49.318441Z",
     "start_time": "2021-11-08T06:40:49.294529Z"
    }
   },
   "outputs": [],
   "source": [
    "for col in df.columns:\n",
    "    avg=df[col].mean()\n",
    "    sd=df[col].std()\n",
    "    df[col]=df[col].apply(lambda x: (x-avg)/sd)"
   ]
  },
  {
   "cell_type": "code",
   "execution_count": 139,
   "metadata": {
    "ExecuteTime": {
     "end_time": "2021-11-08T06:40:49.628899Z",
     "start_time": "2021-11-08T06:40:49.599582Z"
    }
   },
   "outputs": [
    {
     "data": {
      "text/html": [
       "<div>\n",
       "<style scoped>\n",
       "    .dataframe tbody tr th:only-of-type {\n",
       "        vertical-align: middle;\n",
       "    }\n",
       "\n",
       "    .dataframe tbody tr th {\n",
       "        vertical-align: top;\n",
       "    }\n",
       "\n",
       "    .dataframe thead th {\n",
       "        text-align: right;\n",
       "    }\n",
       "</style>\n",
       "<table border=\"1\" class=\"dataframe\">\n",
       "  <thead>\n",
       "    <tr style=\"text-align: right;\">\n",
       "      <th></th>\n",
       "      <th>age</th>\n",
       "      <th>Dept</th>\n",
       "      <th>location</th>\n",
       "      <th>education</th>\n",
       "      <th>recruitment_type</th>\n",
       "      <th>rating</th>\n",
       "      <th>onsite</th>\n",
       "      <th>awards</th>\n",
       "      <th>ertifications</th>\n",
       "      <th>salary</th>\n",
       "      <th>satisfied</th>\n",
       "    </tr>\n",
       "  </thead>\n",
       "  <tbody>\n",
       "    <tr>\n",
       "      <th>0</th>\n",
       "      <td>-1.124102</td>\n",
       "      <td>-1.384380</td>\n",
       "      <td>1.035635</td>\n",
       "      <td>-0.983141</td>\n",
       "      <td>0.432090</td>\n",
       "      <td>-0.752234</td>\n",
       "      <td>-0.933228</td>\n",
       "      <td>-1.240005</td>\n",
       "      <td>-0.991039</td>\n",
       "      <td>1.534931</td>\n",
       "      <td>0.948335</td>\n",
       "    </tr>\n",
       "    <tr>\n",
       "      <th>1</th>\n",
       "      <td>1.206741</td>\n",
       "      <td>1.438005</td>\n",
       "      <td>1.035635</td>\n",
       "      <td>-0.983141</td>\n",
       "      <td>1.310321</td>\n",
       "      <td>1.352898</td>\n",
       "      <td>1.069407</td>\n",
       "      <td>-0.889523</td>\n",
       "      <td>1.007024</td>\n",
       "      <td>-0.337836</td>\n",
       "      <td>-1.052371</td>\n",
       "    </tr>\n",
       "    <tr>\n",
       "      <th>2</th>\n",
       "      <td>0.465109</td>\n",
       "      <td>1.438005</td>\n",
       "      <td>1.035635</td>\n",
       "      <td>1.015113</td>\n",
       "      <td>0.432090</td>\n",
       "      <td>-1.453945</td>\n",
       "      <td>-0.933228</td>\n",
       "      <td>-0.889523</td>\n",
       "      <td>-0.991039</td>\n",
       "      <td>0.646305</td>\n",
       "      <td>-1.052371</td>\n",
       "    </tr>\n",
       "    <tr>\n",
       "      <th>3</th>\n",
       "      <td>0.571056</td>\n",
       "      <td>0.732409</td>\n",
       "      <td>-0.963660</td>\n",
       "      <td>-0.983141</td>\n",
       "      <td>-1.324373</td>\n",
       "      <td>-0.050523</td>\n",
       "      <td>1.069407</td>\n",
       "      <td>-1.590486</td>\n",
       "      <td>-0.991039</td>\n",
       "      <td>-0.870716</td>\n",
       "      <td>0.948335</td>\n",
       "    </tr>\n",
       "    <tr>\n",
       "      <th>4</th>\n",
       "      <td>-0.594365</td>\n",
       "      <td>-1.384380</td>\n",
       "      <td>-0.963660</td>\n",
       "      <td>1.015113</td>\n",
       "      <td>-0.446141</td>\n",
       "      <td>-1.453945</td>\n",
       "      <td>-0.933228</td>\n",
       "      <td>0.161923</td>\n",
       "      <td>-0.991039</td>\n",
       "      <td>-0.870716</td>\n",
       "      <td>0.948335</td>\n",
       "    </tr>\n",
       "  </tbody>\n",
       "</table>\n",
       "</div>"
      ],
      "text/plain": [
       "        age      Dept  location  education  recruitment_type    rating  \\\n",
       "0 -1.124102 -1.384380  1.035635  -0.983141          0.432090 -0.752234   \n",
       "1  1.206741  1.438005  1.035635  -0.983141          1.310321  1.352898   \n",
       "2  0.465109  1.438005  1.035635   1.015113          0.432090 -1.453945   \n",
       "3  0.571056  0.732409 -0.963660  -0.983141         -1.324373 -0.050523   \n",
       "4 -0.594365 -1.384380 -0.963660   1.015113         -0.446141 -1.453945   \n",
       "\n",
       "     onsite    awards  ertifications    salary  satisfied  \n",
       "0 -0.933228 -1.240005      -0.991039  1.534931   0.948335  \n",
       "1  1.069407 -0.889523       1.007024 -0.337836  -1.052371  \n",
       "2 -0.933228 -0.889523      -0.991039  0.646305  -1.052371  \n",
       "3  1.069407 -1.590486      -0.991039 -0.870716   0.948335  \n",
       "4 -0.933228  0.161923      -0.991039 -0.870716   0.948335  "
      ]
     },
     "execution_count": 139,
     "metadata": {},
     "output_type": "execute_result"
    }
   ],
   "source": [
    "df.head()"
   ]
  },
  {
   "cell_type": "code",
   "execution_count": 140,
   "metadata": {
    "ExecuteTime": {
     "end_time": "2021-11-08T06:40:50.020367Z",
     "start_time": "2021-11-08T06:40:50.000512Z"
    }
   },
   "outputs": [
    {
     "data": {
      "text/plain": [
       "array([[-1.12522746, -1.38576602,  1.03667198, ..., -0.99203175,\n",
       "         1.5364678 ,  0.9492843 ],\n",
       "       [ 1.20794918,  1.43944502,  1.03667198, ...,  1.00803226,\n",
       "        -0.33817466, -1.05342519],\n",
       "       [ 0.46557479,  1.43944502,  1.03667198, ..., -0.99203175,\n",
       "         0.64695247, -1.05342519],\n",
       "       ...,\n",
       "       [-0.48890656, -0.67946326, -0.96462528, ..., -0.99203175,\n",
       "        -1.11385232,  0.9492843 ],\n",
       "       [-1.33733443,  1.43944502, -0.96462528, ...,  1.00803226,\n",
       "        -0.87158784, -1.05342519],\n",
       "       [-1.33733443,  1.43944502, -0.96462528, ..., -0.99203175,\n",
       "        -0.33817466, -1.05342519]])"
      ]
     },
     "execution_count": 140,
     "metadata": {},
     "output_type": "execute_result"
    }
   ],
   "source": [
    "df_scaled.view()"
   ]
  },
  {
   "cell_type": "code",
   "execution_count": 141,
   "metadata": {
    "ExecuteTime": {
     "end_time": "2021-11-08T06:40:50.348790Z",
     "start_time": "2021-11-08T06:40:50.333789Z"
    }
   },
   "outputs": [],
   "source": [
    "# K Mean Clustring\n",
    "# kmeans = KMeans(2,random_state=6)\n",
    "# kmeans.fit(df_scaled)\n",
    "# labels = kmeans.labels_"
   ]
  },
  {
   "cell_type": "code",
   "execution_count": 215,
   "metadata": {
    "ExecuteTime": {
     "end_time": "2021-11-08T07:50:27.561418Z",
     "start_time": "2021-11-08T07:50:27.446734Z"
    }
   },
   "outputs": [],
   "source": [
    "kmeans = KMeans(n_clusters=2)\n",
    "df['clusters'] = kmeans.fit_predict(df)\n",
    "# kmeans.cluster_centers_.shape"
   ]
  },
  {
   "cell_type": "code",
   "execution_count": 216,
   "metadata": {
    "ExecuteTime": {
     "end_time": "2021-11-08T07:50:29.514685Z",
     "start_time": "2021-11-08T07:50:29.463079Z"
    }
   },
   "outputs": [
    {
     "data": {
      "text/html": [
       "<div>\n",
       "<style scoped>\n",
       "    .dataframe tbody tr th:only-of-type {\n",
       "        vertical-align: middle;\n",
       "    }\n",
       "\n",
       "    .dataframe tbody tr th {\n",
       "        vertical-align: top;\n",
       "    }\n",
       "\n",
       "    .dataframe thead th {\n",
       "        text-align: right;\n",
       "    }\n",
       "</style>\n",
       "<table border=\"1\" class=\"dataframe\">\n",
       "  <thead>\n",
       "    <tr style=\"text-align: right;\">\n",
       "      <th></th>\n",
       "      <th>age</th>\n",
       "      <th>Dept</th>\n",
       "      <th>location</th>\n",
       "      <th>education</th>\n",
       "      <th>recruitment_type</th>\n",
       "      <th>rating</th>\n",
       "      <th>onsite</th>\n",
       "      <th>awards</th>\n",
       "      <th>ertifications</th>\n",
       "      <th>salary</th>\n",
       "      <th>satisfied</th>\n",
       "      <th>clusters</th>\n",
       "    </tr>\n",
       "  </thead>\n",
       "  <tbody>\n",
       "    <tr>\n",
       "      <th>0</th>\n",
       "      <td>-1.124102</td>\n",
       "      <td>-1.384380</td>\n",
       "      <td>1.035635</td>\n",
       "      <td>-0.983141</td>\n",
       "      <td>0.432090</td>\n",
       "      <td>-0.752234</td>\n",
       "      <td>-0.933228</td>\n",
       "      <td>-1.240005</td>\n",
       "      <td>-0.991039</td>\n",
       "      <td>1.534931</td>\n",
       "      <td>0.948335</td>\n",
       "      <td>1</td>\n",
       "    </tr>\n",
       "    <tr>\n",
       "      <th>1</th>\n",
       "      <td>1.206741</td>\n",
       "      <td>1.438005</td>\n",
       "      <td>1.035635</td>\n",
       "      <td>-0.983141</td>\n",
       "      <td>1.310321</td>\n",
       "      <td>1.352898</td>\n",
       "      <td>1.069407</td>\n",
       "      <td>-0.889523</td>\n",
       "      <td>1.007024</td>\n",
       "      <td>-0.337836</td>\n",
       "      <td>-1.052371</td>\n",
       "      <td>0</td>\n",
       "    </tr>\n",
       "    <tr>\n",
       "      <th>2</th>\n",
       "      <td>0.465109</td>\n",
       "      <td>1.438005</td>\n",
       "      <td>1.035635</td>\n",
       "      <td>1.015113</td>\n",
       "      <td>0.432090</td>\n",
       "      <td>-1.453945</td>\n",
       "      <td>-0.933228</td>\n",
       "      <td>-0.889523</td>\n",
       "      <td>-0.991039</td>\n",
       "      <td>0.646305</td>\n",
       "      <td>-1.052371</td>\n",
       "      <td>0</td>\n",
       "    </tr>\n",
       "    <tr>\n",
       "      <th>3</th>\n",
       "      <td>0.571056</td>\n",
       "      <td>0.732409</td>\n",
       "      <td>-0.963660</td>\n",
       "      <td>-0.983141</td>\n",
       "      <td>-1.324373</td>\n",
       "      <td>-0.050523</td>\n",
       "      <td>1.069407</td>\n",
       "      <td>-1.590486</td>\n",
       "      <td>-0.991039</td>\n",
       "      <td>-0.870716</td>\n",
       "      <td>0.948335</td>\n",
       "      <td>0</td>\n",
       "    </tr>\n",
       "    <tr>\n",
       "      <th>4</th>\n",
       "      <td>-0.594365</td>\n",
       "      <td>-1.384380</td>\n",
       "      <td>-0.963660</td>\n",
       "      <td>1.015113</td>\n",
       "      <td>-0.446141</td>\n",
       "      <td>-1.453945</td>\n",
       "      <td>-0.933228</td>\n",
       "      <td>0.161923</td>\n",
       "      <td>-0.991039</td>\n",
       "      <td>-0.870716</td>\n",
       "      <td>0.948335</td>\n",
       "      <td>0</td>\n",
       "    </tr>\n",
       "  </tbody>\n",
       "</table>\n",
       "</div>"
      ],
      "text/plain": [
       "        age      Dept  location  education  recruitment_type    rating  \\\n",
       "0 -1.124102 -1.384380  1.035635  -0.983141          0.432090 -0.752234   \n",
       "1  1.206741  1.438005  1.035635  -0.983141          1.310321  1.352898   \n",
       "2  0.465109  1.438005  1.035635   1.015113          0.432090 -1.453945   \n",
       "3  0.571056  0.732409 -0.963660  -0.983141         -1.324373 -0.050523   \n",
       "4 -0.594365 -1.384380 -0.963660   1.015113         -0.446141 -1.453945   \n",
       "\n",
       "     onsite    awards  ertifications    salary  satisfied  clusters  \n",
       "0 -0.933228 -1.240005      -0.991039  1.534931   0.948335         1  \n",
       "1  1.069407 -0.889523       1.007024 -0.337836  -1.052371         0  \n",
       "2 -0.933228 -0.889523      -0.991039  0.646305  -1.052371         0  \n",
       "3  1.069407 -1.590486      -0.991039 -0.870716   0.948335         0  \n",
       "4 -0.933228  0.161923      -0.991039 -0.870716   0.948335         0  "
      ]
     },
     "execution_count": 216,
     "metadata": {},
     "output_type": "execute_result"
    }
   ],
   "source": [
    "df.head()"
   ]
  },
  {
   "cell_type": "code",
   "execution_count": 217,
   "metadata": {
    "ExecuteTime": {
     "end_time": "2021-11-08T07:50:31.041366Z",
     "start_time": "2021-11-08T07:50:31.022011Z"
    }
   },
   "outputs": [
    {
     "data": {
      "text/plain": [
       "107    1\n",
       "336    0\n",
       "71     0\n",
       "474    1\n",
       "6      0\n",
       "      ..\n",
       "323    0\n",
       "192    1\n",
       "117    0\n",
       "47     0\n",
       "172    0\n",
       "Name: satisfied, Length: 400, dtype: int64"
      ]
     },
     "execution_count": 217,
     "metadata": {},
     "output_type": "execute_result"
    }
   ],
   "source": [
    "y_train"
   ]
  },
  {
   "cell_type": "code",
   "execution_count": 218,
   "metadata": {
    "ExecuteTime": {
     "end_time": "2021-11-08T07:50:32.139901Z",
     "start_time": "2021-11-08T07:50:32.109738Z"
    }
   },
   "outputs": [
    {
     "data": {
      "text/plain": [
       "90     0\n",
       "254    0\n",
       "283    0\n",
       "445    1\n",
       "461    1\n",
       "      ..\n",
       "372    0\n",
       "56     1\n",
       "440    0\n",
       "60     1\n",
       "208    0\n",
       "Name: satisfied, Length: 100, dtype: int64"
      ]
     },
     "execution_count": 218,
     "metadata": {},
     "output_type": "execute_result"
    }
   ],
   "source": [
    "y_test"
   ]
  },
  {
   "cell_type": "code",
   "execution_count": 219,
   "metadata": {
    "ExecuteTime": {
     "end_time": "2021-11-08T07:50:35.813108Z",
     "start_time": "2021-11-08T07:50:35.767127Z"
    }
   },
   "outputs": [
    {
     "data": {
      "text/html": [
       "<div>\n",
       "<style scoped>\n",
       "    .dataframe tbody tr th:only-of-type {\n",
       "        vertical-align: middle;\n",
       "    }\n",
       "\n",
       "    .dataframe tbody tr th {\n",
       "        vertical-align: top;\n",
       "    }\n",
       "\n",
       "    .dataframe thead th {\n",
       "        text-align: right;\n",
       "    }\n",
       "</style>\n",
       "<table border=\"1\" class=\"dataframe\">\n",
       "  <thead>\n",
       "    <tr style=\"text-align: right;\">\n",
       "      <th></th>\n",
       "      <th>age</th>\n",
       "      <th>Dept</th>\n",
       "      <th>location</th>\n",
       "      <th>education</th>\n",
       "      <th>recruitment_type</th>\n",
       "      <th>rating</th>\n",
       "      <th>onsite</th>\n",
       "      <th>awards</th>\n",
       "      <th>certifications</th>\n",
       "      <th>salary</th>\n",
       "    </tr>\n",
       "  </thead>\n",
       "  <tbody>\n",
       "    <tr>\n",
       "      <th>107</th>\n",
       "      <td>52</td>\n",
       "      <td>2</td>\n",
       "      <td>1</td>\n",
       "      <td>0</td>\n",
       "      <td>2</td>\n",
       "      <td>3</td>\n",
       "      <td>1</td>\n",
       "      <td>7</td>\n",
       "      <td>0</td>\n",
       "      <td>65715</td>\n",
       "    </tr>\n",
       "    <tr>\n",
       "      <th>336</th>\n",
       "      <td>30</td>\n",
       "      <td>0</td>\n",
       "      <td>0</td>\n",
       "      <td>1</td>\n",
       "      <td>2</td>\n",
       "      <td>2</td>\n",
       "      <td>0</td>\n",
       "      <td>9</td>\n",
       "      <td>0</td>\n",
       "      <td>86750</td>\n",
       "    </tr>\n",
       "    <tr>\n",
       "      <th>71</th>\n",
       "      <td>24</td>\n",
       "      <td>0</td>\n",
       "      <td>0</td>\n",
       "      <td>1</td>\n",
       "      <td>1</td>\n",
       "      <td>5</td>\n",
       "      <td>1</td>\n",
       "      <td>3</td>\n",
       "      <td>1</td>\n",
       "      <td>65715</td>\n",
       "    </tr>\n",
       "    <tr>\n",
       "      <th>474</th>\n",
       "      <td>44</td>\n",
       "      <td>1</td>\n",
       "      <td>0</td>\n",
       "      <td>1</td>\n",
       "      <td>1</td>\n",
       "      <td>5</td>\n",
       "      <td>0</td>\n",
       "      <td>5</td>\n",
       "      <td>0</td>\n",
       "      <td>29805</td>\n",
       "    </tr>\n",
       "    <tr>\n",
       "      <th>6</th>\n",
       "      <td>26</td>\n",
       "      <td>2</td>\n",
       "      <td>1</td>\n",
       "      <td>1</td>\n",
       "      <td>2</td>\n",
       "      <td>5</td>\n",
       "      <td>0</td>\n",
       "      <td>2</td>\n",
       "      <td>0</td>\n",
       "      <td>86750</td>\n",
       "    </tr>\n",
       "    <tr>\n",
       "      <th>...</th>\n",
       "      <td>...</td>\n",
       "      <td>...</td>\n",
       "      <td>...</td>\n",
       "      <td>...</td>\n",
       "      <td>...</td>\n",
       "      <td>...</td>\n",
       "      <td>...</td>\n",
       "      <td>...</td>\n",
       "      <td>...</td>\n",
       "      <td>...</td>\n",
       "    </tr>\n",
       "    <tr>\n",
       "      <th>323</th>\n",
       "      <td>29</td>\n",
       "      <td>4</td>\n",
       "      <td>1</td>\n",
       "      <td>0</td>\n",
       "      <td>2</td>\n",
       "      <td>2</td>\n",
       "      <td>1</td>\n",
       "      <td>4</td>\n",
       "      <td>0</td>\n",
       "      <td>24076</td>\n",
       "    </tr>\n",
       "    <tr>\n",
       "      <th>192</th>\n",
       "      <td>30</td>\n",
       "      <td>3</td>\n",
       "      <td>0</td>\n",
       "      <td>0</td>\n",
       "      <td>1</td>\n",
       "      <td>3</td>\n",
       "      <td>0</td>\n",
       "      <td>9</td>\n",
       "      <td>0</td>\n",
       "      <td>29805</td>\n",
       "    </tr>\n",
       "    <tr>\n",
       "      <th>117</th>\n",
       "      <td>45</td>\n",
       "      <td>4</td>\n",
       "      <td>1</td>\n",
       "      <td>1</td>\n",
       "      <td>0</td>\n",
       "      <td>3</td>\n",
       "      <td>0</td>\n",
       "      <td>4</td>\n",
       "      <td>0</td>\n",
       "      <td>86750</td>\n",
       "    </tr>\n",
       "    <tr>\n",
       "      <th>47</th>\n",
       "      <td>46</td>\n",
       "      <td>0</td>\n",
       "      <td>1</td>\n",
       "      <td>1</td>\n",
       "      <td>2</td>\n",
       "      <td>2</td>\n",
       "      <td>0</td>\n",
       "      <td>1</td>\n",
       "      <td>0</td>\n",
       "      <td>42419</td>\n",
       "    </tr>\n",
       "    <tr>\n",
       "      <th>172</th>\n",
       "      <td>35</td>\n",
       "      <td>4</td>\n",
       "      <td>1</td>\n",
       "      <td>1</td>\n",
       "      <td>1</td>\n",
       "      <td>4</td>\n",
       "      <td>1</td>\n",
       "      <td>3</td>\n",
       "      <td>1</td>\n",
       "      <td>24076</td>\n",
       "    </tr>\n",
       "  </tbody>\n",
       "</table>\n",
       "<p>400 rows × 10 columns</p>\n",
       "</div>"
      ],
      "text/plain": [
       "     age  Dept  location  education  recruitment_type  rating  onsite  awards  \\\n",
       "107   52     2         1          0                 2       3       1       7   \n",
       "336   30     0         0          1                 2       2       0       9   \n",
       "71    24     0         0          1                 1       5       1       3   \n",
       "474   44     1         0          1                 1       5       0       5   \n",
       "6     26     2         1          1                 2       5       0       2   \n",
       "..   ...   ...       ...        ...               ...     ...     ...     ...   \n",
       "323   29     4         1          0                 2       2       1       4   \n",
       "192   30     3         0          0                 1       3       0       9   \n",
       "117   45     4         1          1                 0       3       0       4   \n",
       "47    46     0         1          1                 2       2       0       1   \n",
       "172   35     4         1          1                 1       4       1       3   \n",
       "\n",
       "     certifications  salary  \n",
       "107               0   65715  \n",
       "336               0   86750  \n",
       "71                1   65715  \n",
       "474               0   29805  \n",
       "6                 0   86750  \n",
       "..              ...     ...  \n",
       "323               0   24076  \n",
       "192               0   29805  \n",
       "117               0   86750  \n",
       "47                0   42419  \n",
       "172               1   24076  \n",
       "\n",
       "[400 rows x 10 columns]"
      ]
     },
     "execution_count": 219,
     "metadata": {},
     "output_type": "execute_result"
    }
   ],
   "source": [
    "X_train"
   ]
  },
  {
   "cell_type": "code",
   "execution_count": 220,
   "metadata": {
    "ExecuteTime": {
     "end_time": "2021-11-08T07:50:38.140492Z",
     "start_time": "2021-11-08T07:50:38.103549Z"
    }
   },
   "outputs": [
    {
     "data": {
      "text/html": [
       "<div>\n",
       "<style scoped>\n",
       "    .dataframe tbody tr th:only-of-type {\n",
       "        vertical-align: middle;\n",
       "    }\n",
       "\n",
       "    .dataframe tbody tr th {\n",
       "        vertical-align: top;\n",
       "    }\n",
       "\n",
       "    .dataframe thead th {\n",
       "        text-align: right;\n",
       "    }\n",
       "</style>\n",
       "<table border=\"1\" class=\"dataframe\">\n",
       "  <thead>\n",
       "    <tr style=\"text-align: right;\">\n",
       "      <th></th>\n",
       "      <th>age</th>\n",
       "      <th>Dept</th>\n",
       "      <th>location</th>\n",
       "      <th>education</th>\n",
       "      <th>recruitment_type</th>\n",
       "      <th>rating</th>\n",
       "      <th>onsite</th>\n",
       "      <th>awards</th>\n",
       "      <th>certifications</th>\n",
       "      <th>salary</th>\n",
       "    </tr>\n",
       "  </thead>\n",
       "  <tbody>\n",
       "    <tr>\n",
       "      <th>90</th>\n",
       "      <td>35</td>\n",
       "      <td>2</td>\n",
       "      <td>1</td>\n",
       "      <td>0</td>\n",
       "      <td>3</td>\n",
       "      <td>3</td>\n",
       "      <td>0</td>\n",
       "      <td>2</td>\n",
       "      <td>0</td>\n",
       "      <td>65715</td>\n",
       "    </tr>\n",
       "    <tr>\n",
       "      <th>254</th>\n",
       "      <td>43</td>\n",
       "      <td>3</td>\n",
       "      <td>1</td>\n",
       "      <td>0</td>\n",
       "      <td>0</td>\n",
       "      <td>4</td>\n",
       "      <td>0</td>\n",
       "      <td>1</td>\n",
       "      <td>0</td>\n",
       "      <td>29805</td>\n",
       "    </tr>\n",
       "    <tr>\n",
       "      <th>283</th>\n",
       "      <td>49</td>\n",
       "      <td>1</td>\n",
       "      <td>1</td>\n",
       "      <td>1</td>\n",
       "      <td>3</td>\n",
       "      <td>1</td>\n",
       "      <td>1</td>\n",
       "      <td>1</td>\n",
       "      <td>0</td>\n",
       "      <td>24076</td>\n",
       "    </tr>\n",
       "    <tr>\n",
       "      <th>445</th>\n",
       "      <td>53</td>\n",
       "      <td>1</td>\n",
       "      <td>1</td>\n",
       "      <td>0</td>\n",
       "      <td>2</td>\n",
       "      <td>5</td>\n",
       "      <td>0</td>\n",
       "      <td>6</td>\n",
       "      <td>1</td>\n",
       "      <td>65715</td>\n",
       "    </tr>\n",
       "    <tr>\n",
       "      <th>461</th>\n",
       "      <td>33</td>\n",
       "      <td>3</td>\n",
       "      <td>0</td>\n",
       "      <td>0</td>\n",
       "      <td>0</td>\n",
       "      <td>3</td>\n",
       "      <td>1</td>\n",
       "      <td>6</td>\n",
       "      <td>0</td>\n",
       "      <td>24076</td>\n",
       "    </tr>\n",
       "    <tr>\n",
       "      <th>...</th>\n",
       "      <td>...</td>\n",
       "      <td>...</td>\n",
       "      <td>...</td>\n",
       "      <td>...</td>\n",
       "      <td>...</td>\n",
       "      <td>...</td>\n",
       "      <td>...</td>\n",
       "      <td>...</td>\n",
       "      <td>...</td>\n",
       "      <td>...</td>\n",
       "    </tr>\n",
       "    <tr>\n",
       "      <th>372</th>\n",
       "      <td>28</td>\n",
       "      <td>1</td>\n",
       "      <td>1</td>\n",
       "      <td>1</td>\n",
       "      <td>1</td>\n",
       "      <td>1</td>\n",
       "      <td>0</td>\n",
       "      <td>4</td>\n",
       "      <td>1</td>\n",
       "      <td>86750</td>\n",
       "    </tr>\n",
       "    <tr>\n",
       "      <th>56</th>\n",
       "      <td>40</td>\n",
       "      <td>2</td>\n",
       "      <td>1</td>\n",
       "      <td>1</td>\n",
       "      <td>0</td>\n",
       "      <td>5</td>\n",
       "      <td>1</td>\n",
       "      <td>6</td>\n",
       "      <td>1</td>\n",
       "      <td>65715</td>\n",
       "    </tr>\n",
       "    <tr>\n",
       "      <th>440</th>\n",
       "      <td>43</td>\n",
       "      <td>1</td>\n",
       "      <td>1</td>\n",
       "      <td>0</td>\n",
       "      <td>2</td>\n",
       "      <td>4</td>\n",
       "      <td>0</td>\n",
       "      <td>3</td>\n",
       "      <td>1</td>\n",
       "      <td>29805</td>\n",
       "    </tr>\n",
       "    <tr>\n",
       "      <th>60</th>\n",
       "      <td>37</td>\n",
       "      <td>1</td>\n",
       "      <td>1</td>\n",
       "      <td>0</td>\n",
       "      <td>1</td>\n",
       "      <td>4</td>\n",
       "      <td>1</td>\n",
       "      <td>7</td>\n",
       "      <td>0</td>\n",
       "      <td>86750</td>\n",
       "    </tr>\n",
       "    <tr>\n",
       "      <th>208</th>\n",
       "      <td>37</td>\n",
       "      <td>0</td>\n",
       "      <td>1</td>\n",
       "      <td>0</td>\n",
       "      <td>3</td>\n",
       "      <td>4</td>\n",
       "      <td>0</td>\n",
       "      <td>3</td>\n",
       "      <td>1</td>\n",
       "      <td>86750</td>\n",
       "    </tr>\n",
       "  </tbody>\n",
       "</table>\n",
       "<p>100 rows × 10 columns</p>\n",
       "</div>"
      ],
      "text/plain": [
       "     age  Dept  location  education  recruitment_type  rating  onsite  awards  \\\n",
       "90    35     2         1          0                 3       3       0       2   \n",
       "254   43     3         1          0                 0       4       0       1   \n",
       "283   49     1         1          1                 3       1       1       1   \n",
       "445   53     1         1          0                 2       5       0       6   \n",
       "461   33     3         0          0                 0       3       1       6   \n",
       "..   ...   ...       ...        ...               ...     ...     ...     ...   \n",
       "372   28     1         1          1                 1       1       0       4   \n",
       "56    40     2         1          1                 0       5       1       6   \n",
       "440   43     1         1          0                 2       4       0       3   \n",
       "60    37     1         1          0                 1       4       1       7   \n",
       "208   37     0         1          0                 3       4       0       3   \n",
       "\n",
       "     certifications  salary  \n",
       "90                0   65715  \n",
       "254               0   29805  \n",
       "283               0   24076  \n",
       "445               1   65715  \n",
       "461               0   24076  \n",
       "..              ...     ...  \n",
       "372               1   86750  \n",
       "56                1   65715  \n",
       "440               1   29805  \n",
       "60                0   86750  \n",
       "208               1   86750  \n",
       "\n",
       "[100 rows x 10 columns]"
      ]
     },
     "execution_count": 220,
     "metadata": {},
     "output_type": "execute_result"
    }
   ],
   "source": [
    "X_test"
   ]
  },
  {
   "cell_type": "code",
   "execution_count": 221,
   "metadata": {
    "ExecuteTime": {
     "end_time": "2021-11-08T07:50:40.621337Z",
     "start_time": "2021-11-08T07:50:40.598737Z"
    }
   },
   "outputs": [
    {
     "data": {
      "text/plain": [
       "0    266\n",
       "1    234\n",
       "Name: clusters, dtype: int64"
      ]
     },
     "execution_count": 221,
     "metadata": {},
     "output_type": "execute_result"
    }
   ],
   "source": [
    "df.clusters.value_counts()"
   ]
  },
  {
   "cell_type": "code",
   "execution_count": 222,
   "metadata": {
    "ExecuteTime": {
     "end_time": "2021-11-08T07:50:50.940193Z",
     "start_time": "2021-11-08T07:50:50.860912Z"
    }
   },
   "outputs": [
    {
     "data": {
      "text/plain": [
       "array([0, 0, 0, 1, 0, 0, 1, 1, 1, 1, 1, 1, 0, 1, 1, 1, 1, 0, 1, 1, 1, 1,\n",
       "       1, 0, 0, 1, 0, 1, 0, 1, 0, 1, 0, 1, 1, 0, 1, 1, 1, 1, 0, 1, 0, 0,\n",
       "       1, 1, 1, 0, 0, 1, 0, 1, 1, 0, 1, 0, 1, 1, 0, 0, 0, 0, 1, 0, 0, 1,\n",
       "       0, 0, 1, 0, 1, 1, 0, 0, 1, 1, 0, 1, 0, 1, 1, 1, 0, 0, 0, 0, 0, 1,\n",
       "       1, 0, 0, 1, 1, 1, 1, 1, 1, 0, 1, 1, 1, 1, 1, 0, 1, 0, 0, 1, 1, 1,\n",
       "       1, 1, 0, 0, 0, 0, 0, 1, 1, 1, 1, 0, 0, 1, 0, 1, 1, 1, 1, 1, 1, 0,\n",
       "       0, 1, 0, 0, 0, 1, 0, 1, 0, 1, 0, 0, 1, 0, 1, 1, 1, 0, 1, 1, 1, 1,\n",
       "       1, 1, 1, 1, 0, 1, 1, 0, 0, 1, 1, 1, 1, 1, 0, 0, 1, 1, 0, 1, 1, 1,\n",
       "       1, 0, 0, 0, 1, 0, 0, 0, 1, 0, 1, 1, 0, 1, 1, 0, 1, 0, 1, 0, 0, 1,\n",
       "       1, 0, 1, 1, 1, 1, 0, 1, 1, 1, 1, 1, 0, 0, 0, 0, 1, 1, 0, 1, 1, 1,\n",
       "       0, 0, 1, 1, 0, 1, 0, 0, 1, 1, 0, 0, 1, 1, 1, 1, 0, 1, 0, 0, 1, 0,\n",
       "       0, 1, 1, 1, 0, 1, 0, 0, 1, 0, 0, 1, 1, 0, 0, 1, 1, 0, 1, 0, 0, 0,\n",
       "       0, 0, 0, 1, 0, 0, 0, 1, 0, 0, 0, 0, 1, 1, 0, 1, 0, 1, 1, 0, 1, 0,\n",
       "       0, 1, 1, 1, 1, 0, 1, 1, 0, 1, 0, 1, 0, 1, 1, 1, 1, 0, 1, 1, 0, 0,\n",
       "       0, 0, 0, 0, 0, 0, 0, 1, 1, 1, 1, 1, 1, 1, 1, 0, 0, 1, 1, 0, 1, 1,\n",
       "       0, 1, 1, 1, 1, 1, 0, 1, 0, 0, 0, 1, 0, 0, 0, 1, 1, 1, 0, 1, 0, 1,\n",
       "       0, 1, 1, 1, 0, 0, 1, 1, 0, 1, 1, 1, 1, 0, 1, 0, 0, 0, 1, 1, 1, 0,\n",
       "       1, 1, 0, 0, 0, 1, 1, 1, 0, 1, 1, 1, 1, 1, 0, 1, 1, 1, 0, 1, 0, 1,\n",
       "       1, 0, 1, 1])"
      ]
     },
     "execution_count": 222,
     "metadata": {},
     "output_type": "execute_result"
    }
   ],
   "source": [
    "kmeans.fit_predict(X_train)"
   ]
  },
  {
   "cell_type": "code",
   "execution_count": 223,
   "metadata": {
    "ExecuteTime": {
     "end_time": "2021-11-08T07:50:52.755556Z",
     "start_time": "2021-11-08T07:50:52.686542Z"
    }
   },
   "outputs": [
    {
     "data": {
      "text/plain": [
       "array([0, 1, 1, 0, 1, 0, 0, 1, 1, 1, 0, 0, 1, 0, 0, 1, 1, 1, 1, 0, 0, 0,\n",
       "       1, 1, 0, 1, 0, 1, 0, 0, 1, 1, 1, 1, 1, 1, 1, 1, 0, 0, 0, 0, 1, 1,\n",
       "       1, 1, 1, 1, 1, 0, 1, 0, 1, 0, 1, 1, 1, 1, 1, 1, 0, 1, 0, 1, 1, 1,\n",
       "       0, 1, 1, 0, 0, 0, 0, 1, 1, 0, 0, 0, 1, 1, 1, 0, 0, 1, 0, 0, 1, 1,\n",
       "       1, 0, 1, 1, 1, 1, 1, 0, 0, 1, 0, 0])"
      ]
     },
     "execution_count": 223,
     "metadata": {},
     "output_type": "execute_result"
    }
   ],
   "source": [
    "kmeans.fit_predict(X_test)"
   ]
  },
  {
   "cell_type": "code",
   "execution_count": 224,
   "metadata": {
    "ExecuteTime": {
     "end_time": "2021-11-08T07:50:54.456816Z",
     "start_time": "2021-11-08T07:50:54.254503Z"
    }
   },
   "outputs": [],
   "source": [
    "kmeans = KMeans(n_clusters=4)\n",
    "df['clusters'] = kmeans.fit_predict(df)"
   ]
  },
  {
   "cell_type": "code",
   "execution_count": 225,
   "metadata": {
    "ExecuteTime": {
     "end_time": "2021-11-08T07:50:55.666556Z",
     "start_time": "2021-11-08T07:50:55.622494Z"
    },
    "scrolled": true
   },
   "outputs": [
    {
     "data": {
      "text/html": [
       "<div>\n",
       "<style scoped>\n",
       "    .dataframe tbody tr th:only-of-type {\n",
       "        vertical-align: middle;\n",
       "    }\n",
       "\n",
       "    .dataframe tbody tr th {\n",
       "        vertical-align: top;\n",
       "    }\n",
       "\n",
       "    .dataframe thead th {\n",
       "        text-align: right;\n",
       "    }\n",
       "</style>\n",
       "<table border=\"1\" class=\"dataframe\">\n",
       "  <thead>\n",
       "    <tr style=\"text-align: right;\">\n",
       "      <th></th>\n",
       "      <th>age</th>\n",
       "      <th>Dept</th>\n",
       "      <th>location</th>\n",
       "      <th>education</th>\n",
       "      <th>recruitment_type</th>\n",
       "      <th>rating</th>\n",
       "      <th>onsite</th>\n",
       "      <th>awards</th>\n",
       "      <th>ertifications</th>\n",
       "      <th>salary</th>\n",
       "      <th>satisfied</th>\n",
       "      <th>clusters</th>\n",
       "    </tr>\n",
       "  </thead>\n",
       "  <tbody>\n",
       "    <tr>\n",
       "      <th>0</th>\n",
       "      <td>-1.124102</td>\n",
       "      <td>-1.384380</td>\n",
       "      <td>1.035635</td>\n",
       "      <td>-0.983141</td>\n",
       "      <td>0.432090</td>\n",
       "      <td>-0.752234</td>\n",
       "      <td>-0.933228</td>\n",
       "      <td>-1.240005</td>\n",
       "      <td>-0.991039</td>\n",
       "      <td>1.534931</td>\n",
       "      <td>0.948335</td>\n",
       "      <td>0</td>\n",
       "    </tr>\n",
       "    <tr>\n",
       "      <th>1</th>\n",
       "      <td>1.206741</td>\n",
       "      <td>1.438005</td>\n",
       "      <td>1.035635</td>\n",
       "      <td>-0.983141</td>\n",
       "      <td>1.310321</td>\n",
       "      <td>1.352898</td>\n",
       "      <td>1.069407</td>\n",
       "      <td>-0.889523</td>\n",
       "      <td>1.007024</td>\n",
       "      <td>-0.337836</td>\n",
       "      <td>-1.052371</td>\n",
       "      <td>2</td>\n",
       "    </tr>\n",
       "    <tr>\n",
       "      <th>2</th>\n",
       "      <td>0.465109</td>\n",
       "      <td>1.438005</td>\n",
       "      <td>1.035635</td>\n",
       "      <td>1.015113</td>\n",
       "      <td>0.432090</td>\n",
       "      <td>-1.453945</td>\n",
       "      <td>-0.933228</td>\n",
       "      <td>-0.889523</td>\n",
       "      <td>-0.991039</td>\n",
       "      <td>0.646305</td>\n",
       "      <td>-1.052371</td>\n",
       "      <td>2</td>\n",
       "    </tr>\n",
       "    <tr>\n",
       "      <th>3</th>\n",
       "      <td>0.571056</td>\n",
       "      <td>0.732409</td>\n",
       "      <td>-0.963660</td>\n",
       "      <td>-0.983141</td>\n",
       "      <td>-1.324373</td>\n",
       "      <td>-0.050523</td>\n",
       "      <td>1.069407</td>\n",
       "      <td>-1.590486</td>\n",
       "      <td>-0.991039</td>\n",
       "      <td>-0.870716</td>\n",
       "      <td>0.948335</td>\n",
       "      <td>1</td>\n",
       "    </tr>\n",
       "    <tr>\n",
       "      <th>4</th>\n",
       "      <td>-0.594365</td>\n",
       "      <td>-1.384380</td>\n",
       "      <td>-0.963660</td>\n",
       "      <td>1.015113</td>\n",
       "      <td>-0.446141</td>\n",
       "      <td>-1.453945</td>\n",
       "      <td>-0.933228</td>\n",
       "      <td>0.161923</td>\n",
       "      <td>-0.991039</td>\n",
       "      <td>-0.870716</td>\n",
       "      <td>0.948335</td>\n",
       "      <td>3</td>\n",
       "    </tr>\n",
       "  </tbody>\n",
       "</table>\n",
       "</div>"
      ],
      "text/plain": [
       "        age      Dept  location  education  recruitment_type    rating  \\\n",
       "0 -1.124102 -1.384380  1.035635  -0.983141          0.432090 -0.752234   \n",
       "1  1.206741  1.438005  1.035635  -0.983141          1.310321  1.352898   \n",
       "2  0.465109  1.438005  1.035635   1.015113          0.432090 -1.453945   \n",
       "3  0.571056  0.732409 -0.963660  -0.983141         -1.324373 -0.050523   \n",
       "4 -0.594365 -1.384380 -0.963660   1.015113         -0.446141 -1.453945   \n",
       "\n",
       "     onsite    awards  ertifications    salary  satisfied  clusters  \n",
       "0 -0.933228 -1.240005      -0.991039  1.534931   0.948335         0  \n",
       "1  1.069407 -0.889523       1.007024 -0.337836  -1.052371         2  \n",
       "2 -0.933228 -0.889523      -0.991039  0.646305  -1.052371         2  \n",
       "3  1.069407 -1.590486      -0.991039 -0.870716   0.948335         1  \n",
       "4 -0.933228  0.161923      -0.991039 -0.870716   0.948335         3  "
      ]
     },
     "execution_count": 225,
     "metadata": {},
     "output_type": "execute_result"
    }
   ],
   "source": [
    "df.head()"
   ]
  },
  {
   "cell_type": "code",
   "execution_count": 226,
   "metadata": {
    "ExecuteTime": {
     "end_time": "2021-11-08T07:50:57.226842Z",
     "start_time": "2021-11-08T07:50:57.198485Z"
    }
   },
   "outputs": [
    {
     "data": {
      "text/plain": [
       "107    1\n",
       "336    0\n",
       "71     0\n",
       "474    1\n",
       "6      0\n",
       "      ..\n",
       "323    0\n",
       "192    1\n",
       "117    0\n",
       "47     0\n",
       "172    0\n",
       "Name: satisfied, Length: 400, dtype: int64"
      ]
     },
     "execution_count": 226,
     "metadata": {},
     "output_type": "execute_result"
    }
   ],
   "source": [
    "y_train"
   ]
  },
  {
   "cell_type": "code",
   "execution_count": 227,
   "metadata": {
    "ExecuteTime": {
     "end_time": "2021-11-08T07:50:58.890277Z",
     "start_time": "2021-11-08T07:50:58.870420Z"
    }
   },
   "outputs": [
    {
     "data": {
      "text/plain": [
       "90     0\n",
       "254    0\n",
       "283    0\n",
       "445    1\n",
       "461    1\n",
       "      ..\n",
       "372    0\n",
       "56     1\n",
       "440    0\n",
       "60     1\n",
       "208    0\n",
       "Name: satisfied, Length: 100, dtype: int64"
      ]
     },
     "execution_count": 227,
     "metadata": {},
     "output_type": "execute_result"
    }
   ],
   "source": [
    "y_test"
   ]
  },
  {
   "cell_type": "code",
   "execution_count": 228,
   "metadata": {
    "ExecuteTime": {
     "end_time": "2021-11-08T07:51:02.349363Z",
     "start_time": "2021-11-08T07:51:02.303085Z"
    }
   },
   "outputs": [
    {
     "data": {
      "text/html": [
       "<div>\n",
       "<style scoped>\n",
       "    .dataframe tbody tr th:only-of-type {\n",
       "        vertical-align: middle;\n",
       "    }\n",
       "\n",
       "    .dataframe tbody tr th {\n",
       "        vertical-align: top;\n",
       "    }\n",
       "\n",
       "    .dataframe thead th {\n",
       "        text-align: right;\n",
       "    }\n",
       "</style>\n",
       "<table border=\"1\" class=\"dataframe\">\n",
       "  <thead>\n",
       "    <tr style=\"text-align: right;\">\n",
       "      <th></th>\n",
       "      <th>age</th>\n",
       "      <th>Dept</th>\n",
       "      <th>location</th>\n",
       "      <th>education</th>\n",
       "      <th>recruitment_type</th>\n",
       "      <th>rating</th>\n",
       "      <th>onsite</th>\n",
       "      <th>awards</th>\n",
       "      <th>certifications</th>\n",
       "      <th>salary</th>\n",
       "    </tr>\n",
       "  </thead>\n",
       "  <tbody>\n",
       "    <tr>\n",
       "      <th>107</th>\n",
       "      <td>52</td>\n",
       "      <td>2</td>\n",
       "      <td>1</td>\n",
       "      <td>0</td>\n",
       "      <td>2</td>\n",
       "      <td>3</td>\n",
       "      <td>1</td>\n",
       "      <td>7</td>\n",
       "      <td>0</td>\n",
       "      <td>65715</td>\n",
       "    </tr>\n",
       "    <tr>\n",
       "      <th>336</th>\n",
       "      <td>30</td>\n",
       "      <td>0</td>\n",
       "      <td>0</td>\n",
       "      <td>1</td>\n",
       "      <td>2</td>\n",
       "      <td>2</td>\n",
       "      <td>0</td>\n",
       "      <td>9</td>\n",
       "      <td>0</td>\n",
       "      <td>86750</td>\n",
       "    </tr>\n",
       "    <tr>\n",
       "      <th>71</th>\n",
       "      <td>24</td>\n",
       "      <td>0</td>\n",
       "      <td>0</td>\n",
       "      <td>1</td>\n",
       "      <td>1</td>\n",
       "      <td>5</td>\n",
       "      <td>1</td>\n",
       "      <td>3</td>\n",
       "      <td>1</td>\n",
       "      <td>65715</td>\n",
       "    </tr>\n",
       "    <tr>\n",
       "      <th>474</th>\n",
       "      <td>44</td>\n",
       "      <td>1</td>\n",
       "      <td>0</td>\n",
       "      <td>1</td>\n",
       "      <td>1</td>\n",
       "      <td>5</td>\n",
       "      <td>0</td>\n",
       "      <td>5</td>\n",
       "      <td>0</td>\n",
       "      <td>29805</td>\n",
       "    </tr>\n",
       "    <tr>\n",
       "      <th>6</th>\n",
       "      <td>26</td>\n",
       "      <td>2</td>\n",
       "      <td>1</td>\n",
       "      <td>1</td>\n",
       "      <td>2</td>\n",
       "      <td>5</td>\n",
       "      <td>0</td>\n",
       "      <td>2</td>\n",
       "      <td>0</td>\n",
       "      <td>86750</td>\n",
       "    </tr>\n",
       "    <tr>\n",
       "      <th>...</th>\n",
       "      <td>...</td>\n",
       "      <td>...</td>\n",
       "      <td>...</td>\n",
       "      <td>...</td>\n",
       "      <td>...</td>\n",
       "      <td>...</td>\n",
       "      <td>...</td>\n",
       "      <td>...</td>\n",
       "      <td>...</td>\n",
       "      <td>...</td>\n",
       "    </tr>\n",
       "    <tr>\n",
       "      <th>323</th>\n",
       "      <td>29</td>\n",
       "      <td>4</td>\n",
       "      <td>1</td>\n",
       "      <td>0</td>\n",
       "      <td>2</td>\n",
       "      <td>2</td>\n",
       "      <td>1</td>\n",
       "      <td>4</td>\n",
       "      <td>0</td>\n",
       "      <td>24076</td>\n",
       "    </tr>\n",
       "    <tr>\n",
       "      <th>192</th>\n",
       "      <td>30</td>\n",
       "      <td>3</td>\n",
       "      <td>0</td>\n",
       "      <td>0</td>\n",
       "      <td>1</td>\n",
       "      <td>3</td>\n",
       "      <td>0</td>\n",
       "      <td>9</td>\n",
       "      <td>0</td>\n",
       "      <td>29805</td>\n",
       "    </tr>\n",
       "    <tr>\n",
       "      <th>117</th>\n",
       "      <td>45</td>\n",
       "      <td>4</td>\n",
       "      <td>1</td>\n",
       "      <td>1</td>\n",
       "      <td>0</td>\n",
       "      <td>3</td>\n",
       "      <td>0</td>\n",
       "      <td>4</td>\n",
       "      <td>0</td>\n",
       "      <td>86750</td>\n",
       "    </tr>\n",
       "    <tr>\n",
       "      <th>47</th>\n",
       "      <td>46</td>\n",
       "      <td>0</td>\n",
       "      <td>1</td>\n",
       "      <td>1</td>\n",
       "      <td>2</td>\n",
       "      <td>2</td>\n",
       "      <td>0</td>\n",
       "      <td>1</td>\n",
       "      <td>0</td>\n",
       "      <td>42419</td>\n",
       "    </tr>\n",
       "    <tr>\n",
       "      <th>172</th>\n",
       "      <td>35</td>\n",
       "      <td>4</td>\n",
       "      <td>1</td>\n",
       "      <td>1</td>\n",
       "      <td>1</td>\n",
       "      <td>4</td>\n",
       "      <td>1</td>\n",
       "      <td>3</td>\n",
       "      <td>1</td>\n",
       "      <td>24076</td>\n",
       "    </tr>\n",
       "  </tbody>\n",
       "</table>\n",
       "<p>400 rows × 10 columns</p>\n",
       "</div>"
      ],
      "text/plain": [
       "     age  Dept  location  education  recruitment_type  rating  onsite  awards  \\\n",
       "107   52     2         1          0                 2       3       1       7   \n",
       "336   30     0         0          1                 2       2       0       9   \n",
       "71    24     0         0          1                 1       5       1       3   \n",
       "474   44     1         0          1                 1       5       0       5   \n",
       "6     26     2         1          1                 2       5       0       2   \n",
       "..   ...   ...       ...        ...               ...     ...     ...     ...   \n",
       "323   29     4         1          0                 2       2       1       4   \n",
       "192   30     3         0          0                 1       3       0       9   \n",
       "117   45     4         1          1                 0       3       0       4   \n",
       "47    46     0         1          1                 2       2       0       1   \n",
       "172   35     4         1          1                 1       4       1       3   \n",
       "\n",
       "     certifications  salary  \n",
       "107               0   65715  \n",
       "336               0   86750  \n",
       "71                1   65715  \n",
       "474               0   29805  \n",
       "6                 0   86750  \n",
       "..              ...     ...  \n",
       "323               0   24076  \n",
       "192               0   29805  \n",
       "117               0   86750  \n",
       "47                0   42419  \n",
       "172               1   24076  \n",
       "\n",
       "[400 rows x 10 columns]"
      ]
     },
     "execution_count": 228,
     "metadata": {},
     "output_type": "execute_result"
    }
   ],
   "source": [
    "X_train"
   ]
  },
  {
   "cell_type": "code",
   "execution_count": 229,
   "metadata": {
    "ExecuteTime": {
     "end_time": "2021-11-08T07:51:04.208887Z",
     "start_time": "2021-11-08T07:51:04.167620Z"
    }
   },
   "outputs": [
    {
     "data": {
      "text/html": [
       "<div>\n",
       "<style scoped>\n",
       "    .dataframe tbody tr th:only-of-type {\n",
       "        vertical-align: middle;\n",
       "    }\n",
       "\n",
       "    .dataframe tbody tr th {\n",
       "        vertical-align: top;\n",
       "    }\n",
       "\n",
       "    .dataframe thead th {\n",
       "        text-align: right;\n",
       "    }\n",
       "</style>\n",
       "<table border=\"1\" class=\"dataframe\">\n",
       "  <thead>\n",
       "    <tr style=\"text-align: right;\">\n",
       "      <th></th>\n",
       "      <th>age</th>\n",
       "      <th>Dept</th>\n",
       "      <th>location</th>\n",
       "      <th>education</th>\n",
       "      <th>recruitment_type</th>\n",
       "      <th>rating</th>\n",
       "      <th>onsite</th>\n",
       "      <th>awards</th>\n",
       "      <th>certifications</th>\n",
       "      <th>salary</th>\n",
       "    </tr>\n",
       "  </thead>\n",
       "  <tbody>\n",
       "    <tr>\n",
       "      <th>90</th>\n",
       "      <td>35</td>\n",
       "      <td>2</td>\n",
       "      <td>1</td>\n",
       "      <td>0</td>\n",
       "      <td>3</td>\n",
       "      <td>3</td>\n",
       "      <td>0</td>\n",
       "      <td>2</td>\n",
       "      <td>0</td>\n",
       "      <td>65715</td>\n",
       "    </tr>\n",
       "    <tr>\n",
       "      <th>254</th>\n",
       "      <td>43</td>\n",
       "      <td>3</td>\n",
       "      <td>1</td>\n",
       "      <td>0</td>\n",
       "      <td>0</td>\n",
       "      <td>4</td>\n",
       "      <td>0</td>\n",
       "      <td>1</td>\n",
       "      <td>0</td>\n",
       "      <td>29805</td>\n",
       "    </tr>\n",
       "    <tr>\n",
       "      <th>283</th>\n",
       "      <td>49</td>\n",
       "      <td>1</td>\n",
       "      <td>1</td>\n",
       "      <td>1</td>\n",
       "      <td>3</td>\n",
       "      <td>1</td>\n",
       "      <td>1</td>\n",
       "      <td>1</td>\n",
       "      <td>0</td>\n",
       "      <td>24076</td>\n",
       "    </tr>\n",
       "    <tr>\n",
       "      <th>445</th>\n",
       "      <td>53</td>\n",
       "      <td>1</td>\n",
       "      <td>1</td>\n",
       "      <td>0</td>\n",
       "      <td>2</td>\n",
       "      <td>5</td>\n",
       "      <td>0</td>\n",
       "      <td>6</td>\n",
       "      <td>1</td>\n",
       "      <td>65715</td>\n",
       "    </tr>\n",
       "    <tr>\n",
       "      <th>461</th>\n",
       "      <td>33</td>\n",
       "      <td>3</td>\n",
       "      <td>0</td>\n",
       "      <td>0</td>\n",
       "      <td>0</td>\n",
       "      <td>3</td>\n",
       "      <td>1</td>\n",
       "      <td>6</td>\n",
       "      <td>0</td>\n",
       "      <td>24076</td>\n",
       "    </tr>\n",
       "    <tr>\n",
       "      <th>...</th>\n",
       "      <td>...</td>\n",
       "      <td>...</td>\n",
       "      <td>...</td>\n",
       "      <td>...</td>\n",
       "      <td>...</td>\n",
       "      <td>...</td>\n",
       "      <td>...</td>\n",
       "      <td>...</td>\n",
       "      <td>...</td>\n",
       "      <td>...</td>\n",
       "    </tr>\n",
       "    <tr>\n",
       "      <th>372</th>\n",
       "      <td>28</td>\n",
       "      <td>1</td>\n",
       "      <td>1</td>\n",
       "      <td>1</td>\n",
       "      <td>1</td>\n",
       "      <td>1</td>\n",
       "      <td>0</td>\n",
       "      <td>4</td>\n",
       "      <td>1</td>\n",
       "      <td>86750</td>\n",
       "    </tr>\n",
       "    <tr>\n",
       "      <th>56</th>\n",
       "      <td>40</td>\n",
       "      <td>2</td>\n",
       "      <td>1</td>\n",
       "      <td>1</td>\n",
       "      <td>0</td>\n",
       "      <td>5</td>\n",
       "      <td>1</td>\n",
       "      <td>6</td>\n",
       "      <td>1</td>\n",
       "      <td>65715</td>\n",
       "    </tr>\n",
       "    <tr>\n",
       "      <th>440</th>\n",
       "      <td>43</td>\n",
       "      <td>1</td>\n",
       "      <td>1</td>\n",
       "      <td>0</td>\n",
       "      <td>2</td>\n",
       "      <td>4</td>\n",
       "      <td>0</td>\n",
       "      <td>3</td>\n",
       "      <td>1</td>\n",
       "      <td>29805</td>\n",
       "    </tr>\n",
       "    <tr>\n",
       "      <th>60</th>\n",
       "      <td>37</td>\n",
       "      <td>1</td>\n",
       "      <td>1</td>\n",
       "      <td>0</td>\n",
       "      <td>1</td>\n",
       "      <td>4</td>\n",
       "      <td>1</td>\n",
       "      <td>7</td>\n",
       "      <td>0</td>\n",
       "      <td>86750</td>\n",
       "    </tr>\n",
       "    <tr>\n",
       "      <th>208</th>\n",
       "      <td>37</td>\n",
       "      <td>0</td>\n",
       "      <td>1</td>\n",
       "      <td>0</td>\n",
       "      <td>3</td>\n",
       "      <td>4</td>\n",
       "      <td>0</td>\n",
       "      <td>3</td>\n",
       "      <td>1</td>\n",
       "      <td>86750</td>\n",
       "    </tr>\n",
       "  </tbody>\n",
       "</table>\n",
       "<p>100 rows × 10 columns</p>\n",
       "</div>"
      ],
      "text/plain": [
       "     age  Dept  location  education  recruitment_type  rating  onsite  awards  \\\n",
       "90    35     2         1          0                 3       3       0       2   \n",
       "254   43     3         1          0                 0       4       0       1   \n",
       "283   49     1         1          1                 3       1       1       1   \n",
       "445   53     1         1          0                 2       5       0       6   \n",
       "461   33     3         0          0                 0       3       1       6   \n",
       "..   ...   ...       ...        ...               ...     ...     ...     ...   \n",
       "372   28     1         1          1                 1       1       0       4   \n",
       "56    40     2         1          1                 0       5       1       6   \n",
       "440   43     1         1          0                 2       4       0       3   \n",
       "60    37     1         1          0                 1       4       1       7   \n",
       "208   37     0         1          0                 3       4       0       3   \n",
       "\n",
       "     certifications  salary  \n",
       "90                0   65715  \n",
       "254               0   29805  \n",
       "283               0   24076  \n",
       "445               1   65715  \n",
       "461               0   24076  \n",
       "..              ...     ...  \n",
       "372               1   86750  \n",
       "56                1   65715  \n",
       "440               1   29805  \n",
       "60                0   86750  \n",
       "208               1   86750  \n",
       "\n",
       "[100 rows x 10 columns]"
      ]
     },
     "execution_count": 229,
     "metadata": {},
     "output_type": "execute_result"
    }
   ],
   "source": [
    "X_test"
   ]
  },
  {
   "cell_type": "code",
   "execution_count": 230,
   "metadata": {
    "ExecuteTime": {
     "end_time": "2021-11-08T07:51:09.885157Z",
     "start_time": "2021-11-08T07:51:09.869450Z"
    }
   },
   "outputs": [
    {
     "data": {
      "text/plain": [
       "3    139\n",
       "0    123\n",
       "1    120\n",
       "2    118\n",
       "Name: clusters, dtype: int64"
      ]
     },
     "execution_count": 230,
     "metadata": {},
     "output_type": "execute_result"
    }
   ],
   "source": [
    "df.clusters.value_counts()"
   ]
  },
  {
   "cell_type": "code",
   "execution_count": 231,
   "metadata": {
    "ExecuteTime": {
     "end_time": "2021-11-08T07:51:11.946313Z",
     "start_time": "2021-11-08T07:51:11.837991Z"
    }
   },
   "outputs": [
    {
     "data": {
      "text/plain": [
       "array([2, 1, 2, 3, 1, 1, 3, 0, 3, 3, 0, 3, 1, 0, 3, 0, 3, 2, 3, 3, 3, 3,\n",
       "       3, 1, 2, 0, 1, 3, 2, 3, 1, 3, 1, 3, 3, 2, 3, 3, 3, 0, 1, 0, 1, 2,\n",
       "       0, 3, 0, 1, 2, 0, 2, 3, 3, 1, 0, 2, 0, 3, 2, 1, 1, 2, 3, 2, 1, 3,\n",
       "       2, 1, 0, 1, 3, 3, 1, 2, 3, 0, 2, 3, 2, 0, 3, 0, 2, 2, 1, 2, 2, 3,\n",
       "       3, 1, 2, 0, 3, 3, 3, 3, 0, 2, 3, 0, 3, 3, 3, 2, 3, 1, 2, 3, 3, 3,\n",
       "       0, 3, 2, 2, 2, 1, 2, 3, 0, 3, 3, 1, 2, 3, 2, 3, 3, 3, 3, 3, 3, 1,\n",
       "       2, 3, 1, 2, 2, 3, 2, 3, 1, 0, 2, 1, 3, 2, 0, 3, 0, 2, 3, 3, 3, 3,\n",
       "       3, 3, 3, 3, 1, 3, 0, 1, 2, 3, 3, 3, 3, 0, 2, 1, 3, 0, 2, 0, 3, 3,\n",
       "       3, 2, 2, 1, 3, 1, 1, 2, 3, 2, 0, 3, 2, 0, 3, 2, 3, 2, 3, 2, 2, 3,\n",
       "       0, 1, 3, 3, 0, 0, 2, 0, 3, 3, 3, 3, 1, 2, 1, 1, 3, 3, 1, 3, 0, 3,\n",
       "       1, 1, 3, 3, 2, 0, 1, 1, 3, 3, 2, 1, 3, 3, 3, 3, 2, 3, 2, 1, 3, 2,\n",
       "       1, 3, 3, 3, 1, 0, 2, 2, 3, 2, 2, 3, 3, 2, 1, 3, 3, 1, 3, 2, 2, 1,\n",
       "       1, 1, 2, 3, 1, 2, 1, 0, 1, 1, 1, 1, 0, 0, 1, 3, 1, 3, 3, 2, 3, 2,\n",
       "       2, 0, 0, 3, 0, 1, 3, 3, 2, 3, 1, 3, 1, 3, 3, 3, 3, 2, 3, 0, 1, 2,\n",
       "       1, 1, 1, 1, 1, 2, 2, 0, 0, 3, 0, 3, 3, 3, 3, 1, 2, 3, 0, 2, 3, 0,\n",
       "       2, 0, 3, 3, 3, 3, 2, 3, 2, 2, 1, 0, 2, 1, 1, 3, 0, 3, 2, 3, 1, 3,\n",
       "       1, 3, 0, 3, 2, 1, 0, 3, 1, 0, 0, 0, 0, 1, 0, 1, 2, 1, 3, 3, 3, 2,\n",
       "       3, 3, 2, 2, 2, 3, 3, 3, 1, 3, 3, 3, 3, 3, 1, 3, 3, 0, 2, 3, 1, 3,\n",
       "       3, 1, 0, 3])"
      ]
     },
     "execution_count": 231,
     "metadata": {},
     "output_type": "execute_result"
    }
   ],
   "source": [
    "kmeans.fit_predict(X_train)"
   ]
  },
  {
   "cell_type": "code",
   "execution_count": 232,
   "metadata": {
    "ExecuteTime": {
     "end_time": "2021-11-08T07:51:15.733514Z",
     "start_time": "2021-11-08T07:51:15.652492Z"
    }
   },
   "outputs": [
    {
     "data": {
      "text/plain": [
       "array([2, 0, 0, 2, 0, 1, 1, 0, 0, 0, 1, 2, 0, 1, 1, 0, 0, 0, 0, 2, 1, 2,\n",
       "       3, 3, 1, 0, 1, 3, 2, 1, 0, 0, 0, 3, 3, 3, 3, 0, 2, 2, 1, 2, 0, 3,\n",
       "       0, 3, 3, 3, 0, 1, 0, 1, 3, 2, 3, 3, 3, 0, 0, 0, 2, 0, 1, 3, 3, 3,\n",
       "       2, 0, 0, 1, 2, 2, 1, 0, 0, 2, 2, 1, 3, 0, 0, 2, 2, 0, 1, 2, 3, 0,\n",
       "       0, 2, 0, 0, 3, 0, 0, 1, 2, 0, 1, 1])"
      ]
     },
     "execution_count": 232,
     "metadata": {},
     "output_type": "execute_result"
    }
   ],
   "source": [
    "kmeans.fit_predict(X_test)"
   ]
  },
  {
   "cell_type": "code",
   "execution_count": 233,
   "metadata": {
    "ExecuteTime": {
     "end_time": "2021-11-08T07:51:18.336825Z",
     "start_time": "2021-11-08T07:51:18.085953Z"
    }
   },
   "outputs": [],
   "source": [
    "kmeans = KMeans(n_clusters=8)\n",
    "df['clusters'] = kmeans.fit_predict(df)"
   ]
  },
  {
   "cell_type": "code",
   "execution_count": 234,
   "metadata": {
    "ExecuteTime": {
     "end_time": "2021-11-08T07:51:20.699292Z",
     "start_time": "2021-11-08T07:51:20.663134Z"
    },
    "scrolled": true
   },
   "outputs": [
    {
     "data": {
      "text/html": [
       "<div>\n",
       "<style scoped>\n",
       "    .dataframe tbody tr th:only-of-type {\n",
       "        vertical-align: middle;\n",
       "    }\n",
       "\n",
       "    .dataframe tbody tr th {\n",
       "        vertical-align: top;\n",
       "    }\n",
       "\n",
       "    .dataframe thead th {\n",
       "        text-align: right;\n",
       "    }\n",
       "</style>\n",
       "<table border=\"1\" class=\"dataframe\">\n",
       "  <thead>\n",
       "    <tr style=\"text-align: right;\">\n",
       "      <th></th>\n",
       "      <th>age</th>\n",
       "      <th>Dept</th>\n",
       "      <th>location</th>\n",
       "      <th>education</th>\n",
       "      <th>recruitment_type</th>\n",
       "      <th>rating</th>\n",
       "      <th>onsite</th>\n",
       "      <th>awards</th>\n",
       "      <th>ertifications</th>\n",
       "      <th>salary</th>\n",
       "      <th>satisfied</th>\n",
       "      <th>clusters</th>\n",
       "    </tr>\n",
       "  </thead>\n",
       "  <tbody>\n",
       "    <tr>\n",
       "      <th>0</th>\n",
       "      <td>-1.124102</td>\n",
       "      <td>-1.384380</td>\n",
       "      <td>1.035635</td>\n",
       "      <td>-0.983141</td>\n",
       "      <td>0.432090</td>\n",
       "      <td>-0.752234</td>\n",
       "      <td>-0.933228</td>\n",
       "      <td>-1.240005</td>\n",
       "      <td>-0.991039</td>\n",
       "      <td>1.534931</td>\n",
       "      <td>0.948335</td>\n",
       "      <td>4</td>\n",
       "    </tr>\n",
       "    <tr>\n",
       "      <th>1</th>\n",
       "      <td>1.206741</td>\n",
       "      <td>1.438005</td>\n",
       "      <td>1.035635</td>\n",
       "      <td>-0.983141</td>\n",
       "      <td>1.310321</td>\n",
       "      <td>1.352898</td>\n",
       "      <td>1.069407</td>\n",
       "      <td>-0.889523</td>\n",
       "      <td>1.007024</td>\n",
       "      <td>-0.337836</td>\n",
       "      <td>-1.052371</td>\n",
       "      <td>1</td>\n",
       "    </tr>\n",
       "    <tr>\n",
       "      <th>2</th>\n",
       "      <td>0.465109</td>\n",
       "      <td>1.438005</td>\n",
       "      <td>1.035635</td>\n",
       "      <td>1.015113</td>\n",
       "      <td>0.432090</td>\n",
       "      <td>-1.453945</td>\n",
       "      <td>-0.933228</td>\n",
       "      <td>-0.889523</td>\n",
       "      <td>-0.991039</td>\n",
       "      <td>0.646305</td>\n",
       "      <td>-1.052371</td>\n",
       "      <td>3</td>\n",
       "    </tr>\n",
       "    <tr>\n",
       "      <th>3</th>\n",
       "      <td>0.571056</td>\n",
       "      <td>0.732409</td>\n",
       "      <td>-0.963660</td>\n",
       "      <td>-0.983141</td>\n",
       "      <td>-1.324373</td>\n",
       "      <td>-0.050523</td>\n",
       "      <td>1.069407</td>\n",
       "      <td>-1.590486</td>\n",
       "      <td>-0.991039</td>\n",
       "      <td>-0.870716</td>\n",
       "      <td>0.948335</td>\n",
       "      <td>2</td>\n",
       "    </tr>\n",
       "    <tr>\n",
       "      <th>4</th>\n",
       "      <td>-0.594365</td>\n",
       "      <td>-1.384380</td>\n",
       "      <td>-0.963660</td>\n",
       "      <td>1.015113</td>\n",
       "      <td>-0.446141</td>\n",
       "      <td>-1.453945</td>\n",
       "      <td>-0.933228</td>\n",
       "      <td>0.161923</td>\n",
       "      <td>-0.991039</td>\n",
       "      <td>-0.870716</td>\n",
       "      <td>0.948335</td>\n",
       "      <td>6</td>\n",
       "    </tr>\n",
       "  </tbody>\n",
       "</table>\n",
       "</div>"
      ],
      "text/plain": [
       "        age      Dept  location  education  recruitment_type    rating  \\\n",
       "0 -1.124102 -1.384380  1.035635  -0.983141          0.432090 -0.752234   \n",
       "1  1.206741  1.438005  1.035635  -0.983141          1.310321  1.352898   \n",
       "2  0.465109  1.438005  1.035635   1.015113          0.432090 -1.453945   \n",
       "3  0.571056  0.732409 -0.963660  -0.983141         -1.324373 -0.050523   \n",
       "4 -0.594365 -1.384380 -0.963660   1.015113         -0.446141 -1.453945   \n",
       "\n",
       "     onsite    awards  ertifications    salary  satisfied  clusters  \n",
       "0 -0.933228 -1.240005      -0.991039  1.534931   0.948335         4  \n",
       "1  1.069407 -0.889523       1.007024 -0.337836  -1.052371         1  \n",
       "2 -0.933228 -0.889523      -0.991039  0.646305  -1.052371         3  \n",
       "3  1.069407 -1.590486      -0.991039 -0.870716   0.948335         2  \n",
       "4 -0.933228  0.161923      -0.991039 -0.870716   0.948335         6  "
      ]
     },
     "execution_count": 234,
     "metadata": {},
     "output_type": "execute_result"
    }
   ],
   "source": [
    "df.head()"
   ]
  },
  {
   "cell_type": "code",
   "execution_count": 235,
   "metadata": {
    "ExecuteTime": {
     "end_time": "2021-11-08T07:51:21.911806Z",
     "start_time": "2021-11-08T07:51:21.893773Z"
    }
   },
   "outputs": [
    {
     "data": {
      "text/plain": [
       "107    1\n",
       "336    0\n",
       "71     0\n",
       "474    1\n",
       "6      0\n",
       "      ..\n",
       "323    0\n",
       "192    1\n",
       "117    0\n",
       "47     0\n",
       "172    0\n",
       "Name: satisfied, Length: 400, dtype: int64"
      ]
     },
     "execution_count": 235,
     "metadata": {},
     "output_type": "execute_result"
    }
   ],
   "source": [
    "y_train"
   ]
  },
  {
   "cell_type": "code",
   "execution_count": 236,
   "metadata": {
    "ExecuteTime": {
     "end_time": "2021-11-08T07:51:22.905063Z",
     "start_time": "2021-11-08T07:51:22.885489Z"
    }
   },
   "outputs": [
    {
     "data": {
      "text/plain": [
       "90     0\n",
       "254    0\n",
       "283    0\n",
       "445    1\n",
       "461    1\n",
       "      ..\n",
       "372    0\n",
       "56     1\n",
       "440    0\n",
       "60     1\n",
       "208    0\n",
       "Name: satisfied, Length: 100, dtype: int64"
      ]
     },
     "execution_count": 236,
     "metadata": {},
     "output_type": "execute_result"
    }
   ],
   "source": [
    "y_test"
   ]
  },
  {
   "cell_type": "code",
   "execution_count": 237,
   "metadata": {
    "ExecuteTime": {
     "end_time": "2021-11-08T07:51:24.472023Z",
     "start_time": "2021-11-08T07:51:24.417149Z"
    }
   },
   "outputs": [
    {
     "data": {
      "text/html": [
       "<div>\n",
       "<style scoped>\n",
       "    .dataframe tbody tr th:only-of-type {\n",
       "        vertical-align: middle;\n",
       "    }\n",
       "\n",
       "    .dataframe tbody tr th {\n",
       "        vertical-align: top;\n",
       "    }\n",
       "\n",
       "    .dataframe thead th {\n",
       "        text-align: right;\n",
       "    }\n",
       "</style>\n",
       "<table border=\"1\" class=\"dataframe\">\n",
       "  <thead>\n",
       "    <tr style=\"text-align: right;\">\n",
       "      <th></th>\n",
       "      <th>age</th>\n",
       "      <th>Dept</th>\n",
       "      <th>location</th>\n",
       "      <th>education</th>\n",
       "      <th>recruitment_type</th>\n",
       "      <th>rating</th>\n",
       "      <th>onsite</th>\n",
       "      <th>awards</th>\n",
       "      <th>certifications</th>\n",
       "      <th>salary</th>\n",
       "    </tr>\n",
       "  </thead>\n",
       "  <tbody>\n",
       "    <tr>\n",
       "      <th>90</th>\n",
       "      <td>35</td>\n",
       "      <td>2</td>\n",
       "      <td>1</td>\n",
       "      <td>0</td>\n",
       "      <td>3</td>\n",
       "      <td>3</td>\n",
       "      <td>0</td>\n",
       "      <td>2</td>\n",
       "      <td>0</td>\n",
       "      <td>65715</td>\n",
       "    </tr>\n",
       "    <tr>\n",
       "      <th>254</th>\n",
       "      <td>43</td>\n",
       "      <td>3</td>\n",
       "      <td>1</td>\n",
       "      <td>0</td>\n",
       "      <td>0</td>\n",
       "      <td>4</td>\n",
       "      <td>0</td>\n",
       "      <td>1</td>\n",
       "      <td>0</td>\n",
       "      <td>29805</td>\n",
       "    </tr>\n",
       "    <tr>\n",
       "      <th>283</th>\n",
       "      <td>49</td>\n",
       "      <td>1</td>\n",
       "      <td>1</td>\n",
       "      <td>1</td>\n",
       "      <td>3</td>\n",
       "      <td>1</td>\n",
       "      <td>1</td>\n",
       "      <td>1</td>\n",
       "      <td>0</td>\n",
       "      <td>24076</td>\n",
       "    </tr>\n",
       "    <tr>\n",
       "      <th>445</th>\n",
       "      <td>53</td>\n",
       "      <td>1</td>\n",
       "      <td>1</td>\n",
       "      <td>0</td>\n",
       "      <td>2</td>\n",
       "      <td>5</td>\n",
       "      <td>0</td>\n",
       "      <td>6</td>\n",
       "      <td>1</td>\n",
       "      <td>65715</td>\n",
       "    </tr>\n",
       "    <tr>\n",
       "      <th>461</th>\n",
       "      <td>33</td>\n",
       "      <td>3</td>\n",
       "      <td>0</td>\n",
       "      <td>0</td>\n",
       "      <td>0</td>\n",
       "      <td>3</td>\n",
       "      <td>1</td>\n",
       "      <td>6</td>\n",
       "      <td>0</td>\n",
       "      <td>24076</td>\n",
       "    </tr>\n",
       "    <tr>\n",
       "      <th>...</th>\n",
       "      <td>...</td>\n",
       "      <td>...</td>\n",
       "      <td>...</td>\n",
       "      <td>...</td>\n",
       "      <td>...</td>\n",
       "      <td>...</td>\n",
       "      <td>...</td>\n",
       "      <td>...</td>\n",
       "      <td>...</td>\n",
       "      <td>...</td>\n",
       "    </tr>\n",
       "    <tr>\n",
       "      <th>372</th>\n",
       "      <td>28</td>\n",
       "      <td>1</td>\n",
       "      <td>1</td>\n",
       "      <td>1</td>\n",
       "      <td>1</td>\n",
       "      <td>1</td>\n",
       "      <td>0</td>\n",
       "      <td>4</td>\n",
       "      <td>1</td>\n",
       "      <td>86750</td>\n",
       "    </tr>\n",
       "    <tr>\n",
       "      <th>56</th>\n",
       "      <td>40</td>\n",
       "      <td>2</td>\n",
       "      <td>1</td>\n",
       "      <td>1</td>\n",
       "      <td>0</td>\n",
       "      <td>5</td>\n",
       "      <td>1</td>\n",
       "      <td>6</td>\n",
       "      <td>1</td>\n",
       "      <td>65715</td>\n",
       "    </tr>\n",
       "    <tr>\n",
       "      <th>440</th>\n",
       "      <td>43</td>\n",
       "      <td>1</td>\n",
       "      <td>1</td>\n",
       "      <td>0</td>\n",
       "      <td>2</td>\n",
       "      <td>4</td>\n",
       "      <td>0</td>\n",
       "      <td>3</td>\n",
       "      <td>1</td>\n",
       "      <td>29805</td>\n",
       "    </tr>\n",
       "    <tr>\n",
       "      <th>60</th>\n",
       "      <td>37</td>\n",
       "      <td>1</td>\n",
       "      <td>1</td>\n",
       "      <td>0</td>\n",
       "      <td>1</td>\n",
       "      <td>4</td>\n",
       "      <td>1</td>\n",
       "      <td>7</td>\n",
       "      <td>0</td>\n",
       "      <td>86750</td>\n",
       "    </tr>\n",
       "    <tr>\n",
       "      <th>208</th>\n",
       "      <td>37</td>\n",
       "      <td>0</td>\n",
       "      <td>1</td>\n",
       "      <td>0</td>\n",
       "      <td>3</td>\n",
       "      <td>4</td>\n",
       "      <td>0</td>\n",
       "      <td>3</td>\n",
       "      <td>1</td>\n",
       "      <td>86750</td>\n",
       "    </tr>\n",
       "  </tbody>\n",
       "</table>\n",
       "<p>100 rows × 10 columns</p>\n",
       "</div>"
      ],
      "text/plain": [
       "     age  Dept  location  education  recruitment_type  rating  onsite  awards  \\\n",
       "90    35     2         1          0                 3       3       0       2   \n",
       "254   43     3         1          0                 0       4       0       1   \n",
       "283   49     1         1          1                 3       1       1       1   \n",
       "445   53     1         1          0                 2       5       0       6   \n",
       "461   33     3         0          0                 0       3       1       6   \n",
       "..   ...   ...       ...        ...               ...     ...     ...     ...   \n",
       "372   28     1         1          1                 1       1       0       4   \n",
       "56    40     2         1          1                 0       5       1       6   \n",
       "440   43     1         1          0                 2       4       0       3   \n",
       "60    37     1         1          0                 1       4       1       7   \n",
       "208   37     0         1          0                 3       4       0       3   \n",
       "\n",
       "     certifications  salary  \n",
       "90                0   65715  \n",
       "254               0   29805  \n",
       "283               0   24076  \n",
       "445               1   65715  \n",
       "461               0   24076  \n",
       "..              ...     ...  \n",
       "372               1   86750  \n",
       "56                1   65715  \n",
       "440               1   29805  \n",
       "60                0   86750  \n",
       "208               1   86750  \n",
       "\n",
       "[100 rows x 10 columns]"
      ]
     },
     "execution_count": 237,
     "metadata": {},
     "output_type": "execute_result"
    }
   ],
   "source": [
    "X_test"
   ]
  },
  {
   "cell_type": "code",
   "execution_count": 238,
   "metadata": {
    "ExecuteTime": {
     "end_time": "2021-11-08T07:51:25.351937Z",
     "start_time": "2021-11-08T07:51:25.317493Z"
    }
   },
   "outputs": [
    {
     "data": {
      "text/html": [
       "<div>\n",
       "<style scoped>\n",
       "    .dataframe tbody tr th:only-of-type {\n",
       "        vertical-align: middle;\n",
       "    }\n",
       "\n",
       "    .dataframe tbody tr th {\n",
       "        vertical-align: top;\n",
       "    }\n",
       "\n",
       "    .dataframe thead th {\n",
       "        text-align: right;\n",
       "    }\n",
       "</style>\n",
       "<table border=\"1\" class=\"dataframe\">\n",
       "  <thead>\n",
       "    <tr style=\"text-align: right;\">\n",
       "      <th></th>\n",
       "      <th>age</th>\n",
       "      <th>Dept</th>\n",
       "      <th>location</th>\n",
       "      <th>education</th>\n",
       "      <th>recruitment_type</th>\n",
       "      <th>rating</th>\n",
       "      <th>onsite</th>\n",
       "      <th>awards</th>\n",
       "      <th>certifications</th>\n",
       "      <th>salary</th>\n",
       "    </tr>\n",
       "  </thead>\n",
       "  <tbody>\n",
       "    <tr>\n",
       "      <th>107</th>\n",
       "      <td>52</td>\n",
       "      <td>2</td>\n",
       "      <td>1</td>\n",
       "      <td>0</td>\n",
       "      <td>2</td>\n",
       "      <td>3</td>\n",
       "      <td>1</td>\n",
       "      <td>7</td>\n",
       "      <td>0</td>\n",
       "      <td>65715</td>\n",
       "    </tr>\n",
       "    <tr>\n",
       "      <th>336</th>\n",
       "      <td>30</td>\n",
       "      <td>0</td>\n",
       "      <td>0</td>\n",
       "      <td>1</td>\n",
       "      <td>2</td>\n",
       "      <td>2</td>\n",
       "      <td>0</td>\n",
       "      <td>9</td>\n",
       "      <td>0</td>\n",
       "      <td>86750</td>\n",
       "    </tr>\n",
       "    <tr>\n",
       "      <th>71</th>\n",
       "      <td>24</td>\n",
       "      <td>0</td>\n",
       "      <td>0</td>\n",
       "      <td>1</td>\n",
       "      <td>1</td>\n",
       "      <td>5</td>\n",
       "      <td>1</td>\n",
       "      <td>3</td>\n",
       "      <td>1</td>\n",
       "      <td>65715</td>\n",
       "    </tr>\n",
       "    <tr>\n",
       "      <th>474</th>\n",
       "      <td>44</td>\n",
       "      <td>1</td>\n",
       "      <td>0</td>\n",
       "      <td>1</td>\n",
       "      <td>1</td>\n",
       "      <td>5</td>\n",
       "      <td>0</td>\n",
       "      <td>5</td>\n",
       "      <td>0</td>\n",
       "      <td>29805</td>\n",
       "    </tr>\n",
       "    <tr>\n",
       "      <th>6</th>\n",
       "      <td>26</td>\n",
       "      <td>2</td>\n",
       "      <td>1</td>\n",
       "      <td>1</td>\n",
       "      <td>2</td>\n",
       "      <td>5</td>\n",
       "      <td>0</td>\n",
       "      <td>2</td>\n",
       "      <td>0</td>\n",
       "      <td>86750</td>\n",
       "    </tr>\n",
       "    <tr>\n",
       "      <th>...</th>\n",
       "      <td>...</td>\n",
       "      <td>...</td>\n",
       "      <td>...</td>\n",
       "      <td>...</td>\n",
       "      <td>...</td>\n",
       "      <td>...</td>\n",
       "      <td>...</td>\n",
       "      <td>...</td>\n",
       "      <td>...</td>\n",
       "      <td>...</td>\n",
       "    </tr>\n",
       "    <tr>\n",
       "      <th>323</th>\n",
       "      <td>29</td>\n",
       "      <td>4</td>\n",
       "      <td>1</td>\n",
       "      <td>0</td>\n",
       "      <td>2</td>\n",
       "      <td>2</td>\n",
       "      <td>1</td>\n",
       "      <td>4</td>\n",
       "      <td>0</td>\n",
       "      <td>24076</td>\n",
       "    </tr>\n",
       "    <tr>\n",
       "      <th>192</th>\n",
       "      <td>30</td>\n",
       "      <td>3</td>\n",
       "      <td>0</td>\n",
       "      <td>0</td>\n",
       "      <td>1</td>\n",
       "      <td>3</td>\n",
       "      <td>0</td>\n",
       "      <td>9</td>\n",
       "      <td>0</td>\n",
       "      <td>29805</td>\n",
       "    </tr>\n",
       "    <tr>\n",
       "      <th>117</th>\n",
       "      <td>45</td>\n",
       "      <td>4</td>\n",
       "      <td>1</td>\n",
       "      <td>1</td>\n",
       "      <td>0</td>\n",
       "      <td>3</td>\n",
       "      <td>0</td>\n",
       "      <td>4</td>\n",
       "      <td>0</td>\n",
       "      <td>86750</td>\n",
       "    </tr>\n",
       "    <tr>\n",
       "      <th>47</th>\n",
       "      <td>46</td>\n",
       "      <td>0</td>\n",
       "      <td>1</td>\n",
       "      <td>1</td>\n",
       "      <td>2</td>\n",
       "      <td>2</td>\n",
       "      <td>0</td>\n",
       "      <td>1</td>\n",
       "      <td>0</td>\n",
       "      <td>42419</td>\n",
       "    </tr>\n",
       "    <tr>\n",
       "      <th>172</th>\n",
       "      <td>35</td>\n",
       "      <td>4</td>\n",
       "      <td>1</td>\n",
       "      <td>1</td>\n",
       "      <td>1</td>\n",
       "      <td>4</td>\n",
       "      <td>1</td>\n",
       "      <td>3</td>\n",
       "      <td>1</td>\n",
       "      <td>24076</td>\n",
       "    </tr>\n",
       "  </tbody>\n",
       "</table>\n",
       "<p>400 rows × 10 columns</p>\n",
       "</div>"
      ],
      "text/plain": [
       "     age  Dept  location  education  recruitment_type  rating  onsite  awards  \\\n",
       "107   52     2         1          0                 2       3       1       7   \n",
       "336   30     0         0          1                 2       2       0       9   \n",
       "71    24     0         0          1                 1       5       1       3   \n",
       "474   44     1         0          1                 1       5       0       5   \n",
       "6     26     2         1          1                 2       5       0       2   \n",
       "..   ...   ...       ...        ...               ...     ...     ...     ...   \n",
       "323   29     4         1          0                 2       2       1       4   \n",
       "192   30     3         0          0                 1       3       0       9   \n",
       "117   45     4         1          1                 0       3       0       4   \n",
       "47    46     0         1          1                 2       2       0       1   \n",
       "172   35     4         1          1                 1       4       1       3   \n",
       "\n",
       "     certifications  salary  \n",
       "107               0   65715  \n",
       "336               0   86750  \n",
       "71                1   65715  \n",
       "474               0   29805  \n",
       "6                 0   86750  \n",
       "..              ...     ...  \n",
       "323               0   24076  \n",
       "192               0   29805  \n",
       "117               0   86750  \n",
       "47                0   42419  \n",
       "172               1   24076  \n",
       "\n",
       "[400 rows x 10 columns]"
      ]
     },
     "execution_count": 238,
     "metadata": {},
     "output_type": "execute_result"
    }
   ],
   "source": [
    "X_train"
   ]
  },
  {
   "cell_type": "code",
   "execution_count": 239,
   "metadata": {
    "ExecuteTime": {
     "end_time": "2021-11-08T07:51:27.246597Z",
     "start_time": "2021-11-08T07:51:27.221488Z"
    }
   },
   "outputs": [
    {
     "data": {
      "text/plain": [
       "6    92\n",
       "4    76\n",
       "2    70\n",
       "3    67\n",
       "0    50\n",
       "5    49\n",
       "1    49\n",
       "7    47\n",
       "Name: clusters, dtype: int64"
      ]
     },
     "execution_count": 239,
     "metadata": {},
     "output_type": "execute_result"
    }
   ],
   "source": [
    "df.clusters.value_counts()"
   ]
  },
  {
   "cell_type": "code",
   "execution_count": 243,
   "metadata": {
    "ExecuteTime": {
     "end_time": "2021-11-08T09:29:38.158726Z",
     "start_time": "2021-11-08T09:29:38.031977Z"
    },
    "scrolled": true
   },
   "outputs": [
    {
     "data": {
      "text/plain": [
       "array([1, 2, 7, 4, 2, 2, 5, 3, 5, 4, 3, 5, 2, 3, 5, 3, 6, 7, 5, 4, 4, 6,\n",
       "       4, 2, 1, 3, 2, 6, 1, 4, 2, 5, 2, 4, 0, 1, 4, 5, 4, 3, 2, 3, 2, 1,\n",
       "       3, 6, 3, 2, 1, 3, 7, 4, 5, 2, 3, 7, 3, 6, 7, 2, 2, 1, 5, 7, 2, 6,\n",
       "       1, 2, 3, 2, 6, 5, 2, 7, 6, 3, 7, 5, 7, 3, 5, 3, 1, 7, 2, 7, 7, 4,\n",
       "       4, 2, 1, 3, 0, 6, 5, 6, 3, 1, 0, 3, 4, 4, 5, 1, 0, 2, 7, 5, 4, 0,\n",
       "       3, 6, 1, 1, 1, 2, 7, 4, 3, 6, 0, 2, 7, 0, 1, 6, 6, 0, 6, 0, 4, 2,\n",
       "       1, 6, 2, 7, 7, 6, 7, 6, 2, 3, 7, 2, 5, 7, 3, 4, 3, 1, 5, 5, 4, 6,\n",
       "       0, 4, 0, 5, 2, 4, 3, 2, 1, 4, 5, 5, 4, 3, 7, 2, 4, 3, 7, 3, 5, 5,\n",
       "       0, 7, 1, 2, 4, 2, 2, 7, 6, 7, 3, 5, 7, 3, 6, 1, 4, 7, 4, 7, 7, 4,\n",
       "       3, 2, 4, 4, 3, 3, 7, 3, 4, 6, 6, 5, 2, 1, 2, 2, 5, 4, 2, 5, 3, 4,\n",
       "       2, 2, 5, 4, 1, 3, 2, 2, 6, 5, 7, 2, 5, 4, 5, 5, 1, 4, 7, 2, 0, 1,\n",
       "       2, 4, 4, 5, 2, 3, 7, 1, 4, 1, 1, 6, 4, 7, 2, 4, 6, 2, 5, 1, 1, 2,\n",
       "       2, 2, 1, 4, 2, 1, 2, 3, 2, 2, 2, 2, 3, 3, 2, 4, 2, 0, 4, 1, 5, 1,\n",
       "       1, 3, 3, 5, 3, 2, 0, 4, 7, 4, 2, 6, 2, 4, 5, 0, 4, 7, 6, 3, 2, 1,\n",
       "       2, 2, 2, 2, 2, 1, 7, 3, 3, 5, 3, 5, 5, 4, 5, 2, 1, 5, 3, 7, 0, 3,\n",
       "       1, 3, 4, 4, 4, 4, 1, 4, 1, 7, 2, 3, 7, 2, 2, 0, 3, 0, 7, 0, 2, 4,\n",
       "       2, 5, 3, 6, 1, 2, 3, 5, 2, 3, 3, 3, 3, 2, 3, 2, 7, 2, 6, 4, 5, 1,\n",
       "       5, 6, 7, 7, 1, 6, 4, 0, 2, 5, 4, 5, 0, 4, 2, 4, 5, 3, 7, 5, 2, 5,\n",
       "       6, 2, 3, 5])"
      ]
     },
     "execution_count": 243,
     "metadata": {},
     "output_type": "execute_result"
    }
   ],
   "source": [
    "kmeans.fit_predict(X_train)"
   ]
  },
  {
   "cell_type": "code",
   "execution_count": 241,
   "metadata": {
    "ExecuteTime": {
     "end_time": "2021-11-08T07:51:29.850479Z",
     "start_time": "2021-11-08T07:51:29.757571Z"
    }
   },
   "outputs": [
    {
     "data": {
      "text/plain": [
       "array([1, 7, 0, 5, 6, 2, 2, 4, 4, 4, 2, 1, 0, 2, 2, 0, 6, 0, 0, 1, 2, 5,\n",
       "       3, 3, 2, 6, 2, 3, 1, 2, 4, 6, 0, 3, 3, 3, 3, 4, 5, 1, 2, 1, 0, 3,\n",
       "       6, 3, 3, 3, 0, 2, 7, 2, 3, 5, 3, 3, 3, 4, 4, 6, 5, 6, 2, 3, 3, 3,\n",
       "       1, 0, 0, 2, 1, 1, 2, 4, 4, 1, 1, 2, 3, 7, 4, 5, 1, 7, 2, 1, 3, 4,\n",
       "       7, 1, 6, 0, 3, 0, 6, 2, 1, 7, 2, 2])"
      ]
     },
     "execution_count": 241,
     "metadata": {},
     "output_type": "execute_result"
    }
   ],
   "source": [
    "kmeans.fit_predict(X_test)"
   ]
  },
  {
   "cell_type": "code",
   "execution_count": 145,
   "metadata": {
    "ExecuteTime": {
     "end_time": "2021-11-08T06:40:51.539009Z",
     "start_time": "2021-11-08T06:40:51.527009Z"
    }
   },
   "outputs": [],
   "source": [
    "# Elbow chart\n",
    "# figure = plt.figure(figsize=(15, 10))\n",
    "# elbow = figure.add_subplot(1,2,1) \n",
    "# n_clusters=10\n",
    "# wcss=[]\n",
    "# for i in range(1,n_clusters):\n",
    "#     kmean= KMeans(i)\n",
    "#     kmean.fit(df_scaled)\n",
    "#     wcss.append(kmean.inertia_) \n",
    "#     elbow.set_ylabel('Sum of Squared Errors', fontsize = 10)\n",
    "#     elbow.set_xlabel('Number of Clusters', fontsize = 10)\n",
    "#     elbow.set_title('K-MEANS Clustering SSE: Elbow Chart', fontsize = 15)\n",
    "#     elbow.plot(wcss, 'bx-')\n"
   ]
  },
  {
   "cell_type": "code",
   "execution_count": 146,
   "metadata": {
    "ExecuteTime": {
     "end_time": "2021-11-08T06:40:51.986571Z",
     "start_time": "2021-11-08T06:40:51.975046Z"
    }
   },
   "outputs": [
    {
     "name": "stdout",
     "output_type": "stream",
     "text": [
      "k-means lables[0 0 0 1 1 0 0 1 1 1 1 0 1 0 1 1 1 0 0 1 0 0 1 1 0 0 0 1 1 0 1 1 0 0 1 1 0\n",
      " 1 1 0 0 1 1 1 0 1 1 0 0 1 0 0 1 0 0 1 0 1 1 0 0 0 1 0 1 0 0 0 1 0 0 1 1 0\n",
      " 0 0 1 1 1 1 0 1 1 1 0 0 1 1 0 0 0 0 0 0 0 0 1 1 1 1 1 1 0 0 1 1 0 0 0 1 0\n",
      " 1 1 0 0 1 0 0 1 0 1 1 0 1 1 0 0 0 1 1 0 1 0 0 1 0 1 1 0 1 0 1 1 1 0 1 0 1\n",
      " 1 0 0 0 0 0 1 1 0 1 1 1 0 1 1 1 0 1 1 0 0 1 1 0 0 0 0 0 0 0 1 0 0 1 0 0 1\n",
      " 0 1 1 1 1 0 1 1 0 1 1 1 1 0 1 0 0 1 1 1 1 0 0 0 1 0 1 1 1 1 1 0 0 1 0 1 1\n",
      " 1 0 1 1 0 0 0 1 1 0 1 0 0 1 1 0 0 0 0 1 0 0 0 1 1 0 1 1 1 0 0 1 0 0 1 1 0\n",
      " 1 0 0 1 0 0 1 1 1 0 1 1 1 1 0 0 1 0 1 1 0 0 1 1 0 1 0 1 1 0 0 0 0 0 0 0 1\n",
      " 1 1 0 0 0 1 0 0 1 0 1 1 0 0 0 1 1 1 0 0 0 0 1 1 1 1 0 0 0 1 1 0 0 1 0 1 1\n",
      " 1 0 0 1 0 1 1 1 1 0 1 1 0 1 1 0 0 0 1 0 0 1 1 1 1 1 0 0 0 1 1 1 0 0 1 0 1\n",
      " 0 0 0 1 0 0 1 0 1 1 1 1 1 0 1 1 1 1 0 1 0 1 0 1 1 0 1 0 1 0 1 1 0 1 1 1 1\n",
      " 1 1 0 0 0 1 0 1 1 1 1 0 1 0 1 0 0 0 0 0 0 1 0 1 0 1 0 0 1 0 0 0 1 0 1 0 0\n",
      " 1 0 0 1 0 1 1 1 0 1 1 0 1 0 0 0 0 1 1 1 1 1 0 1 1 1 0 0 1 0 1 1 0 0 1 1 0\n",
      " 1 0 1 0 1 1 0 1 1 0 1 1 1 0 0 0 1 1 1]\n"
     ]
    }
   ],
   "source": [
    "print(\"k-means lables\"+ str(kmeans.labels_))"
   ]
  },
  {
   "cell_type": "code",
   "execution_count": 148,
   "metadata": {
    "ExecuteTime": {
     "end_time": "2021-11-08T06:40:52.517619Z",
     "start_time": "2021-11-08T06:40:52.495677Z"
    }
   },
   "outputs": [
    {
     "data": {
      "text/plain": [
       "107    1\n",
       "336    0\n",
       "71     0\n",
       "474    1\n",
       "6      0\n",
       "      ..\n",
       "323    0\n",
       "192    1\n",
       "117    0\n",
       "47     0\n",
       "172    0\n",
       "Name: satisfied, Length: 400, dtype: int64"
      ]
     },
     "execution_count": 148,
     "metadata": {},
     "output_type": "execute_result"
    }
   ],
   "source": [
    "y_train"
   ]
  },
  {
   "cell_type": "code",
   "execution_count": 149,
   "metadata": {
    "ExecuteTime": {
     "end_time": "2021-11-08T06:40:52.767947Z",
     "start_time": "2021-11-08T06:40:52.750723Z"
    }
   },
   "outputs": [
    {
     "data": {
      "text/plain": [
       "array([[-1.12522746, -1.38576602,  1.03667198, ..., -0.99203175,\n",
       "         1.5364678 ,  0.9492843 ],\n",
       "       [ 1.20794918,  1.43944502,  1.03667198, ...,  1.00803226,\n",
       "        -0.33817466, -1.05342519],\n",
       "       [ 0.46557479,  1.43944502,  1.03667198, ..., -0.99203175,\n",
       "         0.64695247, -1.05342519],\n",
       "       ...,\n",
       "       [-0.48890656, -0.67946326, -0.96462528, ..., -0.99203175,\n",
       "        -1.11385232,  0.9492843 ],\n",
       "       [-1.33733443,  1.43944502, -0.96462528, ...,  1.00803226,\n",
       "        -0.87158784, -1.05342519],\n",
       "       [-1.33733443,  1.43944502, -0.96462528, ..., -0.99203175,\n",
       "        -0.33817466, -1.05342519]])"
      ]
     },
     "execution_count": 149,
     "metadata": {},
     "output_type": "execute_result"
    }
   ],
   "source": [
    "df_scaled"
   ]
  },
  {
   "cell_type": "code",
   "execution_count": 150,
   "metadata": {
    "ExecuteTime": {
     "end_time": "2021-11-08T06:40:52.999019Z",
     "start_time": "2021-11-08T06:40:52.991373Z"
    }
   },
   "outputs": [
    {
     "data": {
      "text/plain": [
       "array([[3.93157895e+01, 1.98245614e+00, 4.95614035e-01, 4.78070175e-01,\n",
       "        1.42543860e+00, 2.91666667e+00, 4.60526316e-01, 4.64912281e+00,\n",
       "        5.13157895e-01, 3.13203860e+04],\n",
       "       [3.83779070e+01, 1.92441860e+00, 4.70930233e-01, 5.17441860e-01,\n",
       "        1.63372093e+00, 3.16860465e+00, 4.30232558e-01, 4.51744186e+00,\n",
       "        4.88372093e-01, 7.58656105e+04]])"
      ]
     },
     "execution_count": 150,
     "metadata": {},
     "output_type": "execute_result"
    }
   ],
   "source": [
    "kmeans.cluster_centers_"
   ]
  },
  {
   "cell_type": "code",
   "execution_count": 151,
   "metadata": {
    "ExecuteTime": {
     "end_time": "2021-11-08T06:40:53.403824Z",
     "start_time": "2021-11-08T06:40:53.384063Z"
    }
   },
   "outputs": [
    {
     "data": {
      "text/plain": [
       "(2, 10)"
      ]
     },
     "execution_count": 151,
     "metadata": {},
     "output_type": "execute_result"
    }
   ],
   "source": [
    "kmeans.cluster_centers_.shape"
   ]
  },
  {
   "cell_type": "code",
   "execution_count": 152,
   "metadata": {
    "ExecuteTime": {
     "end_time": "2021-11-08T06:40:53.744872Z",
     "start_time": "2021-11-08T06:40:53.703732Z"
    }
   },
   "outputs": [
    {
     "data": {
      "text/plain": [
       "KMeans(n_clusters=2)"
      ]
     },
     "execution_count": 152,
     "metadata": {},
     "output_type": "execute_result"
    }
   ],
   "source": [
    "kmeans.fit(X_test,y_test)"
   ]
  },
  {
   "cell_type": "code",
   "execution_count": 153,
   "metadata": {
    "ExecuteTime": {
     "end_time": "2021-11-08T06:40:54.009763Z",
     "start_time": "2021-11-08T06:40:53.973986Z"
    }
   },
   "outputs": [
    {
     "data": {
      "text/plain": [
       "KMeans(n_clusters=2)"
      ]
     },
     "execution_count": 153,
     "metadata": {},
     "output_type": "execute_result"
    }
   ],
   "source": [
    "kmeans.fit(X_train,y_train)"
   ]
  },
  {
   "cell_type": "code",
   "execution_count": 154,
   "metadata": {
    "ExecuteTime": {
     "end_time": "2021-11-08T06:40:54.519479Z",
     "start_time": "2021-11-08T06:40:54.502889Z"
    }
   },
   "outputs": [
    {
     "data": {
      "text/plain": [
       "55"
      ]
     },
     "execution_count": 154,
     "metadata": {},
     "output_type": "execute_result"
    }
   ],
   "source": [
    "np.sum(y_test)"
   ]
  },
  {
   "cell_type": "code",
   "execution_count": 155,
   "metadata": {
    "ExecuteTime": {
     "end_time": "2021-11-08T06:40:55.243898Z",
     "start_time": "2021-11-08T06:40:55.219035Z"
    }
   },
   "outputs": [
    {
     "data": {
      "text/plain": [
       "59"
      ]
     },
     "execution_count": 155,
     "metadata": {},
     "output_type": "execute_result"
    }
   ],
   "source": [
    "y_pred = kmeans.predict(X_test)\n",
    "np.sum(y_pred)"
   ]
  },
  {
   "cell_type": "markdown",
   "metadata": {
    "ExecuteTime": {
     "start_time": "2021-11-08T05:54:37.689Z"
    }
   },
   "source": [
    "### Confusion Matrix"
   ]
  },
  {
   "cell_type": "code",
   "execution_count": 156,
   "metadata": {
    "ExecuteTime": {
     "end_time": "2021-11-08T06:40:56.144205Z",
     "start_time": "2021-11-08T06:40:56.129007Z"
    }
   },
   "outputs": [
    {
     "data": {
      "text/plain": [
       "array([[18, 27],\n",
       "       [23, 32]], dtype=int64)"
      ]
     },
     "execution_count": 156,
     "metadata": {},
     "output_type": "execute_result"
    }
   ],
   "source": [
    "cnf_matrix = metrics.confusion_matrix(y_test,y_pred)\n",
    "cnf_matrix"
   ]
  },
  {
   "cell_type": "code",
   "execution_count": 157,
   "metadata": {
    "ExecuteTime": {
     "end_time": "2021-11-08T06:40:56.747091Z",
     "start_time": "2021-11-08T06:40:56.727437Z"
    }
   },
   "outputs": [
    {
     "name": "stdout",
     "output_type": "stream",
     "text": [
      "Accuracy 0.5\n",
      "Precision 0.5423728813559322\n",
      "Recall 0.5818181818181818\n"
     ]
    }
   ],
   "source": [
    "print(\"Accuracy\", metrics.accuracy_score(y_test,y_pred))\n",
    "print(\"Precision\", metrics.precision_score(y_test,y_pred))\n",
    "print(\"Recall\", metrics.recall_score(y_test,y_pred))"
   ]
  },
  {
   "cell_type": "code",
   "execution_count": 158,
   "metadata": {
    "ExecuteTime": {
     "end_time": "2021-11-08T06:40:57.350028Z",
     "start_time": "2021-11-08T06:40:57.315910Z"
    }
   },
   "outputs": [
    {
     "data": {
      "text/html": [
       "<div>\n",
       "<style scoped>\n",
       "    .dataframe tbody tr th:only-of-type {\n",
       "        vertical-align: middle;\n",
       "    }\n",
       "\n",
       "    .dataframe tbody tr th {\n",
       "        vertical-align: top;\n",
       "    }\n",
       "\n",
       "    .dataframe thead th {\n",
       "        text-align: right;\n",
       "    }\n",
       "</style>\n",
       "<table border=\"1\" class=\"dataframe\">\n",
       "  <thead>\n",
       "    <tr style=\"text-align: right;\">\n",
       "      <th></th>\n",
       "      <th>age</th>\n",
       "      <th>Dept</th>\n",
       "      <th>location</th>\n",
       "      <th>education</th>\n",
       "      <th>recruitment_type</th>\n",
       "      <th>rating</th>\n",
       "      <th>onsite</th>\n",
       "      <th>awards</th>\n",
       "      <th>ertifications</th>\n",
       "      <th>salary</th>\n",
       "      <th>satisfied</th>\n",
       "      <th>clusters</th>\n",
       "    </tr>\n",
       "  </thead>\n",
       "  <tbody>\n",
       "    <tr>\n",
       "      <th>0</th>\n",
       "      <td>-1.124102</td>\n",
       "      <td>-1.384380</td>\n",
       "      <td>1.035635</td>\n",
       "      <td>-0.983141</td>\n",
       "      <td>0.432090</td>\n",
       "      <td>-0.752234</td>\n",
       "      <td>-0.933228</td>\n",
       "      <td>-1.240005</td>\n",
       "      <td>-0.991039</td>\n",
       "      <td>1.534931</td>\n",
       "      <td>0.948335</td>\n",
       "      <td>0</td>\n",
       "    </tr>\n",
       "    <tr>\n",
       "      <th>1</th>\n",
       "      <td>1.206741</td>\n",
       "      <td>1.438005</td>\n",
       "      <td>1.035635</td>\n",
       "      <td>-0.983141</td>\n",
       "      <td>1.310321</td>\n",
       "      <td>1.352898</td>\n",
       "      <td>1.069407</td>\n",
       "      <td>-0.889523</td>\n",
       "      <td>1.007024</td>\n",
       "      <td>-0.337836</td>\n",
       "      <td>-1.052371</td>\n",
       "      <td>0</td>\n",
       "    </tr>\n",
       "    <tr>\n",
       "      <th>2</th>\n",
       "      <td>0.465109</td>\n",
       "      <td>1.438005</td>\n",
       "      <td>1.035635</td>\n",
       "      <td>1.015113</td>\n",
       "      <td>0.432090</td>\n",
       "      <td>-1.453945</td>\n",
       "      <td>-0.933228</td>\n",
       "      <td>-0.889523</td>\n",
       "      <td>-0.991039</td>\n",
       "      <td>0.646305</td>\n",
       "      <td>-1.052371</td>\n",
       "      <td>0</td>\n",
       "    </tr>\n",
       "    <tr>\n",
       "      <th>3</th>\n",
       "      <td>0.571056</td>\n",
       "      <td>0.732409</td>\n",
       "      <td>-0.963660</td>\n",
       "      <td>-0.983141</td>\n",
       "      <td>-1.324373</td>\n",
       "      <td>-0.050523</td>\n",
       "      <td>1.069407</td>\n",
       "      <td>-1.590486</td>\n",
       "      <td>-0.991039</td>\n",
       "      <td>-0.870716</td>\n",
       "      <td>0.948335</td>\n",
       "      <td>1</td>\n",
       "    </tr>\n",
       "    <tr>\n",
       "      <th>4</th>\n",
       "      <td>-0.594365</td>\n",
       "      <td>-1.384380</td>\n",
       "      <td>-0.963660</td>\n",
       "      <td>1.015113</td>\n",
       "      <td>-0.446141</td>\n",
       "      <td>-1.453945</td>\n",
       "      <td>-0.933228</td>\n",
       "      <td>0.161923</td>\n",
       "      <td>-0.991039</td>\n",
       "      <td>-0.870716</td>\n",
       "      <td>0.948335</td>\n",
       "      <td>1</td>\n",
       "    </tr>\n",
       "  </tbody>\n",
       "</table>\n",
       "</div>"
      ],
      "text/plain": [
       "        age      Dept  location  education  recruitment_type    rating  \\\n",
       "0 -1.124102 -1.384380  1.035635  -0.983141          0.432090 -0.752234   \n",
       "1  1.206741  1.438005  1.035635  -0.983141          1.310321  1.352898   \n",
       "2  0.465109  1.438005  1.035635   1.015113          0.432090 -1.453945   \n",
       "3  0.571056  0.732409 -0.963660  -0.983141         -1.324373 -0.050523   \n",
       "4 -0.594365 -1.384380 -0.963660   1.015113         -0.446141 -1.453945   \n",
       "\n",
       "     onsite    awards  ertifications    salary  satisfied  clusters  \n",
       "0 -0.933228 -1.240005      -0.991039  1.534931   0.948335         0  \n",
       "1  1.069407 -0.889523       1.007024 -0.337836  -1.052371         0  \n",
       "2 -0.933228 -0.889523      -0.991039  0.646305  -1.052371         0  \n",
       "3  1.069407 -1.590486      -0.991039 -0.870716   0.948335         1  \n",
       "4 -0.933228  0.161923      -0.991039 -0.870716   0.948335         1  "
      ]
     },
     "execution_count": 158,
     "metadata": {},
     "output_type": "execute_result"
    }
   ],
   "source": [
    "df.head()"
   ]
  },
  {
   "cell_type": "code",
   "execution_count": null,
   "metadata": {},
   "outputs": [],
   "source": []
  },
  {
   "cell_type": "markdown",
   "metadata": {},
   "source": [
    "## Decisin Tree"
   ]
  },
  {
   "cell_type": "code",
   "execution_count": 159,
   "metadata": {
    "ExecuteTime": {
     "end_time": "2021-11-08T06:40:59.684573Z",
     "start_time": "2021-11-08T06:40:59.673817Z"
    }
   },
   "outputs": [],
   "source": [
    "from sklearn.tree import DecisionTreeClassifier "
   ]
  },
  {
   "cell_type": "code",
   "execution_count": 160,
   "metadata": {
    "ExecuteTime": {
     "end_time": "2021-11-08T06:41:00.149649Z",
     "start_time": "2021-11-08T06:41:00.142707Z"
    }
   },
   "outputs": [],
   "source": [
    "DT = DecisionTreeClassifier()"
   ]
  },
  {
   "cell_type": "code",
   "execution_count": 161,
   "metadata": {
    "ExecuteTime": {
     "end_time": "2021-11-08T06:41:01.032579Z",
     "start_time": "2021-11-08T06:41:01.019673Z"
    }
   },
   "outputs": [],
   "source": [
    "# Train Decision Tree Classifer\n",
    "DT = DT.fit(X_train,y_train)"
   ]
  },
  {
   "cell_type": "code",
   "execution_count": 162,
   "metadata": {
    "ExecuteTime": {
     "end_time": "2021-11-08T06:41:01.869074Z",
     "start_time": "2021-11-08T06:41:01.853974Z"
    }
   },
   "outputs": [],
   "source": [
    "#Predict the response for test dataset\n",
    "y_pred = DT.predict(X_test)"
   ]
  },
  {
   "cell_type": "code",
   "execution_count": 163,
   "metadata": {
    "ExecuteTime": {
     "end_time": "2021-11-08T06:41:02.802165Z",
     "start_time": "2021-11-08T06:41:02.789294Z"
    }
   },
   "outputs": [
    {
     "name": "stdout",
     "output_type": "stream",
     "text": [
      "Accuracy: 0.56\n",
      "Precision 0.6037735849056604\n",
      "Recall 0.5818181818181818\n"
     ]
    }
   ],
   "source": [
    "# Model Accuracy, how often is the classifier correct?\n",
    "print(\"Accuracy:\",metrics.accuracy_score(y_test, y_pred))\n",
    "print(\"Precision\", metrics.precision_score(y_test,y_pred))\n",
    "print(\"Recall\", metrics.recall_score(y_test,y_pred))"
   ]
  },
  {
   "cell_type": "markdown",
   "metadata": {},
   "source": [
    "### Optimizing Decision Tree Performance"
   ]
  },
  {
   "cell_type": "code",
   "execution_count": 164,
   "metadata": {
    "ExecuteTime": {
     "end_time": "2021-11-08T06:41:04.442602Z",
     "start_time": "2021-11-08T06:41:04.412642Z"
    }
   },
   "outputs": [
    {
     "name": "stdout",
     "output_type": "stream",
     "text": [
      "Accuracy: 0.59\n",
      "Precision 0.6129032258064516\n",
      "Recall 0.6909090909090909\n"
     ]
    }
   ],
   "source": [
    "# Create Decision Tree classifer object\n",
    "DT = DecisionTreeClassifier(criterion=\"entropy\", max_depth=5)\n",
    "\n",
    "# Train Decision Tree Classifer\n",
    "DT = DT.fit(X_train,y_train)\n",
    "\n",
    "#Predict the response for test dataset\n",
    "y_pred = DT.predict(X_test)\n",
    "\n",
    "# Model Accuracy, how often is the classifier correct?\n",
    "print(\"Accuracy:\",metrics.accuracy_score(y_test, y_pred))\n",
    "print(\"Precision\", metrics.precision_score(y_test,y_pred))\n",
    "print(\"Recall\", metrics.recall_score(y_test,y_pred))"
   ]
  },
  {
   "cell_type": "markdown",
   "metadata": {},
   "source": [
    "## SVM"
   ]
  },
  {
   "cell_type": "code",
   "execution_count": 165,
   "metadata": {
    "ExecuteTime": {
     "end_time": "2021-11-08T06:41:05.882930Z",
     "start_time": "2021-11-08T06:41:05.865511Z"
    }
   },
   "outputs": [],
   "source": [
    "from sklearn import svm"
   ]
  },
  {
   "cell_type": "code",
   "execution_count": 166,
   "metadata": {
    "ExecuteTime": {
     "end_time": "2021-11-08T06:41:06.569735Z",
     "start_time": "2021-11-08T06:41:06.553944Z"
    }
   },
   "outputs": [],
   "source": [
    "X=df.iloc[:,0:10]\n",
    "y=df.iloc[:,10]"
   ]
  },
  {
   "cell_type": "code",
   "execution_count": 167,
   "metadata": {
    "ExecuteTime": {
     "end_time": "2021-11-08T06:41:07.174630Z",
     "start_time": "2021-11-08T06:41:07.155929Z"
    }
   },
   "outputs": [
    {
     "data": {
      "text/plain": [
       "(500, 10)"
      ]
     },
     "execution_count": 167,
     "metadata": {},
     "output_type": "execute_result"
    }
   ],
   "source": [
    "X.shape"
   ]
  },
  {
   "cell_type": "code",
   "execution_count": 168,
   "metadata": {
    "ExecuteTime": {
     "end_time": "2021-11-08T06:41:08.333486Z",
     "start_time": "2021-11-08T06:41:08.312699Z"
    }
   },
   "outputs": [
    {
     "data": {
      "text/plain": [
       "(500,)"
      ]
     },
     "execution_count": 168,
     "metadata": {},
     "output_type": "execute_result"
    }
   ],
   "source": [
    "y.shape"
   ]
  },
  {
   "cell_type": "code",
   "execution_count": 169,
   "metadata": {
    "ExecuteTime": {
     "end_time": "2021-11-08T06:41:08.937729Z",
     "start_time": "2021-11-08T06:41:08.932489Z"
    }
   },
   "outputs": [],
   "source": [
    "# create a svm classfier\n",
    "clf=svm.SVC(kernel=\"poly\",degree=10)"
   ]
  },
  {
   "cell_type": "code",
   "execution_count": 170,
   "metadata": {
    "ExecuteTime": {
     "end_time": "2021-11-08T06:41:10.424557Z",
     "start_time": "2021-11-08T06:41:10.402296Z"
    }
   },
   "outputs": [
    {
     "data": {
      "text/plain": [
       "SVC(degree=10, kernel='poly')"
      ]
     },
     "execution_count": 170,
     "metadata": {},
     "output_type": "execute_result"
    }
   ],
   "source": [
    "clf.fit(X_train,y_train)"
   ]
  },
  {
   "cell_type": "code",
   "execution_count": 171,
   "metadata": {
    "ExecuteTime": {
     "end_time": "2021-11-08T06:41:11.832264Z",
     "start_time": "2021-11-08T06:41:11.813630Z"
    }
   },
   "outputs": [],
   "source": [
    "# Predict the responce for the test dataset\n",
    "y_pred = clf.predict(X_test)"
   ]
  },
  {
   "cell_type": "code",
   "execution_count": 172,
   "metadata": {
    "ExecuteTime": {
     "end_time": "2021-11-08T06:41:13.043464Z",
     "start_time": "2021-11-08T06:41:13.020647Z"
    }
   },
   "outputs": [
    {
     "name": "stdout",
     "output_type": "stream",
     "text": [
      "Accuracy: 0.55\n",
      "Precision 0.55\n",
      "Recall 1.0\n"
     ]
    }
   ],
   "source": [
    "# Model Accuracy, how often is the classifier correct?\n",
    "print(\"Accuracy:\",metrics.accuracy_score(y_test, y_pred))\n",
    "print(\"Precision\", metrics.precision_score(y_test,y_pred))\n",
    "print(\"Recall\", metrics.recall_score(y_test,y_pred))"
   ]
  },
  {
   "cell_type": "code",
   "execution_count": null,
   "metadata": {},
   "outputs": [],
   "source": []
  },
  {
   "cell_type": "code",
   "execution_count": null,
   "metadata": {},
   "outputs": [],
   "source": []
  },
  {
   "cell_type": "code",
   "execution_count": null,
   "metadata": {},
   "outputs": [],
   "source": []
  },
  {
   "cell_type": "code",
   "execution_count": null,
   "metadata": {},
   "outputs": [],
   "source": []
  },
  {
   "cell_type": "code",
   "execution_count": null,
   "metadata": {},
   "outputs": [],
   "source": []
  },
  {
   "cell_type": "code",
   "execution_count": null,
   "metadata": {},
   "outputs": [],
   "source": []
  },
  {
   "cell_type": "code",
   "execution_count": null,
   "metadata": {},
   "outputs": [],
   "source": []
  },
  {
   "cell_type": "code",
   "execution_count": null,
   "metadata": {},
   "outputs": [],
   "source": []
  },
  {
   "cell_type": "code",
   "execution_count": null,
   "metadata": {},
   "outputs": [],
   "source": []
  },
  {
   "cell_type": "code",
   "execution_count": null,
   "metadata": {},
   "outputs": [],
   "source": []
  },
  {
   "cell_type": "code",
   "execution_count": null,
   "metadata": {},
   "outputs": [],
   "source": []
  },
  {
   "cell_type": "code",
   "execution_count": null,
   "metadata": {},
   "outputs": [],
   "source": []
  },
  {
   "cell_type": "code",
   "execution_count": null,
   "metadata": {},
   "outputs": [],
   "source": []
  },
  {
   "cell_type": "code",
   "execution_count": null,
   "metadata": {},
   "outputs": [],
   "source": []
  },
  {
   "cell_type": "code",
   "execution_count": null,
   "metadata": {},
   "outputs": [],
   "source": []
  },
  {
   "cell_type": "code",
   "execution_count": null,
   "metadata": {},
   "outputs": [],
   "source": []
  },
  {
   "cell_type": "code",
   "execution_count": null,
   "metadata": {},
   "outputs": [],
   "source": []
  },
  {
   "cell_type": "code",
   "execution_count": null,
   "metadata": {},
   "outputs": [],
   "source": []
  },
  {
   "cell_type": "code",
   "execution_count": null,
   "metadata": {},
   "outputs": [],
   "source": []
  },
  {
   "cell_type": "code",
   "execution_count": null,
   "metadata": {},
   "outputs": [],
   "source": []
  },
  {
   "cell_type": "code",
   "execution_count": null,
   "metadata": {},
   "outputs": [],
   "source": []
  },
  {
   "cell_type": "code",
   "execution_count": null,
   "metadata": {},
   "outputs": [],
   "source": []
  },
  {
   "cell_type": "code",
   "execution_count": null,
   "metadata": {},
   "outputs": [],
   "source": []
  },
  {
   "cell_type": "code",
   "execution_count": null,
   "metadata": {},
   "outputs": [],
   "source": []
  },
  {
   "cell_type": "code",
   "execution_count": null,
   "metadata": {},
   "outputs": [],
   "source": []
  },
  {
   "cell_type": "code",
   "execution_count": null,
   "metadata": {},
   "outputs": [],
   "source": []
  },
  {
   "cell_type": "code",
   "execution_count": null,
   "metadata": {},
   "outputs": [],
   "source": []
  },
  {
   "cell_type": "code",
   "execution_count": null,
   "metadata": {},
   "outputs": [],
   "source": []
  }
 ],
 "metadata": {
  "kernelspec": {
   "display_name": "Python 3",
   "language": "python",
   "name": "python3"
  },
  "language_info": {
   "codemirror_mode": {
    "name": "ipython",
    "version": 3
   },
   "file_extension": ".py",
   "mimetype": "text/x-python",
   "name": "python",
   "nbconvert_exporter": "python",
   "pygments_lexer": "ipython3",
   "version": "3.8.5"
  },
  "toc": {
   "base_numbering": 1,
   "nav_menu": {},
   "number_sections": true,
   "sideBar": true,
   "skip_h1_title": false,
   "title_cell": "Table of Contents",
   "title_sidebar": "Contents",
   "toc_cell": false,
   "toc_position": {
    "height": "429.333px",
    "left": "102px",
    "top": "136px",
    "width": "190px"
   },
   "toc_section_display": true,
   "toc_window_display": true
  }
 },
 "nbformat": 4,
 "nbformat_minor": 4
}
