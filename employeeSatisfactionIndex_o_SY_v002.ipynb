{
 "cells": [
  {
   "cell_type": "markdown",
   "metadata": {},
   "source": [
    "## Importing Libraries"
   ]
  },
  {
   "cell_type": "code",
   "execution_count": 1,
   "metadata": {
    "ExecuteTime": {
     "end_time": "2021-11-30T06:10:47.314570Z",
     "start_time": "2021-11-30T06:10:44.982584Z"
    }
   },
   "outputs": [],
   "source": [
    "import numpy as np\n",
    "import pandas as pd\n",
    "import matplotlib.pyplot as plt\n",
    "import seaborn as sns\n",
    "from sklearn.model_selection import train_test_split\n",
    "from sklearn.linear_model import LinearRegression\n",
    "from sklearn import metrics\n",
    "from sklearn.metrics import r2_score\n",
    "from scipy.stats import norm\n",
    "from collections import Counter\n",
    "from sklearn.metrics import confusion_matrix\n",
    "from sklearn.metrics import accuracy_score\n",
    "%matplotlib inline"
   ]
  },
  {
   "cell_type": "code",
   "execution_count": 2,
   "metadata": {
    "ExecuteTime": {
     "end_time": "2021-11-30T06:10:47.361578Z",
     "start_time": "2021-11-30T06:10:47.317655Z"
    }
   },
   "outputs": [
    {
     "data": {
      "text/html": [
       "<div>\n",
       "<style scoped>\n",
       "    .dataframe tbody tr th:only-of-type {\n",
       "        vertical-align: middle;\n",
       "    }\n",
       "\n",
       "    .dataframe tbody tr th {\n",
       "        vertical-align: top;\n",
       "    }\n",
       "\n",
       "    .dataframe thead th {\n",
       "        text-align: right;\n",
       "    }\n",
       "</style>\n",
       "<table border=\"1\" class=\"dataframe\">\n",
       "  <thead>\n",
       "    <tr style=\"text-align: right;\">\n",
       "      <th></th>\n",
       "      <th>Unnamed: 0</th>\n",
       "      <th>emp_id</th>\n",
       "      <th>age</th>\n",
       "      <th>Dept</th>\n",
       "      <th>location</th>\n",
       "      <th>education</th>\n",
       "      <th>recruitment_type</th>\n",
       "      <th>job_level</th>\n",
       "      <th>rating</th>\n",
       "      <th>onsite</th>\n",
       "      <th>awards</th>\n",
       "      <th>certifications</th>\n",
       "      <th>salary</th>\n",
       "      <th>satisfied</th>\n",
       "    </tr>\n",
       "  </thead>\n",
       "  <tbody>\n",
       "    <tr>\n",
       "      <th>0</th>\n",
       "      <td>0</td>\n",
       "      <td>HR8270</td>\n",
       "      <td>28</td>\n",
       "      <td>HR</td>\n",
       "      <td>Suburb</td>\n",
       "      <td>PG</td>\n",
       "      <td>Referral</td>\n",
       "      <td>5</td>\n",
       "      <td>2</td>\n",
       "      <td>0</td>\n",
       "      <td>1</td>\n",
       "      <td>0</td>\n",
       "      <td>86750</td>\n",
       "      <td>1</td>\n",
       "    </tr>\n",
       "    <tr>\n",
       "      <th>1</th>\n",
       "      <td>1</td>\n",
       "      <td>TECH1860</td>\n",
       "      <td>50</td>\n",
       "      <td>Technology</td>\n",
       "      <td>Suburb</td>\n",
       "      <td>PG</td>\n",
       "      <td>Walk-in</td>\n",
       "      <td>3</td>\n",
       "      <td>5</td>\n",
       "      <td>1</td>\n",
       "      <td>2</td>\n",
       "      <td>1</td>\n",
       "      <td>42419</td>\n",
       "      <td>0</td>\n",
       "    </tr>\n",
       "    <tr>\n",
       "      <th>2</th>\n",
       "      <td>2</td>\n",
       "      <td>TECH6390</td>\n",
       "      <td>43</td>\n",
       "      <td>Technology</td>\n",
       "      <td>Suburb</td>\n",
       "      <td>UG</td>\n",
       "      <td>Referral</td>\n",
       "      <td>4</td>\n",
       "      <td>1</td>\n",
       "      <td>0</td>\n",
       "      <td>2</td>\n",
       "      <td>0</td>\n",
       "      <td>65715</td>\n",
       "      <td>0</td>\n",
       "    </tr>\n",
       "    <tr>\n",
       "      <th>3</th>\n",
       "      <td>3</td>\n",
       "      <td>SAL6191</td>\n",
       "      <td>44</td>\n",
       "      <td>Sales</td>\n",
       "      <td>City</td>\n",
       "      <td>PG</td>\n",
       "      <td>On-Campus</td>\n",
       "      <td>2</td>\n",
       "      <td>3</td>\n",
       "      <td>1</td>\n",
       "      <td>0</td>\n",
       "      <td>0</td>\n",
       "      <td>29805</td>\n",
       "      <td>1</td>\n",
       "    </tr>\n",
       "    <tr>\n",
       "      <th>4</th>\n",
       "      <td>4</td>\n",
       "      <td>HR6734</td>\n",
       "      <td>33</td>\n",
       "      <td>HR</td>\n",
       "      <td>City</td>\n",
       "      <td>UG</td>\n",
       "      <td>Recruitment Agency</td>\n",
       "      <td>2</td>\n",
       "      <td>1</td>\n",
       "      <td>0</td>\n",
       "      <td>5</td>\n",
       "      <td>0</td>\n",
       "      <td>29805</td>\n",
       "      <td>1</td>\n",
       "    </tr>\n",
       "  </tbody>\n",
       "</table>\n",
       "</div>"
      ],
      "text/plain": [
       "   Unnamed: 0    emp_id  age        Dept location education  \\\n",
       "0           0    HR8270   28          HR   Suburb        PG   \n",
       "1           1  TECH1860   50  Technology   Suburb        PG   \n",
       "2           2  TECH6390   43  Technology   Suburb        UG   \n",
       "3           3   SAL6191   44       Sales     City        PG   \n",
       "4           4    HR6734   33          HR     City        UG   \n",
       "\n",
       "     recruitment_type  job_level  rating  onsite  awards  certifications  \\\n",
       "0            Referral          5       2       0       1               0   \n",
       "1             Walk-in          3       5       1       2               1   \n",
       "2            Referral          4       1       0       2               0   \n",
       "3           On-Campus          2       3       1       0               0   \n",
       "4  Recruitment Agency          2       1       0       5               0   \n",
       "\n",
       "   salary  satisfied  \n",
       "0   86750          1  \n",
       "1   42419          0  \n",
       "2   65715          0  \n",
       "3   29805          1  \n",
       "4   29805          1  "
      ]
     },
     "execution_count": 2,
     "metadata": {},
     "output_type": "execute_result"
    }
   ],
   "source": [
    "df = pd.read_csv('Employee Satisfaction Index.csv')\n",
    "df.head()"
   ]
  },
  {
   "cell_type": "code",
   "execution_count": 3,
   "metadata": {
    "ExecuteTime": {
     "end_time": "2021-11-30T06:10:47.393248Z",
     "start_time": "2021-11-30T06:10:47.363176Z"
    }
   },
   "outputs": [
    {
     "data": {
      "text/html": [
       "<div>\n",
       "<style scoped>\n",
       "    .dataframe tbody tr th:only-of-type {\n",
       "        vertical-align: middle;\n",
       "    }\n",
       "\n",
       "    .dataframe tbody tr th {\n",
       "        vertical-align: top;\n",
       "    }\n",
       "\n",
       "    .dataframe thead th {\n",
       "        text-align: right;\n",
       "    }\n",
       "</style>\n",
       "<table border=\"1\" class=\"dataframe\">\n",
       "  <thead>\n",
       "    <tr style=\"text-align: right;\">\n",
       "      <th></th>\n",
       "      <th>emp_id</th>\n",
       "      <th>age</th>\n",
       "      <th>Dept</th>\n",
       "      <th>location</th>\n",
       "      <th>education</th>\n",
       "      <th>recruitment_type</th>\n",
       "      <th>job_level</th>\n",
       "      <th>rating</th>\n",
       "      <th>onsite</th>\n",
       "      <th>awards</th>\n",
       "      <th>certifications</th>\n",
       "      <th>salary</th>\n",
       "      <th>satisfied</th>\n",
       "    </tr>\n",
       "  </thead>\n",
       "  <tbody>\n",
       "    <tr>\n",
       "      <th>0</th>\n",
       "      <td>HR8270</td>\n",
       "      <td>28</td>\n",
       "      <td>HR</td>\n",
       "      <td>Suburb</td>\n",
       "      <td>PG</td>\n",
       "      <td>Referral</td>\n",
       "      <td>5</td>\n",
       "      <td>2</td>\n",
       "      <td>0</td>\n",
       "      <td>1</td>\n",
       "      <td>0</td>\n",
       "      <td>86750</td>\n",
       "      <td>1</td>\n",
       "    </tr>\n",
       "    <tr>\n",
       "      <th>1</th>\n",
       "      <td>TECH1860</td>\n",
       "      <td>50</td>\n",
       "      <td>Technology</td>\n",
       "      <td>Suburb</td>\n",
       "      <td>PG</td>\n",
       "      <td>Walk-in</td>\n",
       "      <td>3</td>\n",
       "      <td>5</td>\n",
       "      <td>1</td>\n",
       "      <td>2</td>\n",
       "      <td>1</td>\n",
       "      <td>42419</td>\n",
       "      <td>0</td>\n",
       "    </tr>\n",
       "    <tr>\n",
       "      <th>2</th>\n",
       "      <td>TECH6390</td>\n",
       "      <td>43</td>\n",
       "      <td>Technology</td>\n",
       "      <td>Suburb</td>\n",
       "      <td>UG</td>\n",
       "      <td>Referral</td>\n",
       "      <td>4</td>\n",
       "      <td>1</td>\n",
       "      <td>0</td>\n",
       "      <td>2</td>\n",
       "      <td>0</td>\n",
       "      <td>65715</td>\n",
       "      <td>0</td>\n",
       "    </tr>\n",
       "    <tr>\n",
       "      <th>3</th>\n",
       "      <td>SAL6191</td>\n",
       "      <td>44</td>\n",
       "      <td>Sales</td>\n",
       "      <td>City</td>\n",
       "      <td>PG</td>\n",
       "      <td>On-Campus</td>\n",
       "      <td>2</td>\n",
       "      <td>3</td>\n",
       "      <td>1</td>\n",
       "      <td>0</td>\n",
       "      <td>0</td>\n",
       "      <td>29805</td>\n",
       "      <td>1</td>\n",
       "    </tr>\n",
       "    <tr>\n",
       "      <th>4</th>\n",
       "      <td>HR6734</td>\n",
       "      <td>33</td>\n",
       "      <td>HR</td>\n",
       "      <td>City</td>\n",
       "      <td>UG</td>\n",
       "      <td>Recruitment Agency</td>\n",
       "      <td>2</td>\n",
       "      <td>1</td>\n",
       "      <td>0</td>\n",
       "      <td>5</td>\n",
       "      <td>0</td>\n",
       "      <td>29805</td>\n",
       "      <td>1</td>\n",
       "    </tr>\n",
       "  </tbody>\n",
       "</table>\n",
       "</div>"
      ],
      "text/plain": [
       "     emp_id  age        Dept location education    recruitment_type  \\\n",
       "0    HR8270   28          HR   Suburb        PG            Referral   \n",
       "1  TECH1860   50  Technology   Suburb        PG             Walk-in   \n",
       "2  TECH6390   43  Technology   Suburb        UG            Referral   \n",
       "3   SAL6191   44       Sales     City        PG           On-Campus   \n",
       "4    HR6734   33          HR     City        UG  Recruitment Agency   \n",
       "\n",
       "   job_level  rating  onsite  awards  certifications  salary  satisfied  \n",
       "0          5       2       0       1               0   86750          1  \n",
       "1          3       5       1       2               1   42419          0  \n",
       "2          4       1       0       2               0   65715          0  \n",
       "3          2       3       1       0               0   29805          1  \n",
       "4          2       1       0       5               0   29805          1  "
      ]
     },
     "execution_count": 3,
     "metadata": {},
     "output_type": "execute_result"
    }
   ],
   "source": [
    "df = df.drop('Unnamed: 0', axis=1)\n",
    "df.head()"
   ]
  },
  {
   "cell_type": "code",
   "execution_count": 4,
   "metadata": {
    "ExecuteTime": {
     "end_time": "2021-11-30T06:10:47.424366Z",
     "start_time": "2021-11-30T06:10:47.395758Z"
    }
   },
   "outputs": [
    {
     "data": {
      "text/html": [
       "<div>\n",
       "<style scoped>\n",
       "    .dataframe tbody tr th:only-of-type {\n",
       "        vertical-align: middle;\n",
       "    }\n",
       "\n",
       "    .dataframe tbody tr th {\n",
       "        vertical-align: top;\n",
       "    }\n",
       "\n",
       "    .dataframe thead th {\n",
       "        text-align: right;\n",
       "    }\n",
       "</style>\n",
       "<table border=\"1\" class=\"dataframe\">\n",
       "  <thead>\n",
       "    <tr style=\"text-align: right;\">\n",
       "      <th></th>\n",
       "      <th>age</th>\n",
       "      <th>Dept</th>\n",
       "      <th>location</th>\n",
       "      <th>education</th>\n",
       "      <th>recruitment_type</th>\n",
       "      <th>job_level</th>\n",
       "      <th>rating</th>\n",
       "      <th>onsite</th>\n",
       "      <th>awards</th>\n",
       "      <th>certifications</th>\n",
       "      <th>salary</th>\n",
       "      <th>satisfied</th>\n",
       "    </tr>\n",
       "    <tr>\n",
       "      <th>emp_id</th>\n",
       "      <th></th>\n",
       "      <th></th>\n",
       "      <th></th>\n",
       "      <th></th>\n",
       "      <th></th>\n",
       "      <th></th>\n",
       "      <th></th>\n",
       "      <th></th>\n",
       "      <th></th>\n",
       "      <th></th>\n",
       "      <th></th>\n",
       "      <th></th>\n",
       "    </tr>\n",
       "  </thead>\n",
       "  <tbody>\n",
       "    <tr>\n",
       "      <th>HR8270</th>\n",
       "      <td>28</td>\n",
       "      <td>HR</td>\n",
       "      <td>Suburb</td>\n",
       "      <td>PG</td>\n",
       "      <td>Referral</td>\n",
       "      <td>5</td>\n",
       "      <td>2</td>\n",
       "      <td>0</td>\n",
       "      <td>1</td>\n",
       "      <td>0</td>\n",
       "      <td>86750</td>\n",
       "      <td>1</td>\n",
       "    </tr>\n",
       "    <tr>\n",
       "      <th>TECH1860</th>\n",
       "      <td>50</td>\n",
       "      <td>Technology</td>\n",
       "      <td>Suburb</td>\n",
       "      <td>PG</td>\n",
       "      <td>Walk-in</td>\n",
       "      <td>3</td>\n",
       "      <td>5</td>\n",
       "      <td>1</td>\n",
       "      <td>2</td>\n",
       "      <td>1</td>\n",
       "      <td>42419</td>\n",
       "      <td>0</td>\n",
       "    </tr>\n",
       "    <tr>\n",
       "      <th>TECH6390</th>\n",
       "      <td>43</td>\n",
       "      <td>Technology</td>\n",
       "      <td>Suburb</td>\n",
       "      <td>UG</td>\n",
       "      <td>Referral</td>\n",
       "      <td>4</td>\n",
       "      <td>1</td>\n",
       "      <td>0</td>\n",
       "      <td>2</td>\n",
       "      <td>0</td>\n",
       "      <td>65715</td>\n",
       "      <td>0</td>\n",
       "    </tr>\n",
       "    <tr>\n",
       "      <th>SAL6191</th>\n",
       "      <td>44</td>\n",
       "      <td>Sales</td>\n",
       "      <td>City</td>\n",
       "      <td>PG</td>\n",
       "      <td>On-Campus</td>\n",
       "      <td>2</td>\n",
       "      <td>3</td>\n",
       "      <td>1</td>\n",
       "      <td>0</td>\n",
       "      <td>0</td>\n",
       "      <td>29805</td>\n",
       "      <td>1</td>\n",
       "    </tr>\n",
       "    <tr>\n",
       "      <th>HR6734</th>\n",
       "      <td>33</td>\n",
       "      <td>HR</td>\n",
       "      <td>City</td>\n",
       "      <td>UG</td>\n",
       "      <td>Recruitment Agency</td>\n",
       "      <td>2</td>\n",
       "      <td>1</td>\n",
       "      <td>0</td>\n",
       "      <td>5</td>\n",
       "      <td>0</td>\n",
       "      <td>29805</td>\n",
       "      <td>1</td>\n",
       "    </tr>\n",
       "  </tbody>\n",
       "</table>\n",
       "</div>"
      ],
      "text/plain": [
       "          age        Dept location education    recruitment_type  job_level  \\\n",
       "emp_id                                                                        \n",
       "HR8270     28          HR   Suburb        PG            Referral          5   \n",
       "TECH1860   50  Technology   Suburb        PG             Walk-in          3   \n",
       "TECH6390   43  Technology   Suburb        UG            Referral          4   \n",
       "SAL6191    44       Sales     City        PG           On-Campus          2   \n",
       "HR6734     33          HR     City        UG  Recruitment Agency          2   \n",
       "\n",
       "          rating  onsite  awards  certifications  salary  satisfied  \n",
       "emp_id                                                               \n",
       "HR8270         2       0       1               0   86750          1  \n",
       "TECH1860       5       1       2               1   42419          0  \n",
       "TECH6390       1       0       2               0   65715          0  \n",
       "SAL6191        3       1       0               0   29805          1  \n",
       "HR6734         1       0       5               0   29805          1  "
      ]
     },
     "execution_count": 4,
     "metadata": {},
     "output_type": "execute_result"
    }
   ],
   "source": [
    "df=df.set_index('emp_id')\n",
    "df.head()"
   ]
  },
  {
   "cell_type": "code",
   "execution_count": 5,
   "metadata": {
    "ExecuteTime": {
     "end_time": "2021-11-30T06:10:47.454544Z",
     "start_time": "2021-11-30T06:10:47.428363Z"
    }
   },
   "outputs": [
    {
     "name": "stdout",
     "output_type": "stream",
     "text": [
      "<class 'pandas.core.frame.DataFrame'>\n",
      "Index: 500 entries, HR8270 to TECH7731\n",
      "Data columns (total 12 columns):\n",
      " #   Column            Non-Null Count  Dtype \n",
      "---  ------            --------------  ----- \n",
      " 0   age               500 non-null    int64 \n",
      " 1   Dept              500 non-null    object\n",
      " 2   location          500 non-null    object\n",
      " 3   education         500 non-null    object\n",
      " 4   recruitment_type  500 non-null    object\n",
      " 5   job_level         500 non-null    int64 \n",
      " 6   rating            500 non-null    int64 \n",
      " 7   onsite            500 non-null    int64 \n",
      " 8   awards            500 non-null    int64 \n",
      " 9   certifications    500 non-null    int64 \n",
      " 10  salary            500 non-null    int64 \n",
      " 11  satisfied         500 non-null    int64 \n",
      "dtypes: int64(8), object(4)\n",
      "memory usage: 50.8+ KB\n"
     ]
    }
   ],
   "source": [
    "df.info()"
   ]
  },
  {
   "cell_type": "code",
   "execution_count": 6,
   "metadata": {
    "ExecuteTime": {
     "end_time": "2021-11-30T06:10:47.501431Z",
     "start_time": "2021-11-30T06:10:47.456648Z"
    }
   },
   "outputs": [
    {
     "data": {
      "text/html": [
       "<div>\n",
       "<style scoped>\n",
       "    .dataframe tbody tr th:only-of-type {\n",
       "        vertical-align: middle;\n",
       "    }\n",
       "\n",
       "    .dataframe tbody tr th {\n",
       "        vertical-align: top;\n",
       "    }\n",
       "\n",
       "    .dataframe thead th {\n",
       "        text-align: right;\n",
       "    }\n",
       "</style>\n",
       "<table border=\"1\" class=\"dataframe\">\n",
       "  <thead>\n",
       "    <tr style=\"text-align: right;\">\n",
       "      <th></th>\n",
       "      <th>age</th>\n",
       "      <th>job_level</th>\n",
       "      <th>rating</th>\n",
       "      <th>onsite</th>\n",
       "      <th>awards</th>\n",
       "      <th>certifications</th>\n",
       "      <th>salary</th>\n",
       "      <th>satisfied</th>\n",
       "    </tr>\n",
       "  </thead>\n",
       "  <tbody>\n",
       "    <tr>\n",
       "      <th>count</th>\n",
       "      <td>500.000000</td>\n",
       "      <td>500.000000</td>\n",
       "      <td>500.000000</td>\n",
       "      <td>500.000000</td>\n",
       "      <td>500.000000</td>\n",
       "      <td>500.000000</td>\n",
       "      <td>500.000000</td>\n",
       "      <td>500.000000</td>\n",
       "    </tr>\n",
       "    <tr>\n",
       "      <th>mean</th>\n",
       "      <td>38.610000</td>\n",
       "      <td>3.032000</td>\n",
       "      <td>3.072000</td>\n",
       "      <td>0.466000</td>\n",
       "      <td>4.538000</td>\n",
       "      <td>0.496000</td>\n",
       "      <td>50416.056000</td>\n",
       "      <td>0.526000</td>\n",
       "    </tr>\n",
       "    <tr>\n",
       "      <th>std</th>\n",
       "      <td>9.438648</td>\n",
       "      <td>1.423738</td>\n",
       "      <td>1.425089</td>\n",
       "      <td>0.499342</td>\n",
       "      <td>2.853215</td>\n",
       "      <td>0.500485</td>\n",
       "      <td>23671.392661</td>\n",
       "      <td>0.499824</td>\n",
       "    </tr>\n",
       "    <tr>\n",
       "      <th>min</th>\n",
       "      <td>23.000000</td>\n",
       "      <td>1.000000</td>\n",
       "      <td>1.000000</td>\n",
       "      <td>0.000000</td>\n",
       "      <td>0.000000</td>\n",
       "      <td>0.000000</td>\n",
       "      <td>24076.000000</td>\n",
       "      <td>0.000000</td>\n",
       "    </tr>\n",
       "    <tr>\n",
       "      <th>25%</th>\n",
       "      <td>30.000000</td>\n",
       "      <td>2.000000</td>\n",
       "      <td>2.000000</td>\n",
       "      <td>0.000000</td>\n",
       "      <td>2.000000</td>\n",
       "      <td>0.000000</td>\n",
       "      <td>29805.000000</td>\n",
       "      <td>0.000000</td>\n",
       "    </tr>\n",
       "    <tr>\n",
       "      <th>50%</th>\n",
       "      <td>39.000000</td>\n",
       "      <td>3.000000</td>\n",
       "      <td>3.000000</td>\n",
       "      <td>0.000000</td>\n",
       "      <td>5.000000</td>\n",
       "      <td>0.000000</td>\n",
       "      <td>42419.000000</td>\n",
       "      <td>1.000000</td>\n",
       "    </tr>\n",
       "    <tr>\n",
       "      <th>75%</th>\n",
       "      <td>47.000000</td>\n",
       "      <td>4.000000</td>\n",
       "      <td>4.000000</td>\n",
       "      <td>1.000000</td>\n",
       "      <td>7.000000</td>\n",
       "      <td>1.000000</td>\n",
       "      <td>65715.000000</td>\n",
       "      <td>1.000000</td>\n",
       "    </tr>\n",
       "    <tr>\n",
       "      <th>max</th>\n",
       "      <td>54.000000</td>\n",
       "      <td>5.000000</td>\n",
       "      <td>5.000000</td>\n",
       "      <td>1.000000</td>\n",
       "      <td>9.000000</td>\n",
       "      <td>1.000000</td>\n",
       "      <td>86750.000000</td>\n",
       "      <td>1.000000</td>\n",
       "    </tr>\n",
       "  </tbody>\n",
       "</table>\n",
       "</div>"
      ],
      "text/plain": [
       "              age   job_level      rating      onsite      awards  \\\n",
       "count  500.000000  500.000000  500.000000  500.000000  500.000000   \n",
       "mean    38.610000    3.032000    3.072000    0.466000    4.538000   \n",
       "std      9.438648    1.423738    1.425089    0.499342    2.853215   \n",
       "min     23.000000    1.000000    1.000000    0.000000    0.000000   \n",
       "25%     30.000000    2.000000    2.000000    0.000000    2.000000   \n",
       "50%     39.000000    3.000000    3.000000    0.000000    5.000000   \n",
       "75%     47.000000    4.000000    4.000000    1.000000    7.000000   \n",
       "max     54.000000    5.000000    5.000000    1.000000    9.000000   \n",
       "\n",
       "       certifications        salary   satisfied  \n",
       "count      500.000000    500.000000  500.000000  \n",
       "mean         0.496000  50416.056000    0.526000  \n",
       "std          0.500485  23671.392661    0.499824  \n",
       "min          0.000000  24076.000000    0.000000  \n",
       "25%          0.000000  29805.000000    0.000000  \n",
       "50%          0.000000  42419.000000    1.000000  \n",
       "75%          1.000000  65715.000000    1.000000  \n",
       "max          1.000000  86750.000000    1.000000  "
      ]
     },
     "execution_count": 6,
     "metadata": {},
     "output_type": "execute_result"
    }
   ],
   "source": [
    "df.describe()"
   ]
  },
  {
   "cell_type": "code",
   "execution_count": 7,
   "metadata": {
    "ExecuteTime": {
     "end_time": "2021-11-30T06:10:48.242089Z",
     "start_time": "2021-11-30T06:10:47.503433Z"
    }
   },
   "outputs": [
    {
     "data": {
      "text/plain": [
       "<AxesSubplot:>"
      ]
     },
     "execution_count": 7,
     "metadata": {},
     "output_type": "execute_result"
    },
    {
     "data": {
      "image/png": "[encoded data removed]",
      "text/plain": [
       "<Figure size 720x360 with 2 Axes>"
      ]
     },
     "metadata": {
      "needs_background": "light"
     },
     "output_type": "display_data"
    }
   ],
   "source": [
    "plt.figure(1, figsize=(10,5))\n",
    "sns.heatmap(df.corr(), annot=True)"
   ]
  },
  {
   "cell_type": "code",
   "execution_count": 8,
   "metadata": {
    "ExecuteTime": {
     "end_time": "2021-11-30T06:10:48.273515Z",
     "start_time": "2021-11-30T06:10:48.244090Z"
    }
   },
   "outputs": [],
   "source": [
    "df.location = df.location.astype('category')\n",
    "df.Dept = df.Dept.astype('category')\n",
    "df.recruitment_type =  df.recruitment_type.astype('category')\n",
    "df.education = df.education.astype('category')\n",
    "\n",
    "\n",
    "location_d = dict(enumerate(df.location.cat.categories))\n",
    "Dept_d = dict(enumerate(df.Dept.cat.categories))\n",
    "recruitment_type_d = dict(enumerate(df.recruitment_type.cat.categories))\n",
    "education_d = dict(enumerate(df.education.cat.categories))\n",
    "\n",
    "\n",
    "df.location = df.location.cat.codes\n",
    "df.Dept = df.Dept.cat.codes\n",
    "df.recruitment_type = df.recruitment_type.cat.codes\n",
    "df.education = df.education.cat.codes"
   ]
  },
  {
   "cell_type": "markdown",
   "metadata": {},
   "source": [
    "## Bar Plot for each feature"
   ]
  },
  {
   "cell_type": "code",
   "execution_count": 9,
   "metadata": {
    "ExecuteTime": {
     "end_time": "2021-11-30T06:10:48.288786Z",
     "start_time": "2021-11-30T06:10:48.277076Z"
    }
   },
   "outputs": [],
   "source": [
    "def bar_plot(variable):\n",
    "    var=df[variable]\n",
    "    varValue=var.value_counts()\n",
    "    \n",
    "    plt.figure(figsize=(10,4))\n",
    "    plt.bar(varValue.index, varValue)\n",
    "    plt.xticks(varValue.index, varValue.index.values)\n",
    "    plt.ylabel(\"Frequency\")\n",
    "    plt.title(variable)\n",
    "    plt.show()\n",
    "    print(\"{}:\\n{}\".format(variable,varValue))"
   ]
  },
  {
   "cell_type": "code",
   "execution_count": 10,
   "metadata": {
    "ExecuteTime": {
     "end_time": "2021-11-30T06:10:49.423485Z",
     "start_time": "2021-11-30T06:10:48.289605Z"
    }
   },
   "outputs": [
    {
     "data": {
      "image/png": "[encoded data removed]",
      "text/plain": [
       "<Figure size 720x288 with 1 Axes>"
      ]
     },
     "metadata": {
      "needs_background": "light"
     },
     "output_type": "display_data"
    },
    {
     "name": "stdout",
     "output_type": "stream",
     "text": [
      "age:\n",
      "39    22\n",
      "50    21\n",
      "35    20\n",
      "53    20\n",
      "54    19\n",
      "25    19\n",
      "41    19\n",
      "26    19\n",
      "24    19\n",
      "44    18\n",
      "27    18\n",
      "46    17\n",
      "30    17\n",
      "33    17\n",
      "45    16\n",
      "43    16\n",
      "40    16\n",
      "49    16\n",
      "37    16\n",
      "52    15\n",
      "28    15\n",
      "34    14\n",
      "48    13\n",
      "31    13\n",
      "23    12\n",
      "36    12\n",
      "51    12\n",
      "29    11\n",
      "32    10\n",
      "47    10\n",
      "42     9\n",
      "38     9\n",
      "Name: age, dtype: int64\n"
     ]
    },
    {
     "data": {
      "image/png": "[encoded data removed]",
      "text/plain": [
       "<Figure size 720x288 with 1 Axes>"
      ]
     },
     "metadata": {
      "needs_background": "light"
     },
     "output_type": "display_data"
    },
    {
     "name": "stdout",
     "output_type": "stream",
     "text": [
      "Dept:\n",
      "2    109\n",
      "0    106\n",
      "4     98\n",
      "1     95\n",
      "3     92\n",
      "Name: Dept, dtype: int64\n"
     ]
    },
    {
     "data": {
      "image/png": "[encoded data removed]",
      "text/plain": [
       "<Figure size 720x288 with 1 Axes>"
      ]
     },
     "metadata": {
      "needs_background": "light"
     },
     "output_type": "display_data"
    },
    {
     "name": "stdout",
     "output_type": "stream",
     "text": [
      "location:\n",
      "0    259\n",
      "1    241\n",
      "Name: location, dtype: int64\n"
     ]
    },
    {
     "data": {
      "image/png": "[encoded data removed]",
      "text/plain": [
       "<Figure size 720x288 with 1 Axes>"
      ]
     },
     "metadata": {
      "needs_background": "light"
     },
     "output_type": "display_data"
    },
    {
     "name": "stdout",
     "output_type": "stream",
     "text": [
      "recruitment_type:\n",
      "0    133\n",
      "2    131\n",
      "3    128\n",
      "1    108\n",
      "Name: recruitment_type, dtype: int64\n"
     ]
    },
    {
     "data": {
      "image/png": "[encoded data removed]",
      "text/plain": [
       "<Figure size 720x288 with 1 Axes>"
      ]
     },
     "metadata": {
      "needs_background": "light"
     },
     "output_type": "display_data"
    },
    {
     "name": "stdout",
     "output_type": "stream",
     "text": [
      "rating:\n",
      "4    113\n",
      "5    106\n",
      "2     99\n",
      "1     95\n",
      "3     87\n",
      "Name: rating, dtype: int64\n"
     ]
    },
    {
     "data": {
      "image/png": "[encoded data removed]",
      "text/plain": [
       "<Figure size 720x288 with 1 Axes>"
      ]
     },
     "metadata": {
      "needs_background": "light"
     },
     "output_type": "display_data"
    },
    {
     "name": "stdout",
     "output_type": "stream",
     "text": [
      "onsite:\n",
      "0    267\n",
      "1    233\n",
      "Name: onsite, dtype: int64\n"
     ]
    },
    {
     "data": {
      "image/png": "[encoded data removed]",
      "text/plain": [
       "<Figure size 720x288 with 1 Axes>"
      ]
     },
     "metadata": {
      "needs_background": "light"
     },
     "output_type": "display_data"
    },
    {
     "name": "stdout",
     "output_type": "stream",
     "text": [
      "awards:\n",
      "3    57\n",
      "8    56\n",
      "5    52\n",
      "0    52\n",
      "4    51\n",
      "7    50\n",
      "2    48\n",
      "9    47\n",
      "6    46\n",
      "1    41\n",
      "Name: awards, dtype: int64\n"
     ]
    },
    {
     "data": {
      "image/png": "[encoded data removed]",
      "text/plain": [
       "<Figure size 720x288 with 1 Axes>"
      ]
     },
     "metadata": {
      "needs_background": "light"
     },
     "output_type": "display_data"
    },
    {
     "name": "stdout",
     "output_type": "stream",
     "text": [
      "certifications:\n",
      "0    252\n",
      "1    248\n",
      "Name: certifications, dtype: int64\n"
     ]
    },
    {
     "data": {
      "image/png": "[encoded data removed]",
      "text/plain": [
       "<Figure size 720x288 with 1 Axes>"
      ]
     },
     "metadata": {
      "needs_background": "light"
     },
     "output_type": "display_data"
    },
    {
     "name": "stdout",
     "output_type": "stream",
     "text": [
      "satisfied:\n",
      "1    263\n",
      "0    237\n",
      "Name: satisfied, dtype: int64\n"
     ]
    }
   ],
   "source": [
    "features=['age', 'Dept', 'location', 'recruitment_type','rating','onsite','awards','certifications','satisfied']\n",
    "for i in features:\n",
    "    bar_plot(i)"
   ]
  },
  {
   "cell_type": "code",
   "execution_count": 11,
   "metadata": {
    "ExecuteTime": {
     "end_time": "2021-11-30T06:10:49.627706Z",
     "start_time": "2021-11-30T06:10:49.425884Z"
    }
   },
   "outputs": [
    {
     "name": "stderr",
     "output_type": "stream",
     "text": [
      "C:\\Users\\ysavi\\Anaconda3\\lib\\site-packages\\seaborn\\distributions.py:2551: FutureWarning: `distplot` is a deprecated function and will be removed in a future version. Please adapt your code to use either `displot` (a figure-level function with similar flexibility) or `histplot` (an axes-level function for histograms).\n",
      "  warnings.warn(msg, FutureWarning)\n"
     ]
    },
    {
     "data": {
      "text/plain": [
       "<AxesSubplot:xlabel='age', ylabel='Density'>"
      ]
     },
     "execution_count": 11,
     "metadata": {},
     "output_type": "execute_result"
    },
    {
     "data": {
      "image/png": "[encoded data removed]",
      "text/plain": [
       "<Figure size 432x288 with 1 Axes>"
      ]
     },
     "metadata": {
      "needs_background": "light"
     },
     "output_type": "display_data"
    }
   ],
   "source": [
    "sns.distplot(df['age'],fit=norm)"
   ]
  },
  {
   "cell_type": "code",
   "execution_count": 12,
   "metadata": {
    "ExecuteTime": {
     "end_time": "2021-11-30T06:10:49.801736Z",
     "start_time": "2021-11-30T06:10:49.629086Z"
    }
   },
   "outputs": [
    {
     "name": "stderr",
     "output_type": "stream",
     "text": [
      "C:\\Users\\ysavi\\Anaconda3\\lib\\site-packages\\seaborn\\distributions.py:2551: FutureWarning: `distplot` is a deprecated function and will be removed in a future version. Please adapt your code to use either `displot` (a figure-level function with similar flexibility) or `histplot` (an axes-level function for histograms).\n",
      "  warnings.warn(msg, FutureWarning)\n"
     ]
    },
    {
     "data": {
      "text/plain": [
       "<AxesSubplot:xlabel='salary', ylabel='Density'>"
      ]
     },
     "execution_count": 12,
     "metadata": {},
     "output_type": "execute_result"
    },
    {
     "data": {
      "image/png": "[encoded data removed]",
      "text/plain": [
       "<Figure size 432x288 with 1 Axes>"
      ]
     },
     "metadata": {
      "needs_background": "light"
     },
     "output_type": "display_data"
    }
   ],
   "source": [
    "sns.distplot(df['salary'],fit=norm)"
   ]
  },
  {
   "cell_type": "markdown",
   "metadata": {},
   "source": [
    "## Pair plot for each feature"
   ]
  },
  {
   "cell_type": "code",
   "execution_count": 13,
   "metadata": {
    "ExecuteTime": {
     "end_time": "2021-11-30T06:11:07.110500Z",
     "start_time": "2021-11-30T06:10:49.802742Z"
    }
   },
   "outputs": [
    {
     "data": {
      "text/plain": [
       "<seaborn.axisgrid.PairGrid at 0x2c16b5c7df0>"
      ]
     },
     "execution_count": 13,
     "metadata": {},
     "output_type": "execute_result"
    },
    {
     "data": {
      "image/png": "[encoded data removed]",
      "text/plain": [
       "<Figure size 2160x2160 with 156 Axes>"
      ]
     },
     "metadata": {
      "needs_background": "light"
     },
     "output_type": "display_data"
    }
   ],
   "source": [
    "sns.pairplot(df)"
   ]
  },
  {
   "cell_type": "markdown",
   "metadata": {
    "ExecuteTime": {
     "end_time": "2021-11-10T12:09:11.265230Z",
     "start_time": "2021-11-10T12:09:11.253428Z"
    }
   },
   "source": [
    "From this pairplot graph, job_level and salary have a strong positive correlation."
   ]
  },
  {
   "cell_type": "markdown",
   "metadata": {},
   "source": [
    "## Histogram for each feature"
   ]
  },
  {
   "cell_type": "code",
   "execution_count": 14,
   "metadata": {
    "ExecuteTime": {
     "end_time": "2021-11-30T06:11:08.615906Z",
     "start_time": "2021-11-30T06:11:07.112287Z"
    }
   },
   "outputs": [
    {
     "data": {
      "image/png": "[encoded data removed]",
      "text/plain": [
       "<Figure size 432x288 with 1 Axes>"
      ]
     },
     "metadata": {
      "needs_background": "light"
     },
     "output_type": "display_data"
    },
    {
     "data": {
      "image/png": "[encoded data removed]",
      "text/plain": [
       "<Figure size 432x288 with 1 Axes>"
      ]
     },
     "metadata": {
      "needs_background": "light"
     },
     "output_type": "display_data"
    },
    {
     "data": {
      "image/png": "[encoded data removed]",
      "text/plain": [
       "<Figure size 432x288 with 1 Axes>"
      ]
     },
     "metadata": {
      "needs_background": "light"
     },
     "output_type": "display_data"
    },
    {
     "data": {
      "image/png": "[encoded data removed]",
      "text/plain": [
       "<Figure size 432x288 with 1 Axes>"
      ]
     },
     "metadata": {
      "needs_background": "light"
     },
     "output_type": "display_data"
    },
    {
     "data": {
      "image/png": "[encoded data removed]",
      "text/plain": [
       "<Figure size 432x288 with 1 Axes>"
      ]
     },
     "metadata": {
      "needs_background": "light"
     },
     "output_type": "display_data"
    },
    {
     "data": {
      "image/png": "[encoded data removed]",
      "text/plain": [
       "<Figure size 432x288 with 1 Axes>"
      ]
     },
     "metadata": {
      "needs_background": "light"
     },
     "output_type": "display_data"
    },
    {
     "data": {
      "image/png": "[encoded data removed]",
      "text/plain": [
       "<Figure size 432x288 with 1 Axes>"
      ]
     },
     "metadata": {
      "needs_background": "light"
     },
     "output_type": "display_data"
    },
    {
     "data": {
      "image/png": "[encoded data removed]",
      "text/plain": [
       "<Figure size 432x288 with 1 Axes>"
      ]
     },
     "metadata": {
      "needs_background": "light"
     },
     "output_type": "display_data"
    },
    {
     "data": {
      "image/png": "[encoded data removed]",
      "text/plain": [
       "<Figure size 432x288 with 1 Axes>"
      ]
     },
     "metadata": {
      "needs_background": "light"
     },
     "output_type": "display_data"
    },
    {
     "data": {
      "image/png": "[encoded data removed]",
      "text/plain": [
       "<Figure size 432x288 with 1 Axes>"
      ]
     },
     "metadata": {
      "needs_background": "light"
     },
     "output_type": "display_data"
    },
    {
     "data": {
      "image/png": "[encoded data removed]",
      "text/plain": [
       "<Figure size 432x288 with 1 Axes>"
      ]
     },
     "metadata": {
      "needs_background": "light"
     },
     "output_type": "display_data"
    },
    {
     "data": {
      "image/png": "[encoded data removed]",
      "text/plain": [
       "<Figure size 432x288 with 1 Axes>"
      ]
     },
     "metadata": {
      "needs_background": "light"
     },
     "output_type": "display_data"
    }
   ],
   "source": [
    "df.head()\n",
    "for i in df.columns:\n",
    "        plt.figure()\n",
    "        plt.hist(df[i])"
   ]
  },
  {
   "cell_type": "markdown",
   "metadata": {},
   "source": [
    "## Train/Test Split "
   ]
  },
  {
   "cell_type": "code",
   "execution_count": 15,
   "metadata": {
    "ExecuteTime": {
     "end_time": "2021-11-30T06:11:08.631088Z",
     "start_time": "2021-11-30T06:11:08.617883Z"
    }
   },
   "outputs": [],
   "source": [
    "X=df[['age','rating','onsite','awards','certifications','salary']]\n",
    "y= df['satisfied']"
   ]
  },
  {
   "cell_type": "code",
   "execution_count": 16,
   "metadata": {
    "ExecuteTime": {
     "end_time": "2021-11-30T06:11:08.646201Z",
     "start_time": "2021-11-30T06:11:08.632702Z"
    }
   },
   "outputs": [],
   "source": [
    "X_train,X_test,y_train,y_test = train_test_split(X, y, test_size=0.2, random_state=0)"
   ]
  },
  {
   "cell_type": "code",
   "execution_count": 17,
   "metadata": {
    "ExecuteTime": {
     "end_time": "2021-11-30T06:11:08.661760Z",
     "start_time": "2021-11-30T06:11:08.648949Z"
    }
   },
   "outputs": [
    {
     "data": {
      "text/plain": [
       "emp_id\n",
       "PUR7938     1\n",
       "HR7457      0\n",
       "HR5859      0\n",
       "MKT5946     1\n",
       "PUR1466     0\n",
       "           ..\n",
       "TECH3368    0\n",
       "SAL1659     1\n",
       "TECH3790    0\n",
       "HR9226      0\n",
       "TECH2707    0\n",
       "Name: satisfied, Length: 400, dtype: int64"
      ]
     },
     "execution_count": 17,
     "metadata": {},
     "output_type": "execute_result"
    }
   ],
   "source": [
    "y_train"
   ]
  },
  {
   "cell_type": "code",
   "execution_count": 18,
   "metadata": {
    "ExecuteTime": {
     "end_time": "2021-11-30T06:11:08.677566Z",
     "start_time": "2021-11-30T06:11:08.663694Z"
    }
   },
   "outputs": [
    {
     "name": "stdout",
     "output_type": "stream",
     "text": [
      "Shape of X_test is:  (100, 6)\n",
      "Shape of X_train is:  (400, 6)\n",
      "Shape of y_test is:  (100,)\n",
      "Shape of y_train is:  (400,)\n"
     ]
    }
   ],
   "source": [
    "print(f'Shape of X_test is: ',X_test.shape)\n",
    "print(f'Shape of X_train is: ',X_train.shape)\n",
    "print(f'Shape of y_test is: ',y_test.shape)\n",
    "print(f'Shape of y_train is: ',y_train.shape)"
   ]
  },
  {
   "cell_type": "markdown",
   "metadata": {},
   "source": [
    "## Linear Regression for Multiple feature"
   ]
  },
  {
   "cell_type": "code",
   "execution_count": 19,
   "metadata": {
    "ExecuteTime": {
     "end_time": "2021-11-30T06:11:08.693103Z",
     "start_time": "2021-11-30T06:11:08.681375Z"
    }
   },
   "outputs": [
    {
     "name": "stdout",
     "output_type": "stream",
     "text": [
      "(500, 12)\n",
      "6000\n"
     ]
    }
   ],
   "source": [
    "print(df.shape)\n",
    "print(df.size)"
   ]
  },
  {
   "cell_type": "code",
   "execution_count": 20,
   "metadata": {
    "ExecuteTime": {
     "end_time": "2021-11-30T06:11:08.724022Z",
     "start_time": "2021-11-30T06:11:08.696078Z"
    }
   },
   "outputs": [
    {
     "data": {
      "text/plain": [
       "LinearRegression()"
      ]
     },
     "execution_count": 20,
     "metadata": {},
     "output_type": "execute_result"
    }
   ],
   "source": [
    "regressor = LinearRegression(fit_intercept=True)\n",
    "regressor.fit(X_train, y_train)"
   ]
  },
  {
   "cell_type": "code",
   "execution_count": 21,
   "metadata": {
    "ExecuteTime": {
     "end_time": "2021-11-30T06:11:08.739308Z",
     "start_time": "2021-11-30T06:11:08.728816Z"
    }
   },
   "outputs": [
    {
     "data": {
      "text/html": [
       "<div>\n",
       "<style scoped>\n",
       "    .dataframe tbody tr th:only-of-type {\n",
       "        vertical-align: middle;\n",
       "    }\n",
       "\n",
       "    .dataframe tbody tr th {\n",
       "        vertical-align: top;\n",
       "    }\n",
       "\n",
       "    .dataframe thead th {\n",
       "        text-align: right;\n",
       "    }\n",
       "</style>\n",
       "<table border=\"1\" class=\"dataframe\">\n",
       "  <thead>\n",
       "    <tr style=\"text-align: right;\">\n",
       "      <th></th>\n",
       "      <th>Coefficient</th>\n",
       "    </tr>\n",
       "  </thead>\n",
       "  <tbody>\n",
       "    <tr>\n",
       "      <th>age</th>\n",
       "      <td>4.176463e-04</td>\n",
       "    </tr>\n",
       "    <tr>\n",
       "      <th>rating</th>\n",
       "      <td>2.575489e-02</td>\n",
       "    </tr>\n",
       "    <tr>\n",
       "      <th>onsite</th>\n",
       "      <td>1.056328e-02</td>\n",
       "    </tr>\n",
       "    <tr>\n",
       "      <th>awards</th>\n",
       "      <td>-2.390059e-03</td>\n",
       "    </tr>\n",
       "    <tr>\n",
       "      <th>certifications</th>\n",
       "      <td>7.636551e-03</td>\n",
       "    </tr>\n",
       "    <tr>\n",
       "      <th>salary</th>\n",
       "      <td>4.840658e-07</td>\n",
       "    </tr>\n",
       "  </tbody>\n",
       "</table>\n",
       "</div>"
      ],
      "text/plain": [
       "                 Coefficient\n",
       "age             4.176463e-04\n",
       "rating          2.575489e-02\n",
       "onsite          1.056328e-02\n",
       "awards         -2.390059e-03\n",
       "certifications  7.636551e-03\n",
       "salary          4.840658e-07"
      ]
     },
     "execution_count": 21,
     "metadata": {},
     "output_type": "execute_result"
    }
   ],
   "source": [
    "coeff_df = pd.DataFrame(regressor.coef_, X.columns, columns=['Coefficient'])\n",
    "coeff_df"
   ]
  },
  {
   "cell_type": "code",
   "execution_count": 22,
   "metadata": {
    "ExecuteTime": {
     "end_time": "2021-11-30T06:11:08.754713Z",
     "start_time": "2021-11-30T06:11:08.740950Z"
    }
   },
   "outputs": [
    {
     "data": {
      "text/plain": [
       "0.40381855160389946"
      ]
     },
     "execution_count": 22,
     "metadata": {},
     "output_type": "execute_result"
    }
   ],
   "source": [
    "regressor.intercept_"
   ]
  },
  {
   "cell_type": "code",
   "execution_count": 23,
   "metadata": {
    "ExecuteTime": {
     "end_time": "2021-11-30T06:11:08.786352Z",
     "start_time": "2021-11-30T06:11:08.761534Z"
    }
   },
   "outputs": [
    {
     "data": {
      "text/plain": [
       "array([0.52844409, 0.48833991, 0.58545658, 0.55344675, 0.58066442,\n",
       "       0.51857309, 0.48559389, 0.4794644 , 0.50255685, 0.46653877,\n",
       "       0.51623445, 0.44210874, 0.47852886, 0.54198934, 0.49784372,\n",
       "       0.49248243, 0.52145992, 0.48368993, 0.50494691, 0.57178066,\n",
       "       0.51813162, 0.537506  , 0.52052168, 0.51001499, 0.48798222,\n",
       "       0.5137773 , 0.5125728 , 0.43460224, 0.54480559, 0.49110782,\n",
       "       0.53839158, 0.49866304, 0.54110264, 0.52742279, 0.51953487,\n",
       "       0.55157409, 0.51141185, 0.52903122, 0.52486818, 0.49654308,\n",
       "       0.57630195, 0.50200991, 0.47929397, 0.52313051, 0.5129389 ,\n",
       "       0.44583306, 0.52218215, 0.48780644, 0.55510447, 0.50922881,\n",
       "       0.47804176, 0.48393444, 0.52025744, 0.56117422, 0.47446861,\n",
       "       0.49224484, 0.54561088, 0.53270991, 0.56653727, 0.48711663,\n",
       "       0.60053484, 0.4834552 , 0.49418475, 0.46577047, 0.54869046,\n",
       "       0.52493608, 0.56335755, 0.50468234, 0.53106035, 0.57751746,\n",
       "       0.45950267, 0.43767607, 0.50558553, 0.55187912, 0.52650911,\n",
       "       0.48992462, 0.56259245, 0.45738194, 0.54668136, 0.48011678,\n",
       "       0.55492019, 0.55011144, 0.60056203, 0.55498865, 0.57579494,\n",
       "       0.54669962, 0.52487129, 0.54983651, 0.50461059, 0.54873919,\n",
       "       0.52505099, 0.4631028 , 0.46030547, 0.52314968, 0.54671584,\n",
       "       0.49373261, 0.5485407 , 0.52816053, 0.55724006, 0.48429324,\n",
       "       0.50210151, 0.52189044, 0.47322914, 0.54387045, 0.455943  ,\n",
       "       0.55716231, 0.50951192, 0.47429287, 0.46892883, 0.48719748,\n",
       "       0.48681829, 0.47959343, 0.57779856, 0.55364635, 0.47456251,\n",
       "       0.5899533 , 0.53433167, 0.48137983, 0.47398077, 0.55695877,\n",
       "       0.58022001, 0.56778947, 0.51195071, 0.46932904, 0.49754245,\n",
       "       0.48922156, 0.55695877, 0.53564647, 0.52792979, 0.56785207,\n",
       "       0.45764608, 0.533078  , 0.57266469, 0.54973986, 0.47261162,\n",
       "       0.46493518, 0.55672623, 0.44911034, 0.5312549 , 0.44558316,\n",
       "       0.49005841, 0.54066621, 0.55458698, 0.58756324, 0.54190296,\n",
       "       0.45676516, 0.53923357, 0.45537504, 0.45927379, 0.532523  ,\n",
       "       0.46329918, 0.51840085, 0.55583681, 0.57494212, 0.51675992,\n",
       "       0.49421415, 0.49297744, 0.49891385, 0.52523947, 0.48519058,\n",
       "       0.56588764, 0.5811308 , 0.51649289, 0.56867433, 0.53556808,\n",
       "       0.48842076, 0.55020543, 0.45969144, 0.52349933, 0.50384704,\n",
       "       0.53497785, 0.45950863, 0.54740083, 0.45103668, 0.45464123,\n",
       "       0.53594829, 0.52506722, 0.54628197, 0.54405336, 0.51143567,\n",
       "       0.48824818, 0.5049545 , 0.56535378, 0.48776655, 0.56468067,\n",
       "       0.48973896, 0.45574661, 0.55741091, 0.55206193, 0.50811316,\n",
       "       0.46445054, 0.48470814, 0.52869169, 0.52350253, 0.49702185,\n",
       "       0.57345755, 0.58021008, 0.52282868, 0.46566061, 0.48050128,\n",
       "       0.46648684, 0.46231038, 0.53886155, 0.47331552, 0.50008576,\n",
       "       0.5121738 , 0.48787926, 0.4753987 , 0.46152701, 0.50215746,\n",
       "       0.57238678, 0.5748902 , 0.56127488, 0.51340809, 0.52174522,\n",
       "       0.46655393, 0.48909214, 0.5517276 , 0.49361955, 0.52697238,\n",
       "       0.56714019, 0.51091737, 0.56523037, 0.55314492, 0.49159246,\n",
       "       0.51460949, 0.60327235, 0.54971176, 0.53737101, 0.45290045,\n",
       "       0.53347721, 0.58176411, 0.45642763, 0.52445054, 0.47269248,\n",
       "       0.47967665, 0.52068852, 0.54535822, 0.46960268, 0.585792  ,\n",
       "       0.50534538, 0.51171597, 0.59426704, 0.56586342, 0.55224254,\n",
       "       0.54383795, 0.51193867, 0.49022645, 0.56586973, 0.5499706 ,\n",
       "       0.44808584, 0.4956531 , 0.51259999, 0.53556635, 0.49449771,\n",
       "       0.55164428, 0.58410625, 0.56531169, 0.53287446, 0.56289674,\n",
       "       0.56423053, 0.58044172, 0.57139578, 0.53264438, 0.59134032,\n",
       "       0.50349409, 0.57014284, 0.56628107, 0.51268861, 0.58013669,\n",
       "       0.5976752 , 0.46801791, 0.59187378, 0.50662509, 0.58518834,\n",
       "       0.46945336, 0.49308609, 0.55447081, 0.59331593, 0.5530291 ,\n",
       "       0.49950054, 0.54503896, 0.55398022, 0.47568137, 0.46389963,\n",
       "       0.57846931, 0.56327449, 0.55624434, 0.53185821, 0.54357355,\n",
       "       0.47415081, 0.58327096, 0.44663266, 0.51184775, 0.47508081,\n",
       "       0.54602576, 0.56595434, 0.55129463, 0.56481722, 0.46525307,\n",
       "       0.50317876, 0.48958434, 0.48584296, 0.50055214, 0.4706696 ,\n",
       "       0.51753611, 0.55582321, 0.49754245, 0.50230825, 0.53008428,\n",
       "       0.50523807, 0.54502829, 0.4989479 , 0.56364021, 0.56347967,\n",
       "       0.46760026, 0.57083551, 0.49866304, 0.5487938 , 0.54846949,\n",
       "       0.51917144, 0.53975797, 0.47417705, 0.57934129, 0.54298643,\n",
       "       0.45208662, 0.49296717, 0.46249639, 0.48141432, 0.54195191,\n",
       "       0.47289192, 0.52333443, 0.56145222, 0.5509896 , 0.4533507 ,\n",
       "       0.56198569, 0.56578037, 0.47674829, 0.53986093, 0.5634605 ,\n",
       "       0.59050823, 0.54071814, 0.54983962, 0.54663189, 0.5818959 ,\n",
       "       0.54042659, 0.58181323, 0.47650013, 0.48069622, 0.47512817,\n",
       "       0.57298724, 0.47467603, 0.54484228, 0.45092804, 0.46315163,\n",
       "       0.48263587, 0.56001638, 0.51240505, 0.50976228, 0.54988697,\n",
       "       0.56558862, 0.47962894, 0.5612561 , 0.50481762, 0.54036748,\n",
       "       0.59169407, 0.54226971, 0.54222059, 0.53041961, 0.47219398,\n",
       "       0.51915292, 0.49426608, 0.52306515, 0.57505475, 0.53847243,\n",
       "       0.51257043, 0.52178001, 0.48043182, 0.53066641, 0.47192254,\n",
       "       0.55078762, 0.55501775, 0.47840995, 0.55808165, 0.46834343,\n",
       "       0.4795121 , 0.53895717, 0.43919635, 0.51765164, 0.50572854,\n",
       "       0.43767607, 0.49890038, 0.53952944, 0.50471207, 0.58219773,\n",
       "       0.48009749, 0.48652967, 0.53230979, 0.4926836 , 0.54413977])"
      ]
     },
     "execution_count": 23,
     "metadata": {},
     "output_type": "execute_result"
    }
   ],
   "source": [
    "y_pred = regressor.predict(X_train)\n",
    "y_pred"
   ]
  },
  {
   "cell_type": "code",
   "execution_count": 24,
   "metadata": {
    "ExecuteTime": {
     "end_time": "2021-11-30T06:11:08.801492Z",
     "start_time": "2021-11-30T06:11:08.791099Z"
    }
   },
   "outputs": [
    {
     "data": {
      "text/plain": [
       "400"
      ]
     },
     "execution_count": 24,
     "metadata": {},
     "output_type": "execute_result"
    }
   ],
   "source": [
    "len(y_pred)"
   ]
  },
  {
   "cell_type": "code",
   "execution_count": 25,
   "metadata": {
    "ExecuteTime": {
     "end_time": "2021-11-30T06:11:08.817220Z",
     "start_time": "2021-11-30T06:11:08.803824Z"
    }
   },
   "outputs": [
    {
     "data": {
      "text/html": [
       "<div>\n",
       "<style scoped>\n",
       "    .dataframe tbody tr th:only-of-type {\n",
       "        vertical-align: middle;\n",
       "    }\n",
       "\n",
       "    .dataframe tbody tr th {\n",
       "        vertical-align: top;\n",
       "    }\n",
       "\n",
       "    .dataframe thead th {\n",
       "        text-align: right;\n",
       "    }\n",
       "</style>\n",
       "<table border=\"1\" class=\"dataframe\">\n",
       "  <thead>\n",
       "    <tr style=\"text-align: right;\">\n",
       "      <th></th>\n",
       "      <th>age</th>\n",
       "      <th>rating</th>\n",
       "      <th>onsite</th>\n",
       "      <th>awards</th>\n",
       "      <th>certifications</th>\n",
       "    </tr>\n",
       "  </thead>\n",
       "  <tbody>\n",
       "    <tr>\n",
       "      <th>age</th>\n",
       "      <td>1.000000</td>\n",
       "      <td>-0.096388</td>\n",
       "      <td>-0.054055</td>\n",
       "      <td>-0.019875</td>\n",
       "      <td>0.025335</td>\n",
       "    </tr>\n",
       "    <tr>\n",
       "      <th>rating</th>\n",
       "      <td>-0.096388</td>\n",
       "      <td>1.000000</td>\n",
       "      <td>0.009079</td>\n",
       "      <td>0.022983</td>\n",
       "      <td>-0.030503</td>\n",
       "    </tr>\n",
       "    <tr>\n",
       "      <th>onsite</th>\n",
       "      <td>-0.054055</td>\n",
       "      <td>0.009079</td>\n",
       "      <td>1.000000</td>\n",
       "      <td>0.003722</td>\n",
       "      <td>0.043558</td>\n",
       "    </tr>\n",
       "    <tr>\n",
       "      <th>awards</th>\n",
       "      <td>-0.019875</td>\n",
       "      <td>0.022983</td>\n",
       "      <td>0.003722</td>\n",
       "      <td>1.000000</td>\n",
       "      <td>-0.030066</td>\n",
       "    </tr>\n",
       "    <tr>\n",
       "      <th>certifications</th>\n",
       "      <td>0.025335</td>\n",
       "      <td>-0.030503</td>\n",
       "      <td>0.043558</td>\n",
       "      <td>-0.030066</td>\n",
       "      <td>1.000000</td>\n",
       "    </tr>\n",
       "  </tbody>\n",
       "</table>\n",
       "</div>"
      ],
      "text/plain": [
       "                     age    rating    onsite    awards  certifications\n",
       "age             1.000000 -0.096388 -0.054055 -0.019875        0.025335\n",
       "rating         -0.096388  1.000000  0.009079  0.022983       -0.030503\n",
       "onsite         -0.054055  0.009079  1.000000  0.003722        0.043558\n",
       "awards         -0.019875  0.022983  0.003722  1.000000       -0.030066\n",
       "certifications  0.025335 -0.030503  0.043558 -0.030066        1.000000"
      ]
     },
     "execution_count": 25,
     "metadata": {},
     "output_type": "execute_result"
    }
   ],
   "source": [
    "X.iloc[:,:-1].corr()"
   ]
  },
  {
   "cell_type": "code",
   "execution_count": 26,
   "metadata": {
    "ExecuteTime": {
     "end_time": "2021-11-30T06:11:08.832606Z",
     "start_time": "2021-11-30T06:11:08.819221Z"
    }
   },
   "outputs": [
    {
     "name": "stdout",
     "output_type": "stream",
     "text": [
      "Mean Absolute Error: 0.49179637442384655\n",
      "Mean Squared Error: 0.24417714140960212\n",
      "Root Mean Squared Error: 0.494142835028094\n"
     ]
    }
   ],
   "source": [
    "# Model evaluation metrics - Regression problems\n",
    "\n",
    "y_pred = regressor.predict(X_test)\n",
    "\n",
    "from sklearn import metrics\n",
    "print('Mean Absolute Error:', metrics.mean_absolute_error(y_test, y_pred))\n",
    "print('Mean Squared Error:', metrics.mean_squared_error(y_test, y_pred))\n",
    "print('Root Mean Squared Error:', np.sqrt(metrics.mean_squared_error(y_test, y_pred)))\n"
   ]
  },
  {
   "cell_type": "code",
   "execution_count": 27,
   "metadata": {
    "ExecuteTime": {
     "end_time": "2021-11-30T06:11:08.863980Z",
     "start_time": "2021-11-30T06:11:08.835589Z"
    }
   },
   "outputs": [
    {
     "data": {
      "text/html": [
       "<div>\n",
       "<style scoped>\n",
       "    .dataframe tbody tr th:only-of-type {\n",
       "        vertical-align: middle;\n",
       "    }\n",
       "\n",
       "    .dataframe tbody tr th {\n",
       "        vertical-align: top;\n",
       "    }\n",
       "\n",
       "    .dataframe thead th {\n",
       "        text-align: right;\n",
       "    }\n",
       "</style>\n",
       "<table border=\"1\" class=\"dataframe\">\n",
       "  <thead>\n",
       "    <tr style=\"text-align: right;\">\n",
       "      <th></th>\n",
       "      <th>age</th>\n",
       "      <th>Dept</th>\n",
       "      <th>location</th>\n",
       "      <th>education</th>\n",
       "      <th>recruitment_type</th>\n",
       "      <th>job_level</th>\n",
       "      <th>rating</th>\n",
       "      <th>onsite</th>\n",
       "      <th>awards</th>\n",
       "      <th>certifications</th>\n",
       "      <th>salary</th>\n",
       "      <th>satisfied</th>\n",
       "    </tr>\n",
       "    <tr>\n",
       "      <th>emp_id</th>\n",
       "      <th></th>\n",
       "      <th></th>\n",
       "      <th></th>\n",
       "      <th></th>\n",
       "      <th></th>\n",
       "      <th></th>\n",
       "      <th></th>\n",
       "      <th></th>\n",
       "      <th></th>\n",
       "      <th></th>\n",
       "      <th></th>\n",
       "      <th></th>\n",
       "    </tr>\n",
       "  </thead>\n",
       "  <tbody>\n",
       "    <tr>\n",
       "      <th>HR8270</th>\n",
       "      <td>28</td>\n",
       "      <td>0</td>\n",
       "      <td>1</td>\n",
       "      <td>0</td>\n",
       "      <td>2</td>\n",
       "      <td>5</td>\n",
       "      <td>2</td>\n",
       "      <td>0</td>\n",
       "      <td>1</td>\n",
       "      <td>0</td>\n",
       "      <td>86750</td>\n",
       "      <td>1</td>\n",
       "    </tr>\n",
       "    <tr>\n",
       "      <th>TECH1860</th>\n",
       "      <td>50</td>\n",
       "      <td>4</td>\n",
       "      <td>1</td>\n",
       "      <td>0</td>\n",
       "      <td>3</td>\n",
       "      <td>3</td>\n",
       "      <td>5</td>\n",
       "      <td>1</td>\n",
       "      <td>2</td>\n",
       "      <td>1</td>\n",
       "      <td>42419</td>\n",
       "      <td>0</td>\n",
       "    </tr>\n",
       "    <tr>\n",
       "      <th>TECH6390</th>\n",
       "      <td>43</td>\n",
       "      <td>4</td>\n",
       "      <td>1</td>\n",
       "      <td>1</td>\n",
       "      <td>2</td>\n",
       "      <td>4</td>\n",
       "      <td>1</td>\n",
       "      <td>0</td>\n",
       "      <td>2</td>\n",
       "      <td>0</td>\n",
       "      <td>65715</td>\n",
       "      <td>0</td>\n",
       "    </tr>\n",
       "    <tr>\n",
       "      <th>SAL6191</th>\n",
       "      <td>44</td>\n",
       "      <td>3</td>\n",
       "      <td>0</td>\n",
       "      <td>0</td>\n",
       "      <td>0</td>\n",
       "      <td>2</td>\n",
       "      <td>3</td>\n",
       "      <td>1</td>\n",
       "      <td>0</td>\n",
       "      <td>0</td>\n",
       "      <td>29805</td>\n",
       "      <td>1</td>\n",
       "    </tr>\n",
       "    <tr>\n",
       "      <th>HR6734</th>\n",
       "      <td>33</td>\n",
       "      <td>0</td>\n",
       "      <td>0</td>\n",
       "      <td>1</td>\n",
       "      <td>1</td>\n",
       "      <td>2</td>\n",
       "      <td>1</td>\n",
       "      <td>0</td>\n",
       "      <td>5</td>\n",
       "      <td>0</td>\n",
       "      <td>29805</td>\n",
       "      <td>1</td>\n",
       "    </tr>\n",
       "  </tbody>\n",
       "</table>\n",
       "</div>"
      ],
      "text/plain": [
       "          age  Dept  location  education  recruitment_type  job_level  rating  \\\n",
       "emp_id                                                                          \n",
       "HR8270     28     0         1          0                 2          5       2   \n",
       "TECH1860   50     4         1          0                 3          3       5   \n",
       "TECH6390   43     4         1          1                 2          4       1   \n",
       "SAL6191    44     3         0          0                 0          2       3   \n",
       "HR6734     33     0         0          1                 1          2       1   \n",
       "\n",
       "          onsite  awards  certifications  salary  satisfied  \n",
       "emp_id                                                       \n",
       "HR8270         0       1               0   86750          1  \n",
       "TECH1860       1       2               1   42419          0  \n",
       "TECH6390       0       2               0   65715          0  \n",
       "SAL6191        1       0               0   29805          1  \n",
       "HR6734         0       5               0   29805          1  "
      ]
     },
     "execution_count": 27,
     "metadata": {},
     "output_type": "execute_result"
    }
   ],
   "source": [
    "df.head()"
   ]
  },
  {
   "cell_type": "code",
   "execution_count": 28,
   "metadata": {
    "ExecuteTime": {
     "end_time": "2021-11-30T06:11:08.879359Z",
     "start_time": "2021-11-30T06:11:08.865489Z"
    }
   },
   "outputs": [
    {
     "data": {
      "text/plain": [
       "(500, 12)"
      ]
     },
     "execution_count": 28,
     "metadata": {},
     "output_type": "execute_result"
    }
   ],
   "source": [
    "df.shape"
   ]
  },
  {
   "cell_type": "code",
   "execution_count": 29,
   "metadata": {
    "ExecuteTime": {
     "end_time": "2021-11-30T06:11:08.895684Z",
     "start_time": "2021-11-30T06:11:08.883463Z"
    }
   },
   "outputs": [
    {
     "data": {
      "text/html": [
       "<div>\n",
       "<style scoped>\n",
       "    .dataframe tbody tr th:only-of-type {\n",
       "        vertical-align: middle;\n",
       "    }\n",
       "\n",
       "    .dataframe tbody tr th {\n",
       "        vertical-align: top;\n",
       "    }\n",
       "\n",
       "    .dataframe thead th {\n",
       "        text-align: right;\n",
       "    }\n",
       "</style>\n",
       "<table border=\"1\" class=\"dataframe\">\n",
       "  <thead>\n",
       "    <tr style=\"text-align: right;\">\n",
       "      <th></th>\n",
       "      <th>age</th>\n",
       "      <th>rating</th>\n",
       "      <th>onsite</th>\n",
       "      <th>awards</th>\n",
       "      <th>certifications</th>\n",
       "      <th>salary</th>\n",
       "    </tr>\n",
       "    <tr>\n",
       "      <th>emp_id</th>\n",
       "      <th></th>\n",
       "      <th></th>\n",
       "      <th></th>\n",
       "      <th></th>\n",
       "      <th></th>\n",
       "      <th></th>\n",
       "    </tr>\n",
       "  </thead>\n",
       "  <tbody>\n",
       "    <tr>\n",
       "      <th>HR8270</th>\n",
       "      <td>28</td>\n",
       "      <td>2</td>\n",
       "      <td>0</td>\n",
       "      <td>1</td>\n",
       "      <td>0</td>\n",
       "      <td>86750</td>\n",
       "    </tr>\n",
       "    <tr>\n",
       "      <th>TECH1860</th>\n",
       "      <td>50</td>\n",
       "      <td>5</td>\n",
       "      <td>1</td>\n",
       "      <td>2</td>\n",
       "      <td>1</td>\n",
       "      <td>42419</td>\n",
       "    </tr>\n",
       "    <tr>\n",
       "      <th>TECH6390</th>\n",
       "      <td>43</td>\n",
       "      <td>1</td>\n",
       "      <td>0</td>\n",
       "      <td>2</td>\n",
       "      <td>0</td>\n",
       "      <td>65715</td>\n",
       "    </tr>\n",
       "    <tr>\n",
       "      <th>SAL6191</th>\n",
       "      <td>44</td>\n",
       "      <td>3</td>\n",
       "      <td>1</td>\n",
       "      <td>0</td>\n",
       "      <td>0</td>\n",
       "      <td>29805</td>\n",
       "    </tr>\n",
       "    <tr>\n",
       "      <th>HR6734</th>\n",
       "      <td>33</td>\n",
       "      <td>1</td>\n",
       "      <td>0</td>\n",
       "      <td>5</td>\n",
       "      <td>0</td>\n",
       "      <td>29805</td>\n",
       "    </tr>\n",
       "  </tbody>\n",
       "</table>\n",
       "</div>"
      ],
      "text/plain": [
       "          age  rating  onsite  awards  certifications  salary\n",
       "emp_id                                                       \n",
       "HR8270     28       2       0       1               0   86750\n",
       "TECH1860   50       5       1       2               1   42419\n",
       "TECH6390   43       1       0       2               0   65715\n",
       "SAL6191    44       3       1       0               0   29805\n",
       "HR6734     33       1       0       5               0   29805"
      ]
     },
     "execution_count": 29,
     "metadata": {},
     "output_type": "execute_result"
    }
   ],
   "source": [
    "X.head()"
   ]
  },
  {
   "cell_type": "code",
   "execution_count": 30,
   "metadata": {
    "ExecuteTime": {
     "end_time": "2021-11-30T06:11:08.911756Z",
     "start_time": "2021-11-30T06:11:08.898009Z"
    }
   },
   "outputs": [
    {
     "data": {
      "text/plain": [
       "emp_id\n",
       "HR8270      1\n",
       "TECH1860    0\n",
       "TECH6390    0\n",
       "SAL6191     1\n",
       "HR6734      1\n",
       "Name: satisfied, dtype: int64"
      ]
     },
     "execution_count": 30,
     "metadata": {},
     "output_type": "execute_result"
    }
   ],
   "source": [
    "y.head()"
   ]
  },
  {
   "cell_type": "code",
   "execution_count": 31,
   "metadata": {
    "ExecuteTime": {
     "end_time": "2021-11-30T06:11:08.927053Z",
     "start_time": "2021-11-30T06:11:08.914355Z"
    }
   },
   "outputs": [
    {
     "name": "stdout",
     "output_type": "stream",
     "text": [
      "[0.52273113 0.53683445 0.4698657  0.57983486 0.50274286 0.59169098\n",
      " 0.53930026 0.45161622 0.48017882 0.47215418 0.60000137 0.57196667\n",
      " 0.45904933 0.57860265 0.48964387 0.47188684 0.55298054 0.48253318\n",
      " 0.48463968 0.47762412 0.5192766  0.50113443 0.51686857 0.49347097\n",
      " 0.58644758 0.48063096 0.56971316 0.50069308 0.58921539 0.47260853\n",
      " 0.56844269 0.49294778 0.54642688 0.49143066 0.48874187 0.57076842\n",
      " 0.56755823 0.48692815 0.52110617 0.54195226 0.53368165 0.56850969\n",
      " 0.50409244 0.52482531 0.45153489 0.58742864 0.50583892 0.56909783\n",
      " 0.4523     0.57432954 0.52264267 0.53682084 0.54162362 0.54990351\n",
      " 0.52416973 0.54962909 0.56612558 0.45806692 0.56210781 0.52956778\n",
      " 0.46200855 0.53673796 0.51857309 0.49904895 0.50403425 0.5706526\n",
      " 0.54781848 0.47029932 0.52169329 0.49340268 0.58719425 0.53543136\n",
      " 0.56756104 0.55212672 0.54885264 0.55276314 0.49493673 0.48537895\n",
      " 0.44298249 0.46869409 0.53563344 0.58700504 0.57756692 0.57081129\n",
      " 0.5873316  0.56097059 0.57705137 0.51818264 0.53288962 0.56257648\n",
      " 0.5013709  0.51535841 0.49208305 0.51772929 0.50571511 0.48133657\n",
      " 0.58496874 0.53969088 0.55811662 0.56475013]\n"
     ]
    }
   ],
   "source": [
    "y_pred=regressor.predict(X_test)\n",
    "print(y_pred)"
   ]
  },
  {
   "cell_type": "code",
   "execution_count": 32,
   "metadata": {
    "ExecuteTime": {
     "end_time": "2021-11-30T06:11:08.942512Z",
     "start_time": "2021-11-30T06:11:08.928945Z"
    }
   },
   "outputs": [
    {
     "data": {
      "text/plain": [
       "100"
      ]
     },
     "execution_count": 32,
     "metadata": {},
     "output_type": "execute_result"
    }
   ],
   "source": [
    "len(y_pred)"
   ]
  },
  {
   "cell_type": "code",
   "execution_count": 33,
   "metadata": {
    "ExecuteTime": {
     "end_time": "2021-11-30T06:11:08.958399Z",
     "start_time": "2021-11-30T06:11:08.946637Z"
    }
   },
   "outputs": [
    {
     "name": "stdout",
     "output_type": "stream",
     "text": [
      "0.013425691274334906\n"
     ]
    }
   ],
   "source": [
    "score = r2_score(y_test, y_pred)\n",
    "print(score)"
   ]
  },
  {
   "cell_type": "markdown",
   "metadata": {},
   "source": [
    "### Confusion Matrix for Linear Regression"
   ]
  },
  {
   "cell_type": "code",
   "execution_count": 34,
   "metadata": {
    "ExecuteTime": {
     "end_time": "2021-11-30T06:11:08.973575Z",
     "start_time": "2021-11-30T06:11:08.960926Z"
    }
   },
   "outputs": [
    {
     "data": {
      "text/plain": [
       "emp_id\n",
       "PUR7184    0\n",
       "SAL4446    0\n",
       "MKT1190    0\n",
       "MKT3786    1\n",
       "SAL1728    1\n",
       "          ..\n",
       "MKT8805    0\n",
       "PUR7873    1\n",
       "MKT8164    0\n",
       "MKT1995    1\n",
       "HR2802     0\n",
       "Name: satisfied, Length: 100, dtype: int64"
      ]
     },
     "execution_count": 34,
     "metadata": {},
     "output_type": "execute_result"
    }
   ],
   "source": [
    "y_test"
   ]
  },
  {
   "cell_type": "code",
   "execution_count": 35,
   "metadata": {
    "ExecuteTime": {
     "end_time": "2021-11-30T06:11:08.989428Z",
     "start_time": "2021-11-30T06:11:08.976178Z"
    }
   },
   "outputs": [
    {
     "data": {
      "text/plain": [
       "array([0.52273113, 0.53683445, 0.4698657 , 0.57983486, 0.50274286,\n",
       "       0.59169098, 0.53930026, 0.45161622, 0.48017882, 0.47215418,\n",
       "       0.60000137, 0.57196667, 0.45904933, 0.57860265, 0.48964387,\n",
       "       0.47188684, 0.55298054, 0.48253318, 0.48463968, 0.47762412,\n",
       "       0.5192766 , 0.50113443, 0.51686857, 0.49347097, 0.58644758,\n",
       "       0.48063096, 0.56971316, 0.50069308, 0.58921539, 0.47260853,\n",
       "       0.56844269, 0.49294778, 0.54642688, 0.49143066, 0.48874187,\n",
       "       0.57076842, 0.56755823, 0.48692815, 0.52110617, 0.54195226,\n",
       "       0.53368165, 0.56850969, 0.50409244, 0.52482531, 0.45153489,\n",
       "       0.58742864, 0.50583892, 0.56909783, 0.4523    , 0.57432954,\n",
       "       0.52264267, 0.53682084, 0.54162362, 0.54990351, 0.52416973,\n",
       "       0.54962909, 0.56612558, 0.45806692, 0.56210781, 0.52956778,\n",
       "       0.46200855, 0.53673796, 0.51857309, 0.49904895, 0.50403425,\n",
       "       0.5706526 , 0.54781848, 0.47029932, 0.52169329, 0.49340268,\n",
       "       0.58719425, 0.53543136, 0.56756104, 0.55212672, 0.54885264,\n",
       "       0.55276314, 0.49493673, 0.48537895, 0.44298249, 0.46869409,\n",
       "       0.53563344, 0.58700504, 0.57756692, 0.57081129, 0.5873316 ,\n",
       "       0.56097059, 0.57705137, 0.51818264, 0.53288962, 0.56257648,\n",
       "       0.5013709 , 0.51535841, 0.49208305, 0.51772929, 0.50571511,\n",
       "       0.48133657, 0.58496874, 0.53969088, 0.55811662, 0.56475013])"
      ]
     },
     "execution_count": 35,
     "metadata": {},
     "output_type": "execute_result"
    }
   ],
   "source": [
    "y_pred"
   ]
  },
  {
   "cell_type": "code",
   "execution_count": 36,
   "metadata": {
    "ExecuteTime": {
     "end_time": "2021-11-30T06:11:09.004699Z",
     "start_time": "2021-11-30T06:11:08.991963Z"
    }
   },
   "outputs": [
    {
     "data": {
      "text/plain": [
       "array([[ 0, 45],\n",
       "       [ 1, 55]], dtype=int64)"
      ]
     },
     "execution_count": 36,
     "metadata": {},
     "output_type": "execute_result"
    }
   ],
   "source": [
    "np.array(np.unique(y_test, return_counts=True)).T"
   ]
  },
  {
   "cell_type": "code",
   "execution_count": 37,
   "metadata": {
    "ExecuteTime": {
     "end_time": "2021-11-30T06:11:09.020030Z",
     "start_time": "2021-11-30T06:11:09.006700Z"
    }
   },
   "outputs": [
    {
     "data": {
      "text/plain": [
       "array([[0.44298249, 1.        ],\n",
       "       [0.45153489, 1.        ],\n",
       "       [0.45161622, 1.        ],\n",
       "       [0.4523    , 1.        ],\n",
       "       [0.45806692, 1.        ],\n",
       "       [0.45904933, 1.        ],\n",
       "       [0.46200855, 1.        ],\n",
       "       [0.46869409, 1.        ],\n",
       "       [0.4698657 , 1.        ],\n",
       "       [0.47029932, 1.        ],\n",
       "       [0.47188684, 1.        ],\n",
       "       [0.47215418, 1.        ],\n",
       "       [0.47260853, 1.        ],\n",
       "       [0.47762412, 1.        ],\n",
       "       [0.48017882, 1.        ],\n",
       "       [0.48063096, 1.        ],\n",
       "       [0.48133657, 1.        ],\n",
       "       [0.48253318, 1.        ],\n",
       "       [0.48463968, 1.        ],\n",
       "       [0.48537895, 1.        ],\n",
       "       [0.48692815, 1.        ],\n",
       "       [0.48874187, 1.        ],\n",
       "       [0.48964387, 1.        ],\n",
       "       [0.49143066, 1.        ],\n",
       "       [0.49208305, 1.        ],\n",
       "       [0.49294778, 1.        ],\n",
       "       [0.49340268, 1.        ],\n",
       "       [0.49347097, 1.        ],\n",
       "       [0.49493673, 1.        ],\n",
       "       [0.49904895, 1.        ],\n",
       "       [0.50069308, 1.        ],\n",
       "       [0.50113443, 1.        ],\n",
       "       [0.5013709 , 1.        ],\n",
       "       [0.50274286, 1.        ],\n",
       "       [0.50403425, 1.        ],\n",
       "       [0.50409244, 1.        ],\n",
       "       [0.50571511, 1.        ],\n",
       "       [0.50583892, 1.        ],\n",
       "       [0.51535841, 1.        ],\n",
       "       [0.51686857, 1.        ],\n",
       "       [0.51772929, 1.        ],\n",
       "       [0.51818264, 1.        ],\n",
       "       [0.51857309, 1.        ],\n",
       "       [0.5192766 , 1.        ],\n",
       "       [0.52110617, 1.        ],\n",
       "       [0.52169329, 1.        ],\n",
       "       [0.52264267, 1.        ],\n",
       "       [0.52273113, 1.        ],\n",
       "       [0.52416973, 1.        ],\n",
       "       [0.52482531, 1.        ],\n",
       "       [0.52956778, 1.        ],\n",
       "       [0.53288962, 1.        ],\n",
       "       [0.53368165, 1.        ],\n",
       "       [0.53543136, 1.        ],\n",
       "       [0.53563344, 1.        ],\n",
       "       [0.53673796, 1.        ],\n",
       "       [0.53682084, 1.        ],\n",
       "       [0.53683445, 1.        ],\n",
       "       [0.53930026, 1.        ],\n",
       "       [0.53969088, 1.        ],\n",
       "       [0.54162362, 1.        ],\n",
       "       [0.54195226, 1.        ],\n",
       "       [0.54642688, 1.        ],\n",
       "       [0.54781848, 1.        ],\n",
       "       [0.54885264, 1.        ],\n",
       "       [0.54962909, 1.        ],\n",
       "       [0.54990351, 1.        ],\n",
       "       [0.55212672, 1.        ],\n",
       "       [0.55276314, 1.        ],\n",
       "       [0.55298054, 1.        ],\n",
       "       [0.55811662, 1.        ],\n",
       "       [0.56097059, 1.        ],\n",
       "       [0.56210781, 1.        ],\n",
       "       [0.56257648, 1.        ],\n",
       "       [0.56475013, 1.        ],\n",
       "       [0.56612558, 1.        ],\n",
       "       [0.56755823, 1.        ],\n",
       "       [0.56756104, 1.        ],\n",
       "       [0.56844269, 1.        ],\n",
       "       [0.56850969, 1.        ],\n",
       "       [0.56909783, 1.        ],\n",
       "       [0.56971316, 1.        ],\n",
       "       [0.5706526 , 1.        ],\n",
       "       [0.57076842, 1.        ],\n",
       "       [0.57081129, 1.        ],\n",
       "       [0.57196667, 1.        ],\n",
       "       [0.57432954, 1.        ],\n",
       "       [0.57705137, 1.        ],\n",
       "       [0.57756692, 1.        ],\n",
       "       [0.57860265, 1.        ],\n",
       "       [0.57983486, 1.        ],\n",
       "       [0.58496874, 1.        ],\n",
       "       [0.58644758, 1.        ],\n",
       "       [0.58700504, 1.        ],\n",
       "       [0.58719425, 1.        ],\n",
       "       [0.5873316 , 1.        ],\n",
       "       [0.58742864, 1.        ],\n",
       "       [0.58921539, 1.        ],\n",
       "       [0.59169098, 1.        ],\n",
       "       [0.60000137, 1.        ]])"
      ]
     },
     "execution_count": 37,
     "metadata": {},
     "output_type": "execute_result"
    }
   ],
   "source": [
    "np.array(np.unique(y_pred, return_counts=True)).T"
   ]
  },
  {
   "cell_type": "code",
   "execution_count": 38,
   "metadata": {
    "ExecuteTime": {
     "end_time": "2021-11-30T06:11:09.035954Z",
     "start_time": "2021-11-30T06:11:09.022421Z"
    }
   },
   "outputs": [],
   "source": [
    "y_test = y_test.astype('int')"
   ]
  },
  {
   "cell_type": "code",
   "execution_count": 39,
   "metadata": {
    "ExecuteTime": {
     "end_time": "2021-11-30T06:11:09.051381Z",
     "start_time": "2021-11-30T06:11:09.040474Z"
    }
   },
   "outputs": [],
   "source": [
    "y_pred = y_pred.astype('int')"
   ]
  },
  {
   "cell_type": "code",
   "execution_count": 40,
   "metadata": {
    "ExecuteTime": {
     "end_time": "2021-11-30T06:11:09.066553Z",
     "start_time": "2021-11-30T06:11:09.053857Z"
    }
   },
   "outputs": [
    {
     "data": {
      "text/plain": [
       "array([[45,  0],\n",
       "       [55,  0]], dtype=int64)"
      ]
     },
     "execution_count": 40,
     "metadata": {},
     "output_type": "execute_result"
    }
   ],
   "source": [
    "cnf_matrix = metrics.confusion_matrix(y_test,y_pred)\n",
    "cnf_matrix"
   ]
  },
  {
   "cell_type": "code",
   "execution_count": 41,
   "metadata": {
    "ExecuteTime": {
     "end_time": "2021-11-30T06:11:09.081992Z",
     "start_time": "2021-11-30T06:11:09.069043Z"
    }
   },
   "outputs": [
    {
     "data": {
      "text/plain": [
       "45"
      ]
     },
     "execution_count": 41,
     "metadata": {},
     "output_type": "execute_result"
    }
   ],
   "source": [
    "accuracy_score(y_test, y_pred, normalize=False)"
   ]
  },
  {
   "cell_type": "code",
   "execution_count": 42,
   "metadata": {
    "ExecuteTime": {
     "end_time": "2021-11-30T06:11:09.097455Z",
     "start_time": "2021-11-30T06:11:09.084968Z"
    }
   },
   "outputs": [
    {
     "name": "stdout",
     "output_type": "stream",
     "text": [
      "Accuracy 0.45\n",
      "Precision 0.0\n",
      "Recall 0.0\n",
      "f1_score 0.0\n"
     ]
    },
    {
     "name": "stderr",
     "output_type": "stream",
     "text": [
      "C:\\Users\\ysavi\\Anaconda3\\lib\\site-packages\\sklearn\\metrics\\_classification.py:1221: UndefinedMetricWarning: Precision is ill-defined and being set to 0.0 due to no predicted samples. Use `zero_division` parameter to control this behavior.\n",
      "  _warn_prf(average, modifier, msg_start, len(result))\n"
     ]
    }
   ],
   "source": [
    "print(\"Accuracy\", metrics.accuracy_score(y_test,y_pred))\n",
    "print(\"Precision\", metrics.precision_score(y_test,y_pred))\n",
    "print(\"Recall\", metrics.recall_score(y_test,y_pred))\n",
    "print(\"f1_score\", metrics.f1_score(y_test,y_pred))"
   ]
  },
  {
   "cell_type": "markdown",
   "metadata": {},
   "source": [
    "### ROC and ROC_AUC curve Linear Regression"
   ]
  },
  {
   "cell_type": "code",
   "execution_count": 43,
   "metadata": {
    "ExecuteTime": {
     "end_time": "2021-11-30T06:11:09.112563Z",
     "start_time": "2021-11-30T06:11:09.099403Z"
    }
   },
   "outputs": [
    {
     "name": "stdout",
     "output_type": "stream",
     "text": [
      "roc_auc_score for Linear Regression:  0.5\n"
     ]
    }
   ],
   "source": [
    "from sklearn.model_selection import GridSearchCV\n",
    "from sklearn.metrics import roc_curve, roc_auc_score\n",
    "print('roc_auc_score for Linear Regression: ', roc_auc_score(y_test, y_pred))"
   ]
  },
  {
   "cell_type": "code",
   "execution_count": 44,
   "metadata": {
    "ExecuteTime": {
     "end_time": "2021-11-30T06:11:09.127911Z",
     "start_time": "2021-11-30T06:11:09.113564Z"
    }
   },
   "outputs": [],
   "source": [
    "false_positive_rate1, true_positive_rate1, threshold1 = roc_curve(y_test, y_pred)"
   ]
  },
  {
   "cell_type": "code",
   "execution_count": 45,
   "metadata": {
    "ExecuteTime": {
     "end_time": "2021-11-30T06:11:09.345064Z",
     "start_time": "2021-11-30T06:11:09.131372Z"
    }
   },
   "outputs": [
    {
     "data": {
      "image/png": "[encoded data removed]",
      "text/plain": [
       "<Figure size 720x720 with 1 Axes>"
      ]
     },
     "metadata": {
      "needs_background": "light"
     },
     "output_type": "display_data"
    }
   ],
   "source": [
    "plt.subplots(1, figsize=(10,10))\n",
    "plt.title('Receiver Operating Characteristic - Linear regression')\n",
    "plt.plot(false_positive_rate1, true_positive_rate1)\n",
    "plt.plot([0, 1], ls=\"--\")\n",
    "plt.plot([0, 0], [1, 0] , c=\".7\"), plt.plot([1, 1] , c=\".7\")\n",
    "plt.ylabel('True Positive Rate')\n",
    "plt.xlabel('False Positive Rate')\n",
    "plt.show()\n"
   ]
  },
  {
   "cell_type": "markdown",
   "metadata": {},
   "source": [
    "## Logistic Regression"
   ]
  },
  {
   "cell_type": "code",
   "execution_count": 46,
   "metadata": {
    "ExecuteTime": {
     "end_time": "2021-11-30T06:11:09.361111Z",
     "start_time": "2021-11-30T06:11:09.347060Z"
    }
   },
   "outputs": [],
   "source": [
    "from sklearn.linear_model import LogisticRegression\n",
    "logreg = LogisticRegression()"
   ]
  },
  {
   "cell_type": "code",
   "execution_count": 47,
   "metadata": {
    "ExecuteTime": {
     "end_time": "2021-11-30T06:11:09.391610Z",
     "start_time": "2021-11-30T06:11:09.363496Z"
    }
   },
   "outputs": [
    {
     "data": {
      "text/plain": [
       "LogisticRegression()"
      ]
     },
     "execution_count": 47,
     "metadata": {},
     "output_type": "execute_result"
    }
   ],
   "source": [
    "logreg.fit(X_train, y_train)"
   ]
  },
  {
   "cell_type": "code",
   "execution_count": 48,
   "metadata": {
    "ExecuteTime": {
     "end_time": "2021-11-30T06:11:09.407068Z",
     "start_time": "2021-11-30T06:11:09.393410Z"
    }
   },
   "outputs": [],
   "source": [
    "y_pred = logreg.predict(X_test)"
   ]
  },
  {
   "cell_type": "markdown",
   "metadata": {},
   "source": [
    "### Confusion Matrix for Logistic Regression"
   ]
  },
  {
   "cell_type": "code",
   "execution_count": 49,
   "metadata": {
    "ExecuteTime": {
     "end_time": "2021-11-30T06:11:09.422470Z",
     "start_time": "2021-11-30T06:11:09.410771Z"
    }
   },
   "outputs": [
    {
     "data": {
      "text/plain": [
       "array([1, 1, 1, 1, 1, 1, 1, 1, 1, 1, 1, 1, 1, 1, 1, 1, 1, 1, 1, 1, 1, 1,\n",
       "       1, 1, 1, 1, 1, 1, 1, 1, 1, 1, 1, 1, 1, 1, 1, 1, 1, 1, 1, 1, 1, 1,\n",
       "       1, 1, 1, 1, 1, 1, 1, 1, 1, 1, 1, 1, 1, 1, 1, 1, 1, 1, 1, 1, 1, 1,\n",
       "       1, 1, 1, 1, 1, 1, 1, 1, 1, 1, 1, 1, 1, 1, 1, 1, 1, 1, 1, 1, 1, 1,\n",
       "       1, 1, 1, 1, 1, 1, 1, 1, 1, 1, 1, 1], dtype=int64)"
      ]
     },
     "execution_count": 49,
     "metadata": {},
     "output_type": "execute_result"
    }
   ],
   "source": [
    "y_pred"
   ]
  },
  {
   "cell_type": "code",
   "execution_count": 50,
   "metadata": {
    "ExecuteTime": {
     "end_time": "2021-11-30T06:11:09.437885Z",
     "start_time": "2021-11-30T06:11:09.423470Z"
    }
   },
   "outputs": [
    {
     "data": {
      "text/plain": [
       "emp_id\n",
       "PUR7184    0\n",
       "SAL4446    0\n",
       "MKT1190    0\n",
       "MKT3786    1\n",
       "SAL1728    1\n",
       "          ..\n",
       "MKT8805    0\n",
       "PUR7873    1\n",
       "MKT8164    0\n",
       "MKT1995    1\n",
       "HR2802     0\n",
       "Name: satisfied, Length: 100, dtype: int32"
      ]
     },
     "execution_count": 50,
     "metadata": {},
     "output_type": "execute_result"
    }
   ],
   "source": [
    "y_test"
   ]
  },
  {
   "cell_type": "code",
   "execution_count": 51,
   "metadata": {
    "ExecuteTime": {
     "end_time": "2021-11-30T06:11:09.452987Z",
     "start_time": "2021-11-30T06:11:09.440960Z"
    }
   },
   "outputs": [
    {
     "data": {
      "text/plain": [
       "array([[ 0, 45],\n",
       "       [ 0, 55]], dtype=int64)"
      ]
     },
     "execution_count": 51,
     "metadata": {},
     "output_type": "execute_result"
    }
   ],
   "source": [
    "cnf_matrix = metrics.confusion_matrix(y_test,y_pred)\n",
    "cnf_matrix"
   ]
  },
  {
   "cell_type": "code",
   "execution_count": 52,
   "metadata": {
    "ExecuteTime": {
     "end_time": "2021-11-30T06:11:09.468282Z",
     "start_time": "2021-11-30T06:11:09.455922Z"
    }
   },
   "outputs": [
    {
     "data": {
      "text/plain": [
       "55"
      ]
     },
     "execution_count": 52,
     "metadata": {},
     "output_type": "execute_result"
    }
   ],
   "source": [
    "accuracy_score(y_test, y_pred, normalize=False)"
   ]
  },
  {
   "cell_type": "code",
   "execution_count": 53,
   "metadata": {
    "ExecuteTime": {
     "end_time": "2021-11-30T06:11:09.498789Z",
     "start_time": "2021-11-30T06:11:09.471162Z"
    }
   },
   "outputs": [
    {
     "name": "stdout",
     "output_type": "stream",
     "text": [
      "Accuracy 0.55\n",
      "Precision 0.55\n",
      "Recall 1.0\n",
      "f1_score 0.7096774193548387\n"
     ]
    }
   ],
   "source": [
    "print(\"Accuracy\", metrics.accuracy_score(y_test,y_pred))\n",
    "print(\"Precision\", metrics.precision_score(y_test,y_pred))\n",
    "print(\"Recall\", metrics.recall_score(y_test,y_pred))\n",
    "print(\"f1_score\", metrics.f1_score(y_test,y_pred))"
   ]
  },
  {
   "cell_type": "markdown",
   "metadata": {},
   "source": [
    "### ROC and ROC_AUC curve Logistic Regression"
   ]
  },
  {
   "cell_type": "code",
   "execution_count": 54,
   "metadata": {
    "ExecuteTime": {
     "end_time": "2021-11-30T06:11:09.514749Z",
     "start_time": "2021-11-30T06:11:09.500593Z"
    }
   },
   "outputs": [
    {
     "name": "stdout",
     "output_type": "stream",
     "text": [
      "roc_auc_score for Logistic Regression:  0.5\n"
     ]
    }
   ],
   "source": [
    "print('roc_auc_score for Logistic Regression: ', roc_auc_score(y_test, y_pred))"
   ]
  },
  {
   "cell_type": "code",
   "execution_count": 55,
   "metadata": {
    "ExecuteTime": {
     "end_time": "2021-11-30T06:11:09.530846Z",
     "start_time": "2021-11-30T06:11:09.516975Z"
    }
   },
   "outputs": [],
   "source": [
    "false_positive_rate2, true_positive_rate2, threshold1 = roc_curve(y_test, y_pred)"
   ]
  },
  {
   "cell_type": "code",
   "execution_count": 56,
   "metadata": {
    "ExecuteTime": {
     "end_time": "2021-11-30T06:11:09.748455Z",
     "start_time": "2021-11-30T06:11:09.532787Z"
    }
   },
   "outputs": [
    {
     "data": {
      "image/png": "[encoded data removed]",
      "text/plain": [
       "<Figure size 720x720 with 1 Axes>"
      ]
     },
     "metadata": {
      "needs_background": "light"
     },
     "output_type": "display_data"
    }
   ],
   "source": [
    "plt.subplots(1, figsize=(10,10))\n",
    "plt.title('Receiver Operating Characteristic - Logistic regression')\n",
    "plt.plot(false_positive_rate1, true_positive_rate1)\n",
    "plt.plot([0, 1], ls=\"--\")\n",
    "plt.plot([0, 0], [1, 0] , c=\".7\"), plt.plot([1, 1] , c=\".7\")\n",
    "plt.ylabel('True Positive Rate2')\n",
    "plt.xlabel('False Positive Rate2')\n",
    "plt.show()\n"
   ]
  },
  {
   "cell_type": "markdown",
   "metadata": {},
   "source": [
    "## Applying Machine Learning Algorithms"
   ]
  },
  {
   "cell_type": "code",
   "execution_count": 57,
   "metadata": {
    "ExecuteTime": {
     "end_time": "2021-11-30T06:11:09.763771Z",
     "start_time": "2021-11-30T06:11:09.751659Z"
    }
   },
   "outputs": [],
   "source": [
    "from sklearn.metrics import accuracy_score, confusion_matrix, classification_report\n",
    "\n",
    "def print_score(clf, X_train, y_train, X_test, y_test, train=True):\n",
    "    if train:\n",
    "        pred = clf.predict(X_train)\n",
    "        clf_report = pd.DataFrame(classification_report(y_train, pred, output_dict=True))\n",
    "        print(\"Train Result:\\n================================================\")\n",
    "        print(f\"Accuracy Score: {accuracy_score(y_train, pred) * 100:.2f}%\")\n",
    "        print(\"_______________________________________________\")\n",
    "        print(f\"CLASSIFICATION REPORT:\\n{clf_report}\")\n",
    "        print(\"_______________________________________________\")\n",
    "        print(f\"Confusion Matrix: \\n {confusion_matrix(y_train, pred)}\\n\")\n",
    "        \n",
    "    elif train==False:\n",
    "        pred = clf.predict(X_test)\n",
    "        clf_report = pd.DataFrame(classification_report(y_test, pred, output_dict=True))\n",
    "        print(\"Test Result:\\n================================================\")        \n",
    "        print(f\"Accuracy Score: {accuracy_score(y_test, pred) * 100:.2f}%\")\n",
    "        print(\"_______________________________________________\")\n",
    "        print(f\"CLASSIFICATION REPORT:\\n{clf_report}\")\n",
    "        print(\"_______________________________________________\")\n",
    "        print(f\"Confusion Matrix: \\n {confusion_matrix(y_test, pred)}\\n\")\n"
   ]
  },
  {
   "cell_type": "markdown",
   "metadata": {},
   "source": [
    "### Decision Tree"
   ]
  },
  {
   "cell_type": "code",
   "execution_count": 84,
   "metadata": {
    "ExecuteTime": {
     "end_time": "2021-11-30T07:45:22.422476Z",
     "start_time": "2021-11-30T07:45:22.407483Z"
    }
   },
   "outputs": [],
   "source": [
    "X=df[['age','location','Dept','education','recruitment_type','rating','onsite','awards','certifications','salary']]\n",
    "y= df['satisfied']"
   ]
  },
  {
   "cell_type": "code",
   "execution_count": 85,
   "metadata": {
    "ExecuteTime": {
     "end_time": "2021-11-30T07:45:23.481690Z",
     "start_time": "2021-11-30T07:45:23.462447Z"
    }
   },
   "outputs": [],
   "source": [
    "X_train,X_test,y_train,y_test = train_test_split(X, y, test_size=0.2, random_state=0)"
   ]
  },
  {
   "cell_type": "code",
   "execution_count": 86,
   "metadata": {
    "ExecuteTime": {
     "end_time": "2021-11-30T07:45:25.237431Z",
     "start_time": "2021-11-30T07:45:25.162352Z"
    }
   },
   "outputs": [
    {
     "name": "stdout",
     "output_type": "stream",
     "text": [
      "Train Result:\n",
      "================================================\n",
      "Accuracy Score: 56.25%\n",
      "_______________________________________________\n",
      "CLASSIFICATION REPORT:\n",
      "                    0           1  accuracy   macro avg  weighted avg\n",
      "precision    0.549708    0.572052    0.5625    0.560880      0.561327\n",
      "recall       0.489583    0.629808    0.5625    0.559696      0.562500\n",
      "f1-score     0.517906    0.599542    0.5625    0.558724      0.560357\n",
      "support    192.000000  208.000000    0.5625  400.000000    400.000000\n",
      "_______________________________________________\n",
      "Confusion Matrix: \n",
      " [[ 94  98]\n",
      " [ 77 131]]\n",
      "\n",
      "Test Result:\n",
      "================================================\n",
      "Accuracy Score: 56.00%\n",
      "_______________________________________________\n",
      "CLASSIFICATION REPORT:\n",
      "                   0          1  accuracy   macro avg  weighted avg\n",
      "precision   0.513514   0.587302      0.56    0.550408      0.554097\n",
      "recall      0.422222   0.672727      0.56    0.547475      0.560000\n",
      "f1-score    0.463415   0.627119      0.56    0.545267      0.553452\n",
      "support    45.000000  55.000000      0.56  100.000000    100.000000\n",
      "_______________________________________________\n",
      "Confusion Matrix: \n",
      " [[19 26]\n",
      " [18 37]]\n",
      "\n"
     ]
    }
   ],
   "source": [
    "from sklearn.tree import DecisionTreeClassifier\n",
    "\n",
    "tree_clf = DecisionTreeClassifier(max_depth=2,random_state=42)\n",
    "tree_clf.fit(X_train, y_train)\n",
    "\n",
    "print_score(tree_clf, X_train, y_train, X_test, y_test, train=True)\n",
    "print_score(tree_clf, X_train, y_train, X_test, y_test, train=False)"
   ]
  },
  {
   "cell_type": "code",
   "execution_count": null,
   "metadata": {},
   "outputs": [],
   "source": []
  },
  {
   "cell_type": "code",
   "execution_count": null,
   "metadata": {},
   "outputs": [],
   "source": []
  },
  {
   "cell_type": "code",
   "execution_count": null,
   "metadata": {},
   "outputs": [],
   "source": []
  },
  {
   "cell_type": "markdown",
   "metadata": {},
   "source": [
    "### Random Forest"
   ]
  },
  {
   "cell_type": "code",
   "execution_count": 87,
   "metadata": {
    "ExecuteTime": {
     "end_time": "2021-11-30T07:47:57.009301Z",
     "start_time": "2021-11-30T07:47:56.991162Z"
    }
   },
   "outputs": [],
   "source": [
    "from sklearn.ensemble import RandomForestClassifier "
   ]
  },
  {
   "cell_type": "code",
   "execution_count": 88,
   "metadata": {
    "ExecuteTime": {
     "end_time": "2021-11-30T07:47:57.894886Z",
     "start_time": "2021-11-30T07:47:57.876943Z"
    }
   },
   "outputs": [],
   "source": [
    "X=df[['age','location','Dept','education','recruitment_type','rating','onsite','awards','certifications','salary']]\n",
    "y= df['satisfied']"
   ]
  },
  {
   "cell_type": "code",
   "execution_count": 89,
   "metadata": {
    "ExecuteTime": {
     "end_time": "2021-11-30T07:48:00.152127Z",
     "start_time": "2021-11-30T07:48:00.135864Z"
    }
   },
   "outputs": [],
   "source": [
    "X_train,X_test,y_train,y_test = train_test_split(X, y, test_size=0.2, random_state=0)"
   ]
  },
  {
   "cell_type": "code",
   "execution_count": 90,
   "metadata": {
    "ExecuteTime": {
     "end_time": "2021-11-30T07:48:01.164620Z",
     "start_time": "2021-11-30T07:48:01.153860Z"
    }
   },
   "outputs": [],
   "source": [
    "RF = RandomForestClassifier()"
   ]
  },
  {
   "cell_type": "code",
   "execution_count": 91,
   "metadata": {
    "ExecuteTime": {
     "end_time": "2021-11-30T07:48:02.419320Z",
     "start_time": "2021-11-30T07:48:02.078716Z"
    }
   },
   "outputs": [],
   "source": [
    "RF = RF.fit(X_train, y_train)"
   ]
  },
  {
   "cell_type": "code",
   "execution_count": 92,
   "metadata": {
    "ExecuteTime": {
     "end_time": "2021-11-30T07:48:04.893470Z",
     "start_time": "2021-11-30T07:48:04.832257Z"
    }
   },
   "outputs": [],
   "source": [
    "y_pred = RF.predict(X_test)"
   ]
  },
  {
   "cell_type": "code",
   "execution_count": 93,
   "metadata": {
    "ExecuteTime": {
     "end_time": "2021-11-30T07:48:07.866334Z",
     "start_time": "2021-11-30T07:48:07.837504Z"
    }
   },
   "outputs": [
    {
     "name": "stdout",
     "output_type": "stream",
     "text": [
      "Accuracy: 0.53\n",
      "Precision 0.5769230769230769\n",
      "Recall 0.5454545454545454\n",
      "f1_score 0.5607476635514018\n"
     ]
    }
   ],
   "source": [
    "print(\"Accuracy:\",metrics.accuracy_score(y_test, y_pred))\n",
    "print(\"Precision\", metrics.precision_score(y_test,y_pred))\n",
    "print(\"Recall\", metrics.recall_score(y_test,y_pred))\n",
    "print(\"f1_score\", metrics.f1_score(y_test,y_pred))"
   ]
  },
  {
   "cell_type": "markdown",
   "metadata": {},
   "source": [
    "## Naive Bayes"
   ]
  },
  {
   "cell_type": "code",
   "execution_count": 94,
   "metadata": {
    "ExecuteTime": {
     "end_time": "2021-11-30T07:48:19.833589Z",
     "start_time": "2021-11-30T07:48:19.820146Z"
    }
   },
   "outputs": [],
   "source": [
    "from sklearn.naive_bayes import GaussianNB "
   ]
  },
  {
   "cell_type": "code",
   "execution_count": 95,
   "metadata": {
    "ExecuteTime": {
     "end_time": "2021-11-30T07:48:20.676212Z",
     "start_time": "2021-11-30T07:48:20.658512Z"
    }
   },
   "outputs": [],
   "source": [
    "X=df[['age','location','Dept','education','recruitment_type','rating','onsite','awards','certifications','salary']]\n",
    "y= df['satisfied']"
   ]
  },
  {
   "cell_type": "code",
   "execution_count": 96,
   "metadata": {
    "ExecuteTime": {
     "end_time": "2021-11-30T07:48:21.512247Z",
     "start_time": "2021-11-30T07:48:21.493335Z"
    }
   },
   "outputs": [],
   "source": [
    "X_train,X_test,y_train,y_test = train_test_split(X, y, test_size=0.2, random_state=0)"
   ]
  },
  {
   "cell_type": "code",
   "execution_count": 97,
   "metadata": {
    "ExecuteTime": {
     "end_time": "2021-11-30T07:48:28.904035Z",
     "start_time": "2021-11-30T07:48:28.886984Z"
    }
   },
   "outputs": [],
   "source": [
    "gnb = GaussianNB()"
   ]
  },
  {
   "cell_type": "code",
   "execution_count": 98,
   "metadata": {
    "ExecuteTime": {
     "end_time": "2021-11-30T07:48:29.654243Z",
     "start_time": "2021-11-30T07:48:29.621162Z"
    }
   },
   "outputs": [
    {
     "data": {
      "text/plain": [
       "GaussianNB()"
      ]
     },
     "execution_count": 98,
     "metadata": {},
     "output_type": "execute_result"
    }
   ],
   "source": [
    "gnb.fit(X_train,y_train)"
   ]
  },
  {
   "cell_type": "code",
   "execution_count": 99,
   "metadata": {
    "ExecuteTime": {
     "end_time": "2021-11-30T07:48:30.635782Z",
     "start_time": "2021-11-30T07:48:30.617842Z"
    }
   },
   "outputs": [],
   "source": [
    "y_pred = gnb.predict(X_test)"
   ]
  },
  {
   "cell_type": "code",
   "execution_count": 100,
   "metadata": {
    "ExecuteTime": {
     "end_time": "2021-11-30T07:48:32.779804Z",
     "start_time": "2021-11-30T07:48:32.761771Z"
    }
   },
   "outputs": [
    {
     "name": "stdout",
     "output_type": "stream",
     "text": [
      "Accuracy: 0.55\n"
     ]
    }
   ],
   "source": [
    "print(\"Accuracy:\", metrics.accuracy_score(y_test,y_pred))"
   ]
  },
  {
   "cell_type": "code",
   "execution_count": null,
   "metadata": {},
   "outputs": [],
   "source": []
  }
 ],
 "metadata": {
  "kernelspec": {
   "display_name": "Python 3",
   "language": "python",
   "name": "python3"
  },
  "language_info": {
   "codemirror_mode": {
    "name": "ipython",
    "version": 3
   },
   "file_extension": ".py",
   "mimetype": "text/x-python",
   "name": "python",
   "nbconvert_exporter": "python",
   "pygments_lexer": "ipython3",
   "version": "3.8.5"
  },
  "toc": {
   "base_numbering": 1,
   "nav_menu": {},
   "number_sections": true,
   "sideBar": true,
   "skip_h1_title": false,
   "title_cell": "Table of Contents",
   "title_sidebar": "Contents",
   "toc_cell": false,
   "toc_position": {},
   "toc_section_display": true,
   "toc_window_display": true
  }
 },
 "nbformat": 4,
 "nbformat_minor": 4
}
